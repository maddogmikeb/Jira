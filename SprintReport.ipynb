{
  "cells": [
    {
      "cell_type": "markdown",
      "metadata": {
        "id": "view-in-github",
        "colab_type": "text"
      },
      "source": [
        "<a href=\"https://colab.research.google.com/github/maddogmikeb/Jira/blob/master/SprintReport.ipynb\" target=\"_parent\"><img src=\"https://colab.research.google.com/assets/colab-badge.svg\" alt=\"Open In Colab\"/></a>"
      ]
    },
    {
      "cell_type": "code",
      "source": [
        "from IPython.display import clear_output, HTML, display\n",
        "\n",
        "%pip uninstall -q UltimateJiraSprintReport --yes\n",
        "%pip install -q git+https://github.com/maddogmikeb/UltimateJiraSprintReport.git\n",
        "\n",
        "clear_output()"
      ],
      "metadata": {
        "id": "2cg7gNvvU6VI"
      },
      "execution_count": null,
      "outputs": []
    },
    {
      "cell_type": "code",
      "execution_count": null,
      "metadata": {
        "id": "8ShyenAYeX0O"
      },
      "outputs": [],
      "source": [
        "from IPython.display import clear_output, HTML, display\n",
        "from UltimateJiraSprintReport.UltimateJiraSprintReport import UltimateJiraSprintReport\n",
        "\n",
        "try:\n",
        "\tfrom google.colab import userdata\n",
        "\thost = userdata.get(\"ATLASSIAN_HOST\")\n",
        "\tusername = userdata.get(\"ATLASSIAN_USERNAME\")\n",
        "\tapi_key = userdata.get(\"ATLASSIAN_APIKEY\")\n",
        "\tzephyr_api = userdata.get(\"ZEPHYR_SCALE_APIKEY\")\n",
        "except:\n",
        "\timport os\n",
        "\tWarning(\"Not using google colab - defaulting to normal environment variables\")\n",
        "\thost = os.getenv(\"ATLASSIAN_HOST\")\n",
        "\tusername = os.getenv(\"ATLASSIAN_USERNAME\")\n",
        "\tapi_key = os.getenv(\"ATLASSIAN_APIKEY\")\n",
        "\tzephyr_api = os.getenv(\"ZEPHYR_SCALE_APIKEY\")\n",
        "\tpass\n",
        "\n",
        "report = UltimateJiraSprintReport(\n",
        "\tusername=username, password=api_key, jira_scheme_url=host\n",
        ")\n",
        "\n",
        "if not report.is_connected():\n",
        "  raise Exception(\"Error while connecting to Jira\")\n",
        "\n",
        "display(HTML(report.show_login_details()))"
      ]
    },
    {
      "cell_type": "code",
      "execution_count": null,
      "metadata": {
        "id": "0zmokxXpprYF"
      },
      "outputs": [],
      "source": [
        "from IPython.display import HTML, display\n",
        "\n",
        "report.load(\"FDSEWMSR\", 364, 945)\n",
        "\n",
        "if zephyr_api != None:\n",
        "    zephyr_plugin = report.load_plugin(\"zephyr_scale\", zephyr_api=zephyr_api).load()\n",
        "\n",
        "display(HTML(report.show_report()))\n",
        "\n",
        "if zephyr_api != None:\n",
        "    display(HTML(zephyr_plugin.show_report()))\n"
      ]
    },
    {
      "cell_type": "code",
      "execution_count": null,
      "metadata": {
        "id": "VEGmoVo3sCBU"
      },
      "outputs": [],
      "source": [
        "from IPython.display import HTML, display\n",
        "\n",
        "report.load(\"FDSEWMSR\", 401, 953)\n",
        "\n",
        "if zephyr_api != None:\n",
        "    zephyr_plugin = report.load_plugin(\"zephyr_scale\", zephyr_api=zephyr_api).load()\n",
        "\n",
        "display(HTML(report.show_report()))\n",
        "\n",
        "if zephyr_api != None:\n",
        "    display(HTML(zephyr_plugin.show_report()))"
      ]
    }
  ],
  "metadata": {
    "colab": {
      "provenance": [],
      "include_colab_link": true
    },
    "kernelspec": {
      "display_name": "Python 3",
      "name": "python3"
    },
    "language_info": {
      "codemirror_mode": {
        "name": "ipython",
        "version": 3
      },
      "file_extension": ".py",
      "mimetype": "text/x-python",
      "name": "python",
      "nbconvert_exporter": "python",
      "pygments_lexer": "ipython3",
      "version": "3.12.1"
    }
  },
  "nbformat": 4,
  "nbformat_minor": 0
}