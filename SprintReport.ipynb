{
  "cells": [
    {
      "cell_type": "code",
      "execution_count": null,
      "metadata": {
        "id": "zygpF260bYi0"
      },
      "outputs": [],
      "source": [
        "# Load the Ultimate Sprint Report library\n",
        "\n",
        "import requests\n",
        "import nbconvert\n",
        "import nbformat\n",
        "import time\n",
        "\n",
        "class UltimateSprintReport:\n",
        "\tpass # Temp class to stop error\n",
        "\n",
        "source, _ = (nbconvert.PythonExporter()\n",
        "\t.from_notebook_node(nbformat.reads((requests\n",
        "\t\t.get(f'https://raw.githubusercontent.com/maddogmikeb/Jira/refs/heads/master/UltimateSprintReport.ipynb?_t={int(time.time())}' )\n",
        "\t\t.text), as_version=4))\n",
        ")\n",
        "exec(source)\n",
        "\n",
        "from IPython.display import clear_output\n",
        "clear_output()"
      ]
    },
    {
      "cell_type": "code",
      "execution_count": null,
      "metadata": {
        "colab": {
          "base_uri": "https://localhost:8080/",
          "height": 59
        },
        "id": "8ShyenAYeX0O",
        "outputId": "ad2d6fba-eb8d-434a-a86d-411f75d957d5"
      },
      "outputs": [],
      "source": [
        "from IPython.display import HTML, display\n",
        "import os \n",
        "try:\n",
        "\tfrom google.colab import userdata\n",
        "\tos.getenv = userdata.get\n",
        "except:\n",
        "\tWarning(\"Not using google colab - defaulting to normal environment variables\")\n",
        "\tpass\t\n",
        "\n",
        "host = os.getenv(\"ATLASSIAN_HOST\")\n",
        "username = os.getenv(\"ATLASSIAN_USERNAME\")\n",
        "api_key = os.getenv(\"ATLASSIAN_APIKEY\")\n",
        "zephyr_api = os.getenv(\"ZEPHYR_SCALE_APIKEY\")\n",
        "\n",
        "if host[-1] != \"/\":\n",
        "\thost += \"/\"\n",
        "report = UltimateSprintReport(\n",
        "\tusername=username, password=api_key, jira_url=host\n",
        ")\n",
        "\n",
        "if not report.connected():\n",
        "  raise Exception(\"Error while connecting to Jira\")\n",
        "\n",
        "display(HTML(report.show_login_details()))"
      ]
    },
    {
      "cell_type": "code",
      "execution_count": null,
      "metadata": {
        "colab": {
          "base_uri": "https://localhost:8080/",
          "height": 1000
        },
        "id": "VEGmoVo3sCBU",
        "outputId": "5b3d6210-9117-440e-e8de-dfb16e5b12fa"
      },
      "outputs": [],
      "source": [
        "from IPython.display import HTML, display\n",
        "\n",
        "report.load(host, \"FDSEWMSR\", 215, 732)\n",
        "\n",
        "\"\"\" Alternatively, you can load the report by specifying the 'classic' sprint report url \"\"\" \n",
        "\"\"\"\n",
        "boardId = 215\n",
        "sprintId = 732\n",
        "project = \"FDSEWMSR\"\n",
        "\n",
        "sprint_url = f\"{host}jira/software/c/projects/{project}/boards/{boardId}/reports/sprint-retrospective?sprint={sprintId}\"\n",
        "\n",
        "report.load_url(sprint_url)\n",
        "\"\"\" \n",
        "\n",
        "if zephyr_api != None:\n",
        "    report.load_sprint_zephyr_test_cast_statistics(zephyr_api)\n",
        "\n",
        "display(HTML(report.show_report()))"
      ]
    }
  ],
  "metadata": {
    "colab": {
      "authorship_tag": "ABX9TyPt3J23uWuyDFuKz6XN6pK5",
      "include_colab_link": true,
      "provenance": []
    },
    "kernelspec": {
      "display_name": "Python 3",
      "name": "python3"
    },
    "language_info": {
      "codemirror_mode": {
        "name": "ipython",
        "version": 3
      },
      "file_extension": ".py",
      "mimetype": "text/x-python",
      "name": "python",
      "nbconvert_exporter": "python",
      "pygments_lexer": "ipython3",
      "version": "3.12.1"
    }
  },
  "nbformat": 4,
  "nbformat_minor": 0
}
