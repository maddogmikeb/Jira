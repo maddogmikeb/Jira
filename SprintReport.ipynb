{
  "cells": [
    {
      "cell_type": "code",
      "execution_count": 42,
      "metadata": {
        "id": "zygpF260bYi0"
      },
      "outputs": [],
      "source": [
        "# Load the Ultimate Sprint Report library\n",
        "\n",
        "from IPython.display import clear_output\n",
        "import requests\n",
        "import nbconvert\n",
        "import nbformat\n",
        "import time\n",
        "\n",
        "class UltimateSprintReport:\n",
        "\tpass # Temp class to stop error\n",
        "\n",
        "source, _ = (nbconvert.PythonExporter()\n",
        "\t.from_notebook_node(nbformat.reads((requests\n",
        "\t\t.get(f'https://raw.githubusercontent.com/maddogmikeb/Jira/refs/heads/master/UltimateSprintReport.ipynb?_t={int(time.time())}' )\n",
        "\t\t.text), as_version=4))\n",
        ")\n",
        "exec(source)\n",
        "\n",
        "clear_output()"
      ]
    },
    {
      "cell_type": "code",
      "execution_count": 43,
      "metadata": {
        "colab": {
          "base_uri": "https://localhost:8080/",
          "height": 59
        },
        "id": "8ShyenAYeX0O",
        "outputId": "ad2d6fba-eb8d-434a-a86d-411f75d957d5"
      },
      "outputs": [
        {
          "data": {
            "text/html": [
              "\n",
              "\t  <table>\n",
              "\t\t<tr>\n",
              "\t\t  <td>Currently logged in as:</td>\n",
              "\t\t  <td>Mike Burns</td>\n",
              "\t\t  <td><img src='https://avatar-management--avatars.us-west-2.prod.public.atl-paas.net/712020:d9c65884-1656-4f68-827c-32ec1a4ae098/2b84f57d-857a-4828-9cfe-4aa7b8843673/32' /><td>\n",
              "\t\t</tr>\n",
              "\t  </table>\n",
              "\t"
            ],
            "text/plain": [
              "<IPython.core.display.HTML object>"
            ]
          },
          "metadata": {},
          "output_type": "display_data"
        }
      ],
      "source": [
        "from IPython.display import HTML, display\n",
        "import os \n",
        "try:\n",
        "\tfrom google.colab import userdata\n",
        "\tos.getenv = userdata.get\n",
        "except:\n",
        "\tWarning(\"Not using google colab - defaulting to normal environment variables\")\n",
        "\tpass\t\n",
        "\n",
        "host = os.getenv(\"ATLASSIAN_HOST\")\n",
        "username = os.getenv(\"ATLASSIAN_USERNAME\")\n",
        "api_key = os.getenv(\"ATLASSIAN_APIKEY\")\n",
        "\n",
        "if host[-1] != \"/\":\n",
        "\thost += \"/\"\n",
        "report = UltimateSprintReport(\n",
        "\tusername=username, password=api_key, jira_url=host\n",
        ")\n",
        "\n",
        "if not report.connected():\n",
        "  raise Exception(\"Error while connecting to Jira\")\n",
        "\n",
        "display(HTML(report.show_login_details()))"
      ]
    },
    {
      "cell_type": "code",
      "execution_count": null,
      "metadata": {
        "colab": {
          "base_uri": "https://localhost:8080/",
          "height": 1000
        },
        "id": "VEGmoVo3sCBU",
        "outputId": "5b3d6210-9117-440e-e8de-dfb16e5b12fa"
      },
      "outputs": [
        {
          "ename": "TypeError",
          "evalue": "UltimateSprintReport.load() takes 2 positional arguments but 4 were given",
          "output_type": "error",
          "traceback": [
            "\u001b[0;31m---------------------------------------------------------------------------\u001b[0m",
            "\u001b[0;31mTypeError\u001b[0m                                 Traceback (most recent call last)",
            "Cell \u001b[0;32mIn[45], line 3\u001b[0m\n\u001b[1;32m      1\u001b[0m \u001b[38;5;28;01mfrom\u001b[39;00m \u001b[38;5;21;01mIPython\u001b[39;00m\u001b[38;5;21;01m.\u001b[39;00m\u001b[38;5;21;01mdisplay\u001b[39;00m \u001b[38;5;28;01mimport\u001b[39;00m HTML, display\n\u001b[0;32m----> 3\u001b[0m display(HTML(\u001b[43mreport\u001b[49m\u001b[38;5;241;43m.\u001b[39;49m\u001b[43mload\u001b[49m\u001b[43m(\u001b[49m\u001b[38;5;124;43m\"\u001b[39;49m\u001b[38;5;124;43mFDSEWMSR\u001b[39;49m\u001b[38;5;124;43m\"\u001b[39;49m\u001b[43m,\u001b[49m\u001b[43m \u001b[49m\u001b[38;5;241;43m215\u001b[39;49m\u001b[43m,\u001b[49m\u001b[43m \u001b[49m\u001b[38;5;241;43m732\u001b[39;49m\u001b[43m)\u001b[49m\u001b[38;5;241m.\u001b[39mshow_report()))\n\u001b[1;32m      5\u001b[0m boardId \u001b[38;5;241m=\u001b[39m \u001b[38;5;241m215\u001b[39m\n\u001b[1;32m      6\u001b[0m sprintId \u001b[38;5;241m=\u001b[39m \u001b[38;5;241m732\u001b[39m\n",
            "\u001b[0;31mTypeError\u001b[0m: UltimateSprintReport.load() takes 2 positional arguments but 4 were given"
          ]
        }
      ],
      "source": [
        "from IPython.display import HTML, display\n",
        "\n",
        "display(HTML(report.load(\"FDSEWMSR\", 215, 732).show_report()))\n",
        "\n",
        "boardId = 215\n",
        "sprintId = 732\n",
        "project = \"FDSEWMSR\"\n",
        "\n",
        "sprint_url = f\"{host}jira/software/c/projects/{project}/boards/{boardId}/reports/sprint-retrospective?sprint={sprintId}\"\n",
        "\n",
        "display(HTML(report.load_url(sprint_url).show_report()))\n",
        "\n"
      ]
    }
  ],
  "metadata": {
    "colab": {
      "authorship_tag": "ABX9TyPt3J23uWuyDFuKz6XN6pK5",
      "include_colab_link": true,
      "provenance": []
    },
    "kernelspec": {
      "display_name": "Python 3",
      "name": "python3"
    },
    "language_info": {
      "codemirror_mode": {
        "name": "ipython",
        "version": 3
      },
      "file_extension": ".py",
      "mimetype": "text/x-python",
      "name": "python",
      "nbconvert_exporter": "python",
      "pygments_lexer": "ipython3",
      "version": "3.12.1"
    }
  },
  "nbformat": 4,
  "nbformat_minor": 0
}
