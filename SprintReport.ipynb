{
  "cells": [
    {
      "cell_type": "markdown",
      "metadata": {
        "id": "view-in-github",
        "colab_type": "text"
      },
      "source": [
        "<a href=\"https://colab.research.google.com/github/maddogmikeb/Jira/blob/master/SprintReport.ipynb\" target=\"_parent\"><img src=\"https://colab.research.google.com/assets/colab-badge.svg\" alt=\"Open In Colab\"/></a>"
      ]
    },
    {
      "cell_type": "code",
      "source": [
        "from IPython.display import clear_output, HTML, display\n",
        "\n",
        "%pip uninstall -q UltimateJiraSprintReport --yes\n",
        "%pip install -q git+https://github.com/maddogmikeb/UltimateJiraSprintReport.git\n",
        "\n",
        "clear_output()"
      ],
      "metadata": {
        "id": "2cg7gNvvU6VI"
      },
      "execution_count": null,
      "outputs": []
    },
    {
      "cell_type": "code",
      "execution_count": null,
      "metadata": {
        "id": "8ShyenAYeX0O"
      },
      "outputs": [],
      "source": [
        "from IPython.display import clear_output, HTML, display\n",
        "from UltimateJiraSprintReport.UltimateJiraSprintReport import UltimateJiraSprintReport\n",
        "\n",
        "try:\n",
        "\tfrom google.colab import userdata\n",
        "\thost = userdata.get(\"ATLASSIAN_HOST\")\n",
        "\tusername = userdata.get(\"ATLASSIAN_USERNAME\")\n",
        "\tapi_key = userdata.get(\"ATLASSIAN_APIKEY\")\n",
        "\tzephyr_api = userdata.get(\"ZEPHYR_SCALE_APIKEY\")\n",
        "except:\n",
        "\timport os\n",
        "\tWarning(\"Not using google colab - defaulting to normal environment variables\")\n",
        "\thost = os.getenv(\"ATLASSIAN_HOST\")\n",
        "\tusername = os.getenv(\"ATLASSIAN_USERNAME\")\n",
        "\tapi_key = os.getenv(\"ATLASSIAN_APIKEY\")\n",
        "\tzephyr_api = os.getenv(\"ZEPHYR_SCALE_APIKEY\")\n",
        "\tpass\n",
        "\n",
        "report = UltimateJiraSprintReport(\n",
        "\tusername=username, password=api_key, jira_scheme_url=host\n",
        ")\n",
        "\n",
        "if not report.is_connected():\n",
        "  raise Exception(\"Error while connecting to Jira\")\n",
        "\n",
        "display(HTML(report.show_login_details()))"
      ]
    },
    {
      "cell_type": "code",
      "execution_count": null,
      "metadata": {
        "id": "0zmokxXpprYF"
      },
      "outputs": [],
      "source": [
        "from IPython.display import HTML, display\n",
        "\n",
        "report.load(\"FDSEWMSR\", 364, 946)\n",
        "\n",
        "if zephyr_api != None:\n",
        "    zephyr_plugin = report.load_plugin(\"zephyr_scale\", zephyr_api=zephyr_api).load()"
      ]
    },
    {
      "cell_type": "code",
      "source": [
        "display(HTML(report.show_sprint_details()))"
      ],
      "metadata": {
        "id": "9xDRUfNNvhlT"
      },
      "execution_count": null,
      "outputs": []
    },
    {
      "cell_type": "code",
      "source": [
        "display(HTML(report.show_sprint_predictability()))"
      ],
      "metadata": {
        "id": "pCLxKQFSvjP1"
      },
      "execution_count": null,
      "outputs": []
    },
    {
      "cell_type": "code",
      "source": [
        "display(HTML(report.show_committed_vs_planned_chart()))"
      ],
      "metadata": {
        "id": "cVdOV6G3vjMF"
      },
      "execution_count": null,
      "outputs": []
    },
    {
      "cell_type": "code",
      "source": [
        "display(HTML(report.show_burndown_chart()))"
      ],
      "metadata": {
        "id": "k8OerFKgvjI_"
      },
      "execution_count": null,
      "outputs": []
    },
    {
      "cell_type": "code",
      "source": [
        "display(HTML(report.show_committed_vs_planned()))"
      ],
      "metadata": {
        "id": "KV2hp68OvjD7"
      },
      "execution_count": null,
      "outputs": []
    },
    {
      "cell_type": "code",
      "source": [
        "display(HTML(report.show_sprint_issue_types_statistics()))"
      ],
      "metadata": {
        "id": "abT4lerevi2x"
      },
      "execution_count": null,
      "outputs": []
    },
    {
      "cell_type": "code",
      "source": [
        "display(HTML(report.show_predictability()))"
      ],
      "metadata": {
        "id": "2MTi4uYEvyOj"
      },
      "execution_count": null,
      "outputs": []
    },
    {
      "cell_type": "code",
      "source": [
        "display(HTML(report.show_epic_statistics()))"
      ],
      "metadata": {
        "id": "mCsKanuRvyKZ"
      },
      "execution_count": null,
      "outputs": []
    },
    {
      "cell_type": "code",
      "source": [
        "display(HTML(zephyr_plugin.show_report()))"
      ],
      "metadata": {
        "id": "I9EosS9ZvyGb"
      },
      "execution_count": null,
      "outputs": []
    },
    {
      "cell_type": "code",
      "source": [
        "display(HTML(report.show_burndown_table()))"
      ],
      "metadata": {
        "id": "AREoehWgvLXc"
      },
      "execution_count": null,
      "outputs": []
    }
  ],
  "metadata": {
    "colab": {
      "provenance": [],
      "include_colab_link": true
    },
    "kernelspec": {
      "display_name": "Python 3",
      "name": "python3"
    },
    "language_info": {
      "codemirror_mode": {
        "name": "ipython",
        "version": 3
      },
      "file_extension": ".py",
      "mimetype": "text/x-python",
      "name": "python",
      "nbconvert_exporter": "python",
      "pygments_lexer": "ipython3",
      "version": "3.12.1"
    }
  },
  "nbformat": 4,
  "nbformat_minor": 0
}