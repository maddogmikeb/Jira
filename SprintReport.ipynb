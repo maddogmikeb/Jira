{
  "nbformat": 4,
  "nbformat_minor": 0,
  "metadata": {
    "colab": {
      "provenance": [],
      "authorship_tag": "ABX9TyOVJ6Q15LMNO04QpDAwRxqd",
      "include_colab_link": true
    },
    "kernelspec": {
      "name": "python3",
      "display_name": "Python 3"
    },
    "language_info": {
      "name": "python"
    }
  },
  "cells": [
    {
      "cell_type": "markdown",
      "metadata": {
        "id": "view-in-github",
        "colab_type": "text"
      },
      "source": [
        "<a href=\"https://colab.research.google.com/github/maddogmikeb/Jira/blob/master/SprintReport.ipynb\" target=\"_parent\"><img src=\"https://colab.research.google.com/assets/colab-badge.svg\" alt=\"Open In Colab\"/></a>"
      ]
    },
    {
      "cell_type": "code",
      "source": [
        "!pip install -q import-ipynb"
      ],
      "metadata": {
        "id": "V_6wkSRAbxzr",
        "outputId": "ce333ecc-9cba-4f62-847b-0294e1b6c0aa",
        "colab": {
          "base_uri": "https://localhost:8080/"
        }
      },
      "execution_count": 2,
      "outputs": [
        {
          "output_type": "stream",
          "name": "stdout",
          "text": [
            "\u001b[?25l   \u001b[90m━━━━━━━━━━━━━━━━━━━━━━━━━━━━━━━━━━━━━━━━\u001b[0m \u001b[32m0.0/1.6 MB\u001b[0m \u001b[31m?\u001b[0m eta \u001b[36m-:--:--\u001b[0m\r\u001b[2K   \u001b[91m━━━━━━━━━━━━━━━━━━━━━━━━━━━━━━━━━━━━━━━\u001b[0m\u001b[91m╸\u001b[0m \u001b[32m1.6/1.6 MB\u001b[0m \u001b[31m90.9 MB/s\u001b[0m eta \u001b[36m0:00:01\u001b[0m\r\u001b[2K   \u001b[90m━━━━━━━━━━━━━━━━━━━━━━━━━━━━━━━━━━━━━━━━\u001b[0m \u001b[32m1.6/1.6 MB\u001b[0m \u001b[31m41.8 MB/s\u001b[0m eta \u001b[36m0:00:00\u001b[0m\n",
            "\u001b[?25h"
          ]
        }
      ]
    },
    {
      "cell_type": "code",
      "execution_count": 12,
      "metadata": {
        "id": "zygpF260bYi0"
      },
      "outputs": [],
      "source": [
        "from IPython.display import HTML, display\n",
        "\n",
        "import import_ipynb\n",
        "import requests\n",
        "import notebook as nb\n",
        "from nbconvert import PythonExporter\n",
        "import nbformat\n",
        "\n",
        "url = 'https://raw.githubusercontent.com/maddogmikeb/Jira/refs/heads/master/UltimateSprintReport.ipynb'  # Replace with the actual URL of your notebook\n",
        "response = requests.get(url)\n",
        "with open('notebook.ipynb', 'w') as f:\n",
        "  f.write(response.text)\n",
        "  # notebook = nbformat.read(f, as_version=4)\n",
        "\n",
        "with open('notebook.ipynb') as f:\n",
        "    notebook = nbformat.read(f, as_version=4)\n",
        "\n",
        "# notebook = nbformat.read().read(response.text, as_version=4)\n",
        "\n",
        "exporter = PythonExporter()\n",
        "source, _ = exporter.from_notebook_node(notebook)\n",
        "\n",
        "# Execute the Python code\n",
        "exec(source)\n",
        "\n",
        "clear_output()"
      ]
    },
    {
      "cell_type": "code",
      "source": [
        "from IPython.display import HTML, display\n",
        "\n",
        "display(HTML(login_details))"
      ],
      "metadata": {
        "id": "8ShyenAYeX0O",
        "outputId": "4c587500-ed94-4c5b-f6ed-6a320762cdbe",
        "colab": {
          "base_uri": "https://localhost:8080/",
          "height": 59
        }
      },
      "execution_count": 8,
      "outputs": [
        {
          "output_type": "display_data",
          "data": {
            "text/plain": [
              "<IPython.core.display.HTML object>"
            ],
            "text/html": [
              "\n",
              "  <table>\n",
              "    <tr>\n",
              "      <td>This report executed by:</td>\n",
              "      <td>Mike Burns</td>\n",
              "      <td><img src='https://avatar-management--avatars.us-west-2.prod.public.atl-paas.net/712020:d9c65884-1656-4f68-827c-32ec1a4ae098/2b84f57d-857a-4828-9cfe-4aa7b8843673/32' /><td>\n",
              "    </tr>\n",
              "  </table>\n"
            ]
          },
          "metadata": {}
        }
      ]
    }
  ]
}