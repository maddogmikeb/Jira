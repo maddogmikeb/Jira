{
  "cells": [
    {
      "cell_type": "markdown",
      "metadata": {
        "id": "view-in-github",
        "colab_type": "text"
      },
      "source": [
        "<a href=\"https://colab.research.google.com/github/maddogmikeb/Jira/blob/master/SprintReport.ipynb\" target=\"_parent\"><img src=\"https://colab.research.google.com/assets/colab-badge.svg\" alt=\"Open In Colab\"/></a>"
      ]
    },
    {
      "cell_type": "markdown",
      "source": [
        "# Ultimate Jira Sprint Report"
      ],
      "metadata": {
        "id": "MnjGJtsuAgqL"
      }
    },
    {
      "cell_type": "code",
      "source": [
        "from IPython.display import clear_output, HTML, display\n",
        "\n",
        "%pip uninstall -q UltimateJiraSprintReport --yes\n",
        "%pip install -q git+https://github.com/maddogmikeb/UltimateJiraSprintReport.git\n",
        "\n",
        "clear_output()"
      ],
      "metadata": {
        "id": "2cg7gNvvU6VI"
      },
      "execution_count": 1,
      "outputs": []
    },
    {
      "cell_type": "code",
      "execution_count": 2,
      "metadata": {
        "id": "8ShyenAYeX0O",
        "outputId": "ff480095-2f2a-4777-e423-52b85ef2452a",
        "colab": {
          "base_uri": "https://localhost:8080/",
          "height": 59
        }
      },
      "outputs": [
        {
          "output_type": "display_data",
          "data": {
            "text/plain": [
              "<IPython.core.display.HTML object>"
            ],
            "text/html": [
              "\n",
              "        <table>\n",
              "            <tr>\n",
              "                <td>Currently logged in as:</td>\n",
              "                <td>Mike Burns</td>\n",
              "                <td><img src='https://avatar-management--avatars.us-west-2.prod.public.atl-paas.net/712020:d9c65884-1656-4f68-827c-32ec1a4ae098/2b84f57d-857a-4828-9cfe-4aa7b8843673/32' /></td>\n",
              "            </tr>\n",
              "        </table>\n",
              "    "
            ]
          },
          "metadata": {}
        }
      ],
      "source": [
        "from IPython.display import clear_output, HTML, display\n",
        "from UltimateJiraSprintReport import UltimateJiraSprintReport\n",
        "\n",
        "try:\n",
        "\tfrom google.colab import userdata\n",
        "\thost = userdata.get(\"ATLASSIAN_HOST\")\n",
        "\tusername = userdata.get(\"ATLASSIAN_USERNAME\")\n",
        "\tapi_key = userdata.get(\"ATLASSIAN_APIKEY\")\n",
        "\tzephyr_api = userdata.get(\"ZEPHYR_SCALE_APIKEY\")\n",
        "except:\n",
        "\timport os\n",
        "\tWarning(\"Not using google colab - defaulting to normal environment variables\")\n",
        "\thost = os.getenv(\"ATLASSIAN_HOST\")\n",
        "\tusername = os.getenv(\"ATLASSIAN_USERNAME\")\n",
        "\tapi_key = os.getenv(\"ATLASSIAN_APIKEY\")\n",
        "\tzephyr_api = os.getenv(\"ZEPHYR_SCALE_APIKEY\")\n",
        "\tpass\n",
        "\n",
        "report = UltimateJiraSprintReport(\n",
        "\tusername=username, password=api_key, jira_scheme_url=host\n",
        ").connect()\n",
        "\n",
        "if not report.is_connected():\n",
        "  raise Exception(\"Error while connecting to Jira\")\n",
        "\n",
        "display(HTML(report.show_login_details()))"
      ]
    },
    {
      "cell_type": "code",
      "execution_count": null,
      "metadata": {
        "id": "0zmokxXpprYF",
        "outputId": "4f3b2b9f-1623-4c8d-b348-b463d985ec5e",
        "colab": {
          "base_uri": "https://localhost:8080/",
          "height": 49,
          "referenced_widgets": [
            "ca77b7c8851f4d5fb9f6d2e6c5e75143",
            "a8966dace52f4b969d66b59c3992e698",
            "2943573fa1e146aa93bed0bfbd36b65e",
            "80b8c2bd5f884d09a799519f17122019",
            "bfd123e9ad8c4204b660f6d521df3755",
            "2d77614ddbf94ec18ef78f28e04bd713",
            "ffb261c87c7c424d8e9eac3b5b72101d",
            "e33ac31c7c994bee8484d3a82e065989",
            "30f52475637b4dcd8c3934c110a349de",
            "890cb18ebf6547af9d00559ddf2c3e57",
            "8f4b875ae71849b090da26d43886ec26"
          ]
        }
      },
      "outputs": [
        {
          "output_type": "display_data",
          "data": {
            "text/plain": [
              "Loading Sprint Details:   0%|          | 0/100 [00:00<?, ?it/s]"
            ],
            "application/vnd.jupyter.widget-view+json": {
              "version_major": 2,
              "version_minor": 0,
              "model_id": "ca77b7c8851f4d5fb9f6d2e6c5e75143"
            }
          },
          "metadata": {}
        }
      ],
      "source": [
        "from IPython.display import HTML, display\n",
        "\n",
        "report.load(\"FDSEWMSR\", 364, 959)\n",
        "\n",
        "zephyr_plugin = None\n",
        "##if zephyr_api != None:\n",
        "##    zephyr_plugin = report.load_plugin(\"zephyr_scale\", zephyr_api=zephyr_api).load()"
      ]
    },
    {
      "cell_type": "markdown",
      "source": [
        "# Report Details"
      ],
      "metadata": {
        "id": "KdL8v_p-AYI-"
      }
    },
    {
      "cell_type": "code",
      "source": [
        "display(HTML(report.show_sprint_details()))"
      ],
      "metadata": {
        "id": "9xDRUfNNvhlT"
      },
      "execution_count": null,
      "outputs": []
    },
    {
      "cell_type": "code",
      "source": [
        "display(HTML(report.show_sprint_predictability()))"
      ],
      "metadata": {
        "id": "pCLxKQFSvjP1"
      },
      "execution_count": null,
      "outputs": []
    },
    {
      "cell_type": "code",
      "source": [
        "display(HTML(report.show_committed_vs_planned_chart()))"
      ],
      "metadata": {
        "id": "cVdOV6G3vjMF"
      },
      "execution_count": null,
      "outputs": []
    },
    {
      "cell_type": "code",
      "source": [
        "display(HTML(report.show_burndown_chart()))"
      ],
      "metadata": {
        "id": "k8OerFKgvjI_"
      },
      "execution_count": null,
      "outputs": []
    },
    {
      "cell_type": "code",
      "source": [
        "display(HTML(report.show_committed_vs_planned()))"
      ],
      "metadata": {
        "id": "KV2hp68OvjD7"
      },
      "execution_count": null,
      "outputs": []
    },
    {
      "cell_type": "code",
      "source": [
        "display(HTML(report.show_sprint_issue_types_statistics()))"
      ],
      "metadata": {
        "id": "abT4lerevi2x"
      },
      "execution_count": null,
      "outputs": []
    },
    {
      "cell_type": "code",
      "source": [
        "display(HTML(report.show_predictability()))"
      ],
      "metadata": {
        "id": "2MTi4uYEvyOj"
      },
      "execution_count": null,
      "outputs": []
    },
    {
      "cell_type": "code",
      "source": [
        "display(HTML(report.show_epic_statistics()))"
      ],
      "metadata": {
        "id": "mCsKanuRvyKZ"
      },
      "execution_count": null,
      "outputs": []
    },
    {
      "cell_type": "code",
      "source": [
        "if zephyr_plugin:\n",
        "  display(HTML(zephyr_plugin.show_report()))"
      ],
      "metadata": {
        "id": "I9EosS9ZvyGb"
      },
      "execution_count": null,
      "outputs": []
    },
    {
      "cell_type": "code",
      "source": [
        "display(HTML(report.show_burndown_table()))"
      ],
      "metadata": {
        "id": "AREoehWgvLXc"
      },
      "execution_count": null,
      "outputs": []
    }
  ],
  "metadata": {
    "colab": {
      "provenance": [],
      "include_colab_link": true
    },
    "kernelspec": {
      "display_name": "Python 3",
      "name": "python3"
    },
    "language_info": {
      "codemirror_mode": {
        "name": "ipython",
        "version": 3
      },
      "file_extension": ".py",
      "mimetype": "text/x-python",
      "name": "python",
      "nbconvert_exporter": "python",
      "pygments_lexer": "ipython3",
      "version": "3.12.1"
    },
    "widgets": {
      "application/vnd.jupyter.widget-state+json": {
        "ca77b7c8851f4d5fb9f6d2e6c5e75143": {
          "model_module": "@jupyter-widgets/controls",
          "model_name": "HBoxModel",
          "model_module_version": "1.5.0",
          "state": {
            "_dom_classes": [],
            "_model_module": "@jupyter-widgets/controls",
            "_model_module_version": "1.5.0",
            "_model_name": "HBoxModel",
            "_view_count": null,
            "_view_module": "@jupyter-widgets/controls",
            "_view_module_version": "1.5.0",
            "_view_name": "HBoxView",
            "box_style": "",
            "children": [
              "IPY_MODEL_a8966dace52f4b969d66b59c3992e698",
              "IPY_MODEL_2943573fa1e146aa93bed0bfbd36b65e",
              "IPY_MODEL_80b8c2bd5f884d09a799519f17122019"
            ],
            "layout": "IPY_MODEL_bfd123e9ad8c4204b660f6d521df3755"
          }
        },
        "a8966dace52f4b969d66b59c3992e698": {
          "model_module": "@jupyter-widgets/controls",
          "model_name": "HTMLModel",
          "model_module_version": "1.5.0",
          "state": {
            "_dom_classes": [],
            "_model_module": "@jupyter-widgets/controls",
            "_model_module_version": "1.5.0",
            "_model_name": "HTMLModel",
            "_view_count": null,
            "_view_module": "@jupyter-widgets/controls",
            "_view_module_version": "1.5.0",
            "_view_name": "HTMLView",
            "description": "",
            "description_tooltip": null,
            "layout": "IPY_MODEL_2d77614ddbf94ec18ef78f28e04bd713",
            "placeholder": "​",
            "style": "IPY_MODEL_ffb261c87c7c424d8e9eac3b5b72101d",
            "value": "Loading Sprint Details:  36%"
          }
        },
        "2943573fa1e146aa93bed0bfbd36b65e": {
          "model_module": "@jupyter-widgets/controls",
          "model_name": "FloatProgressModel",
          "model_module_version": "1.5.0",
          "state": {
            "_dom_classes": [],
            "_model_module": "@jupyter-widgets/controls",
            "_model_module_version": "1.5.0",
            "_model_name": "FloatProgressModel",
            "_view_count": null,
            "_view_module": "@jupyter-widgets/controls",
            "_view_module_version": "1.5.0",
            "_view_name": "ProgressView",
            "bar_style": "",
            "description": "",
            "description_tooltip": null,
            "layout": "IPY_MODEL_e33ac31c7c994bee8484d3a82e065989",
            "max": 100,
            "min": 0,
            "orientation": "horizontal",
            "style": "IPY_MODEL_30f52475637b4dcd8c3934c110a349de",
            "value": 90.91
          }
        },
        "80b8c2bd5f884d09a799519f17122019": {
          "model_module": "@jupyter-widgets/controls",
          "model_name": "HTMLModel",
          "model_module_version": "1.5.0",
          "state": {
            "_dom_classes": [],
            "_model_module": "@jupyter-widgets/controls",
            "_model_module_version": "1.5.0",
            "_model_name": "HTMLModel",
            "_view_count": null,
            "_view_module": "@jupyter-widgets/controls",
            "_view_module_version": "1.5.0",
            "_view_name": "HTMLView",
            "description": "",
            "description_tooltip": null,
            "layout": "IPY_MODEL_890cb18ebf6547af9d00559ddf2c3e57",
            "placeholder": "​",
            "style": "IPY_MODEL_8f4b875ae71849b090da26d43886ec26",
            "value": " 90.91/251 [00:22&lt;00:39,  4.01it/s, Loading issue details: FDSEWMSR-18464]"
          }
        },
        "bfd123e9ad8c4204b660f6d521df3755": {
          "model_module": "@jupyter-widgets/base",
          "model_name": "LayoutModel",
          "model_module_version": "1.2.0",
          "state": {
            "_model_module": "@jupyter-widgets/base",
            "_model_module_version": "1.2.0",
            "_model_name": "LayoutModel",
            "_view_count": null,
            "_view_module": "@jupyter-widgets/base",
            "_view_module_version": "1.2.0",
            "_view_name": "LayoutView",
            "align_content": null,
            "align_items": null,
            "align_self": null,
            "border": null,
            "bottom": null,
            "display": null,
            "flex": null,
            "flex_flow": null,
            "grid_area": null,
            "grid_auto_columns": null,
            "grid_auto_flow": null,
            "grid_auto_rows": null,
            "grid_column": null,
            "grid_gap": null,
            "grid_row": null,
            "grid_template_areas": null,
            "grid_template_columns": null,
            "grid_template_rows": null,
            "height": null,
            "justify_content": null,
            "justify_items": null,
            "left": null,
            "margin": null,
            "max_height": null,
            "max_width": null,
            "min_height": null,
            "min_width": null,
            "object_fit": null,
            "object_position": null,
            "order": null,
            "overflow": null,
            "overflow_x": null,
            "overflow_y": null,
            "padding": null,
            "right": null,
            "top": null,
            "visibility": null,
            "width": null
          }
        },
        "2d77614ddbf94ec18ef78f28e04bd713": {
          "model_module": "@jupyter-widgets/base",
          "model_name": "LayoutModel",
          "model_module_version": "1.2.0",
          "state": {
            "_model_module": "@jupyter-widgets/base",
            "_model_module_version": "1.2.0",
            "_model_name": "LayoutModel",
            "_view_count": null,
            "_view_module": "@jupyter-widgets/base",
            "_view_module_version": "1.2.0",
            "_view_name": "LayoutView",
            "align_content": null,
            "align_items": null,
            "align_self": null,
            "border": null,
            "bottom": null,
            "display": null,
            "flex": null,
            "flex_flow": null,
            "grid_area": null,
            "grid_auto_columns": null,
            "grid_auto_flow": null,
            "grid_auto_rows": null,
            "grid_column": null,
            "grid_gap": null,
            "grid_row": null,
            "grid_template_areas": null,
            "grid_template_columns": null,
            "grid_template_rows": null,
            "height": null,
            "justify_content": null,
            "justify_items": null,
            "left": null,
            "margin": null,
            "max_height": null,
            "max_width": null,
            "min_height": null,
            "min_width": null,
            "object_fit": null,
            "object_position": null,
            "order": null,
            "overflow": null,
            "overflow_x": null,
            "overflow_y": null,
            "padding": null,
            "right": null,
            "top": null,
            "visibility": null,
            "width": null
          }
        },
        "ffb261c87c7c424d8e9eac3b5b72101d": {
          "model_module": "@jupyter-widgets/controls",
          "model_name": "DescriptionStyleModel",
          "model_module_version": "1.5.0",
          "state": {
            "_model_module": "@jupyter-widgets/controls",
            "_model_module_version": "1.5.0",
            "_model_name": "DescriptionStyleModel",
            "_view_count": null,
            "_view_module": "@jupyter-widgets/base",
            "_view_module_version": "1.2.0",
            "_view_name": "StyleView",
            "description_width": ""
          }
        },
        "e33ac31c7c994bee8484d3a82e065989": {
          "model_module": "@jupyter-widgets/base",
          "model_name": "LayoutModel",
          "model_module_version": "1.2.0",
          "state": {
            "_model_module": "@jupyter-widgets/base",
            "_model_module_version": "1.2.0",
            "_model_name": "LayoutModel",
            "_view_count": null,
            "_view_module": "@jupyter-widgets/base",
            "_view_module_version": "1.2.0",
            "_view_name": "LayoutView",
            "align_content": null,
            "align_items": null,
            "align_self": null,
            "border": null,
            "bottom": null,
            "display": null,
            "flex": null,
            "flex_flow": null,
            "grid_area": null,
            "grid_auto_columns": null,
            "grid_auto_flow": null,
            "grid_auto_rows": null,
            "grid_column": null,
            "grid_gap": null,
            "grid_row": null,
            "grid_template_areas": null,
            "grid_template_columns": null,
            "grid_template_rows": null,
            "height": null,
            "justify_content": null,
            "justify_items": null,
            "left": null,
            "margin": null,
            "max_height": null,
            "max_width": null,
            "min_height": null,
            "min_width": null,
            "object_fit": null,
            "object_position": null,
            "order": null,
            "overflow": null,
            "overflow_x": null,
            "overflow_y": null,
            "padding": null,
            "right": null,
            "top": null,
            "visibility": null,
            "width": null
          }
        },
        "30f52475637b4dcd8c3934c110a349de": {
          "model_module": "@jupyter-widgets/controls",
          "model_name": "ProgressStyleModel",
          "model_module_version": "1.5.0",
          "state": {
            "_model_module": "@jupyter-widgets/controls",
            "_model_module_version": "1.5.0",
            "_model_name": "ProgressStyleModel",
            "_view_count": null,
            "_view_module": "@jupyter-widgets/base",
            "_view_module_version": "1.2.0",
            "_view_name": "StyleView",
            "bar_color": null,
            "description_width": ""
          }
        },
        "890cb18ebf6547af9d00559ddf2c3e57": {
          "model_module": "@jupyter-widgets/base",
          "model_name": "LayoutModel",
          "model_module_version": "1.2.0",
          "state": {
            "_model_module": "@jupyter-widgets/base",
            "_model_module_version": "1.2.0",
            "_model_name": "LayoutModel",
            "_view_count": null,
            "_view_module": "@jupyter-widgets/base",
            "_view_module_version": "1.2.0",
            "_view_name": "LayoutView",
            "align_content": null,
            "align_items": null,
            "align_self": null,
            "border": null,
            "bottom": null,
            "display": null,
            "flex": null,
            "flex_flow": null,
            "grid_area": null,
            "grid_auto_columns": null,
            "grid_auto_flow": null,
            "grid_auto_rows": null,
            "grid_column": null,
            "grid_gap": null,
            "grid_row": null,
            "grid_template_areas": null,
            "grid_template_columns": null,
            "grid_template_rows": null,
            "height": null,
            "justify_content": null,
            "justify_items": null,
            "left": null,
            "margin": null,
            "max_height": null,
            "max_width": null,
            "min_height": null,
            "min_width": null,
            "object_fit": null,
            "object_position": null,
            "order": null,
            "overflow": null,
            "overflow_x": null,
            "overflow_y": null,
            "padding": null,
            "right": null,
            "top": null,
            "visibility": null,
            "width": null
          }
        },
        "8f4b875ae71849b090da26d43886ec26": {
          "model_module": "@jupyter-widgets/controls",
          "model_name": "DescriptionStyleModel",
          "model_module_version": "1.5.0",
          "state": {
            "_model_module": "@jupyter-widgets/controls",
            "_model_module_version": "1.5.0",
            "_model_name": "DescriptionStyleModel",
            "_view_count": null,
            "_view_module": "@jupyter-widgets/base",
            "_view_module_version": "1.2.0",
            "_view_name": "StyleView",
            "description_width": ""
          }
        }
      }
    }
  },
  "nbformat": 4,
  "nbformat_minor": 0
}