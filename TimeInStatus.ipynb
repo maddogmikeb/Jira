{
  "cells": [
    {
      "cell_type": "markdown",
      "metadata": {
        "id": "view-in-github",
        "colab_type": "text"
      },
      "source": [
        "<a href=\"https://colab.research.google.com/github/maddogmikeb/Jira/blob/master/TimeInStatus.ipynb\" target=\"_parent\"><img src=\"https://colab.research.google.com/assets/colab-badge.svg\" alt=\"Open In Colab\"/></a>"
      ]
    },
    {
      "cell_type": "code",
      "source": [
        "# install dependencies\n",
        "\n",
        "!pip install -q atlassian-python-api\n",
        "\n",
        "clear_output()"
      ],
      "metadata": {
        "id": "ABN2qKyAHsbK"
      },
      "execution_count": 32,
      "outputs": []
    },
    {
      "cell_type": "code",
      "source": [
        "# Configure display\n",
        "\n",
        "from google.colab import data_table\n",
        "data_table.enable_dataframe_formatter()\n",
        "\n",
        "clear_output()"
      ],
      "metadata": {
        "id": "dY7N4XYniby6"
      },
      "execution_count": 33,
      "outputs": []
    },
    {
      "cell_type": "code",
      "source": [
        "# Log in\n",
        "\n",
        "from IPython.core.display import display, HTML\n",
        "from atlassian import Jira\n",
        "from google.colab import userdata\n",
        "\n",
        "jira = Jira(\n",
        "  url=userdata.get('atlassian_host'),\n",
        "  username=userdata.get('atlassian_username'),\n",
        "  password=userdata.get('atlassian_apikey'),\n",
        "  cloud=True\n",
        ")\n",
        "\n",
        "me = jira.myself()\n",
        "\n",
        "display(HTML('<table><tr><td>' + me[\"displayName\"] + '</td><td><img src=\"' + me[\"avatarUrls\"][\"32x32\"] + '\"/><td></tr></table>'))\n"
      ],
      "metadata": {
        "colab": {
          "base_uri": "https://localhost:8080/",
          "height": 59
        },
        "id": "8Iq2UW-RIDDT",
        "outputId": "4c6f7044-026f-4164-8aac-7ed052b5866e"
      },
      "execution_count": 34,
      "outputs": [
        {
          "output_type": "display_data",
          "data": {
            "text/plain": [
              "<IPython.core.display.HTML object>"
            ],
            "text/html": [
              "<table><tr><td>Mike Burns</td><td><img src=\"https://avatar-management--avatars.us-west-2.prod.public.atl-paas.net/712020:d9c65884-1656-4f68-827c-32ec1a4ae098/2b84f57d-857a-4828-9cfe-4aa7b8843673/32\"/><td></tr></table>"
            ]
          },
          "metadata": {}
        }
      ]
    },
    {
      "cell_type": "code",
      "source": [
        "# Get all issues from jql\n",
        "# Code to help debug -> https://github.com/atlassian-api/atlassian-python-api/blob/master/atlassian/jira.py\n",
        "\n",
        "from IPython.display import clear_output, display\n",
        "from atlassian import Jira\n",
        "\n",
        "JQL = 'project = FDSEWMSR AND issuetype in (Bug, Story, Epic, Task) AND \"Team[Team]\" = d3706851-4fae-4b34-9a25-d4e10c5a45e4 and statuscategory = \"done\" ORDER BY Rank ASC'\n",
        "\n",
        "limit = 10\n",
        "\n",
        "params = {}\n",
        "if limit is not None:\n",
        "  params[\"maxResults\"] = int(limit)\n",
        "params[\"fields\"] = \"key,created,resolutiondate,status,project,parent,components,customfield_10168,customfield_10001\"\n",
        "params[\"jql\"] = JQL\n",
        "params[\"expand\"] = \"names\"\n",
        "url = jira.resource_url(\"search\")\n",
        "start = 0\n",
        "results = []\n",
        "results.clear() # really make sure its clear!\n",
        "\n",
        "names = {}\n",
        "\n",
        "while True:\n",
        "  clear_output(wait=True)\n",
        "\n",
        "  params[\"startAt\"] = int(start)\n",
        "  response = jira.get(url, params=params)\n",
        "  if not response:\n",
        "    break\n",
        "\n",
        "  if response[\"names\"]:\n",
        "    names = response[\"names\"]\n",
        "  issues = response[\"issues\"]\n",
        "  results.extend(issues)\n",
        "  total = int(response[\"total\"])\n",
        "  display(\"DBG: response: total={total} start={startAt} max={maxResults}\".format(**response))\n",
        "  # If we don't have a limit, and there's more to fetch, keep looping\n",
        "  if limit is not None or total <= len(response[\"issues\"]) + start:\n",
        "    break\n",
        "  start += len(issues)\n",
        "\n",
        "clear_output()"
      ],
      "metadata": {
        "id": "T_J-gQJdIoOu"
      },
      "execution_count": 79,
      "outputs": []
    },
    {
      "cell_type": "code",
      "source": [
        "# Get all the change logs and iterate through them to find all the status changes\n",
        "\n",
        "from IPython.display import clear_output, display\n",
        "from atlassian import Jira\n",
        "import datetime\n",
        "import pandas as pd\n",
        "import numpy as np\n",
        "import copy\n",
        "\n",
        "issues = copy.deepcopy(results)\n",
        "\n",
        "for issue in issues:\n",
        "  clear_output(wait=True)\n",
        "  display(\"DBG: checking key={key}\".format(**issue))\n",
        "\n",
        "  # fix up names\n",
        "  for key, value in names.items():\n",
        "    issue[\"fields\"][value] = issue[\"fields\"].pop(key)\n",
        "\n",
        "  changelog = jira.get_issue_changelog(issue[\"key\"])\n",
        "  changes = []\n",
        "  lastChange = issue[\"fields\"][\"Created\"]\n",
        "  for log in changelog[\"values\"]:\n",
        "    for logitem in log[\"items\"]:\n",
        "      if logitem[\"field\"].upper() == \"STATUS\":\n",
        "        logitem[\"start\"] = lastChange\n",
        "        logitem[\"end\"] = log[\"created\"]\n",
        "        lastChange = log[\"created\"]\n",
        "        changes += [{\n",
        "              'statusid': logitem[\"from\"],\n",
        "              'status': logitem[\"fromString\"],\n",
        "              #'start': logitem[\"start\"],\n",
        "              #'end': logitem[\"end\"],\n",
        "              'total': (datetime.datetime.fromisoformat(logitem[\"end\"]) - datetime.datetime.fromisoformat(logitem[\"start\"])).total_seconds()\n",
        "            }]\n",
        "        #display(logitem)\n",
        "  if len(changes) > 0:\n",
        "    changes += [{\n",
        "        'statusid': issue[\"fields\"][\"Status\"][\"id\"],\n",
        "        'status': issue[\"fields\"][\"Status\"][\"name\"],\n",
        "        #'start': lastChange,\n",
        "        #'end': None,\n",
        "        'total': float('inf')\n",
        "      }]\n",
        "\n",
        "    df = pd.DataFrame(changes)\n",
        "    df.groupby('statusid', as_index=False)['total'].sum()\n",
        "    df = df.reset_index()\n",
        "    df = df.replace({None: np.nan})\n",
        "    for index, row in df.iterrows():\n",
        "      issue[row[\"statusid\"] + \"|\" + row[\"status\"]] = row[\"total\"]\n",
        "\n",
        "  # clean up fields\n",
        "  issue[\"created\"] = issue[\"fields\"][\"Created\"]\n",
        "  issue[\"resolved\"] = issue[\"fields\"][\"Resolved\"]\n",
        "  issue[\"project\"] = issue[\"fields\"][\"Project\"][\"name\"]\n",
        "  issue[\"components\"] = \",\".join([component[\"name\"] for component in issue[\"fields\"][\"Components\"]])\n",
        "  issue[\"url\"] = jira.url + \"browse/\" + issue[\"key\"]\n",
        "  del issue[\"fields\"]\n",
        "  del issue[\"expand\"]\n",
        "  del issue[\"self\"]\n",
        "\n",
        "clear_output()\n",
        "\n",
        "#display( pd.DataFrame(changes) )"
      ],
      "metadata": {
        "id": "V63zk56GQO3p"
      },
      "execution_count": 82,
      "outputs": []
    },
    {
      "cell_type": "code",
      "source": [
        "# Print\n",
        "\n",
        "from IPython.core.display import display, HTML\n",
        "\n",
        "import json\n",
        "import pandas as pd\n",
        "import numpy as np\n",
        "\n",
        "#print(json.dumps(data, indent=2))\n",
        "\n",
        "df = pd.DataFrame(issues)\n",
        "df = df.reindex(sorted(df.columns, reverse=True), axis=1)\n",
        "df = df.replace({None: np.nan})\n",
        "# display(df)\n",
        "\n",
        "df.to_excel(\"output.xlsx\", index=False)"
      ],
      "metadata": {
        "id": "BScRiEmQQkQn"
      },
      "execution_count": 84,
      "outputs": []
    }
  ],
  "metadata": {
    "colab": {
      "name": "TimeInStatus",
      "provenance": [],
      "include_colab_link": true
    },
    "kernelspec": {
      "display_name": "Python 3",
      "name": "python3"
    }
  },
  "nbformat": 4,
  "nbformat_minor": 0
}