{
  "cells": [
    {
      "cell_type": "markdown",
      "metadata": {
        "id": "view-in-github",
        "colab_type": "text"
      },
      "source": [
        "<a href=\"https://colab.research.google.com/github/maddogmikeb/Jira/blob/master/TimeInStatus.ipynb\" target=\"_parent\"><img src=\"https://colab.research.google.com/assets/colab-badge.svg\" alt=\"Open In Colab\"/></a>"
      ]
    },
    {
      "cell_type": "code",
      "source": [
        "# install dependencies\n",
        "\n",
        "!pip install -q atlassian-python-api"
      ],
      "metadata": {
        "id": "ABN2qKyAHsbK",
        "outputId": "6ab61563-c1c6-48ce-8a6a-73af98d905e1",
        "colab": {
          "base_uri": "https://localhost:8080/"
        }
      },
      "execution_count": 1,
      "outputs": [
        {
          "output_type": "stream",
          "name": "stdout",
          "text": [
            "\u001b[?25l   \u001b[90m━━━━━━━━━━━━━━━━━━━━━━━━━━━━━━━━━━━━━━━━\u001b[0m \u001b[32m0.0/182.7 kB\u001b[0m \u001b[31m?\u001b[0m eta \u001b[36m-:--:--\u001b[0m\r\u001b[2K   \u001b[91m━━━━━━━━━━━━━━━━━━━━━━━━━━━━━━━━━━━\u001b[0m\u001b[91m╸\u001b[0m\u001b[90m━━━━\u001b[0m \u001b[32m163.8/182.7 kB\u001b[0m \u001b[31m4.7 MB/s\u001b[0m eta \u001b[36m0:00:01\u001b[0m\r\u001b[2K   \u001b[90m━━━━━━━━━━━━━━━━━━━━━━━━━━━━━━━━━━━━━━━━\u001b[0m \u001b[32m182.7/182.7 kB\u001b[0m \u001b[31m3.3 MB/s\u001b[0m eta \u001b[36m0:00:00\u001b[0m\n",
            "\u001b[?25h"
          ]
        }
      ]
    },
    {
      "cell_type": "code",
      "source": [
        "# Configure display\n",
        "\n",
        "from google.colab import data_table\n",
        "data_table.enable_dataframe_formatter()"
      ],
      "metadata": {
        "id": "dY7N4XYniby6"
      },
      "execution_count": 2,
      "outputs": []
    },
    {
      "cell_type": "code",
      "source": [
        "# Log in\n",
        "\n",
        "from IPython.core.display import display, HTML\n",
        "from atlassian import Jira\n",
        "from google.colab import userdata\n",
        "\n",
        "jira = Jira(\n",
        "  url=userdata.get('atlassian_host'),\n",
        "  username=userdata.get('atlassian_username'),\n",
        "  password=userdata.get('atlassian_apikey'),\n",
        "  cloud=True\n",
        ")\n",
        "\n",
        "me = jira.myself()\n",
        "\n",
        "display(HTML('<table><tr><td>' + me[\"displayName\"] + '</td><td><img src=\"' + me[\"avatarUrls\"][\"32x32\"] + '\"/><td></tr></table>'))\n"
      ],
      "metadata": {
        "colab": {
          "base_uri": "https://localhost:8080/",
          "height": 315
        },
        "id": "8Iq2UW-RIDDT",
        "outputId": "e0ecba24-3e77-4cfc-c534-93c951eebcae"
      },
      "execution_count": 3,
      "outputs": [
        {
          "output_type": "error",
          "ename": "NotebookAccessError",
          "evalue": "Notebook does not have access to secret atlassian_host",
          "traceback": [
            "\u001b[0;31m---------------------------------------------------------------------------\u001b[0m",
            "\u001b[0;31mNotebookAccessError\u001b[0m                       Traceback (most recent call last)",
            "\u001b[0;32m<ipython-input-3-a357f0f4fe39>\u001b[0m in \u001b[0;36m<cell line: 0>\u001b[0;34m()\u001b[0m\n\u001b[1;32m      6\u001b[0m \u001b[0;34m\u001b[0m\u001b[0m\n\u001b[1;32m      7\u001b[0m jira = Jira(\n\u001b[0;32m----> 8\u001b[0;31m   \u001b[0murl\u001b[0m\u001b[0;34m=\u001b[0m\u001b[0muserdata\u001b[0m\u001b[0;34m.\u001b[0m\u001b[0mget\u001b[0m\u001b[0;34m(\u001b[0m\u001b[0;34m'atlassian_host'\u001b[0m\u001b[0;34m)\u001b[0m\u001b[0;34m,\u001b[0m\u001b[0;34m\u001b[0m\u001b[0;34m\u001b[0m\u001b[0m\n\u001b[0m\u001b[1;32m      9\u001b[0m   \u001b[0musername\u001b[0m\u001b[0;34m=\u001b[0m\u001b[0muserdata\u001b[0m\u001b[0;34m.\u001b[0m\u001b[0mget\u001b[0m\u001b[0;34m(\u001b[0m\u001b[0;34m'atlassian_username'\u001b[0m\u001b[0;34m)\u001b[0m\u001b[0;34m,\u001b[0m\u001b[0;34m\u001b[0m\u001b[0;34m\u001b[0m\u001b[0m\n\u001b[1;32m     10\u001b[0m   \u001b[0mpassword\u001b[0m\u001b[0;34m=\u001b[0m\u001b[0muserdata\u001b[0m\u001b[0;34m.\u001b[0m\u001b[0mget\u001b[0m\u001b[0;34m(\u001b[0m\u001b[0;34m'atlassian_apikey'\u001b[0m\u001b[0;34m)\u001b[0m\u001b[0;34m,\u001b[0m\u001b[0;34m\u001b[0m\u001b[0;34m\u001b[0m\u001b[0m\n",
            "\u001b[0;32m/usr/local/lib/python3.11/dist-packages/google/colab/userdata.py\u001b[0m in \u001b[0;36mget\u001b[0;34m(key)\u001b[0m\n\u001b[1;32m     68\u001b[0m     \u001b[0;32mraise\u001b[0m \u001b[0mSecretNotFoundError\u001b[0m\u001b[0;34m(\u001b[0m\u001b[0mkey\u001b[0m\u001b[0;34m)\u001b[0m\u001b[0;34m\u001b[0m\u001b[0;34m\u001b[0m\u001b[0m\n\u001b[1;32m     69\u001b[0m   \u001b[0;32mif\u001b[0m \u001b[0;32mnot\u001b[0m \u001b[0mresp\u001b[0m\u001b[0;34m.\u001b[0m\u001b[0mget\u001b[0m\u001b[0;34m(\u001b[0m\u001b[0;34m'access'\u001b[0m\u001b[0;34m,\u001b[0m \u001b[0;32mFalse\u001b[0m\u001b[0;34m)\u001b[0m\u001b[0;34m:\u001b[0m\u001b[0;34m\u001b[0m\u001b[0;34m\u001b[0m\u001b[0m\n\u001b[0;32m---> 70\u001b[0;31m     \u001b[0;32mraise\u001b[0m \u001b[0mNotebookAccessError\u001b[0m\u001b[0;34m(\u001b[0m\u001b[0mkey\u001b[0m\u001b[0;34m)\u001b[0m\u001b[0;34m\u001b[0m\u001b[0;34m\u001b[0m\u001b[0m\n\u001b[0m\u001b[1;32m     71\u001b[0m   \u001b[0;32mreturn\u001b[0m \u001b[0mresp\u001b[0m\u001b[0;34m.\u001b[0m\u001b[0mget\u001b[0m\u001b[0;34m(\u001b[0m\u001b[0;34m'payload'\u001b[0m\u001b[0;34m,\u001b[0m \u001b[0;34m''\u001b[0m\u001b[0;34m)\u001b[0m\u001b[0;34m\u001b[0m\u001b[0;34m\u001b[0m\u001b[0m\n",
            "\u001b[0;31mNotebookAccessError\u001b[0m: Notebook does not have access to secret atlassian_host"
          ]
        }
      ]
    },
    {
      "cell_type": "code",
      "source": [
        "# Get all issues from jql\n",
        "# Code to help debug -> https://github.com/atlassian-api/atlassian-python-api/blob/master/atlassian/jira.py\n",
        "\n",
        "from IPython.display import clear_output, display\n",
        "from atlassian import Jira\n",
        "\n",
        "JQL = 'project = FDSEWMSR AND issuetype in (Bug, Story, Epic, Task) AND \"Team[Team]\" = d3706851-4fae-4b34-9a25-d4e10c5a45e4 and statuscategory = \"done\" ORDER BY Rank ASC'\n",
        "\n",
        "limit = None\n",
        "\n",
        "params = {}\n",
        "if limit is not None:\n",
        "  params[\"maxResults\"] = int(limit)\n",
        "params[\"fields\"] = \"key,created,resolutiondate,status\"\n",
        "params[\"jql\"] = JQL\n",
        "#params[\"expand\"] = expand\n",
        "url = jira.resource_url(\"search\")\n",
        "start = 0\n",
        "results = []\n",
        "\n",
        "while True:\n",
        "  clear_output(wait=True)\n",
        "\n",
        "  params[\"startAt\"] = int(start)\n",
        "  response = jira.get(url, params=params)\n",
        "  if not response:\n",
        "    break\n",
        "\n",
        "  issues = response[\"issues\"]\n",
        "  results.extend(issues)\n",
        "  total = int(response[\"total\"])\n",
        "  display(\"DBG: response: total={total} start={startAt} max={maxResults}\".format(**response))\n",
        "  # If we don't have a limit, and there's more to fetch, keep looping\n",
        "  if limit is not None or total <= len(response[\"issues\"]) + start:\n",
        "    break\n",
        "  start += len(issues)\n",
        "\n",
        "clear_output()"
      ],
      "metadata": {
        "id": "T_J-gQJdIoOu"
      },
      "execution_count": null,
      "outputs": []
    },
    {
      "cell_type": "code",
      "source": [
        "# Get all the change logs and iterate through them to find all the status changes\n",
        "\n",
        "from IPython.display import clear_output, display\n",
        "from atlassian import Jira\n",
        "import datetime\n",
        "import pandas as pd\n",
        "import copy\n",
        "\n",
        "issues = copy.deepcopy(results)\n",
        "\n",
        "for issue in issues:\n",
        "  clear_output(wait=True)\n",
        "  display(\"DBG: checking key={key}\".format(**issue))\n",
        "\n",
        "  changelog = jira.get_issue_changelog(issue[\"key\"])\n",
        "  changes = []\n",
        "  lastChange = issue[\"fields\"][\"created\"]\n",
        "  for log in changelog[\"values\"]:\n",
        "    for logitem in log[\"items\"]:\n",
        "      if logitem[\"field\"].upper() == \"STATUS\":\n",
        "        logitem[\"start\"] = lastChange\n",
        "        logitem[\"end\"] = log[\"created\"]\n",
        "        lastChange = log[\"created\"]\n",
        "        changes += [\n",
        "            {\n",
        "              'statusid': logitem[\"from\"],\n",
        "              'status': logitem[\"fromString\"],\n",
        "              #'start': logitem[\"start\"],\n",
        "              #'end': logitem[\"end\"],\n",
        "              'total': (datetime.datetime.fromisoformat(logitem[\"end\"]) - datetime.datetime.fromisoformat(logitem[\"start\"])).total_seconds()\n",
        "            }]\n",
        "        #display(logitem)\n",
        "  if len(changes) > 0:\n",
        "    changes += [\n",
        "      {\n",
        "        'statusid': issue[\"fields\"][\"status\"][\"id\"],\n",
        "        'status': issue[\"fields\"][\"status\"][\"name\"],\n",
        "        #'start': lastChange,\n",
        "        #'end': None,\n",
        "        'total': float('inf')\n",
        "      }]\n",
        "\n",
        "    df = pd.DataFrame(changes)\n",
        "    df.groupby('statusid', as_index=False)['total'].sum()\n",
        "    df = df.reset_index()\n",
        "    for index, row in df.iterrows():\n",
        "      issue[row[\"statusid\"] + \"|\" + row[\"status\"]] = row[\"total\"]\n",
        "\n",
        "  # clean up fields\n",
        "  issue[\"created\"] = issue[\"fields\"][\"created\"]\n",
        "  issue[\"resolutiondate\"] = issue[\"fields\"][\"resolutiondate\"]\n",
        "  issue[\"url\"] = jira.url + \"browse/\" + issue[\"key\"]\n",
        "  del issue[\"fields\"]\n",
        "  del issue[\"expand\"]\n",
        "  del issue[\"self\"]\n",
        "\n",
        "clear_output()\n",
        "#display( pd.DataFrame(changes) )"
      ],
      "metadata": {
        "id": "V63zk56GQO3p"
      },
      "execution_count": null,
      "outputs": []
    },
    {
      "cell_type": "code",
      "source": [
        "# Print\n",
        "\n",
        "from IPython.core.display import display, HTML\n",
        "\n",
        "import json\n",
        "import pandas as pd\n",
        "\n",
        "#print(json.dumps(data, indent=2))\n",
        "\n",
        "df = pd.DataFrame(issues)\n",
        "df = df.reindex(sorted(df.columns, reverse=True), axis=1)\n",
        "# display(df)\n",
        "\n",
        "df.to_excel(\"output.xlsx\", index=False)"
      ],
      "metadata": {
        "id": "BScRiEmQQkQn"
      },
      "execution_count": null,
      "outputs": []
    }
  ],
  "metadata": {
    "colab": {
      "name": "Welcome to Colaboratory",
      "provenance": [],
      "include_colab_link": true
    },
    "kernelspec": {
      "display_name": "Python 3",
      "name": "python3"
    }
  },
  "nbformat": 4,
  "nbformat_minor": 0
}