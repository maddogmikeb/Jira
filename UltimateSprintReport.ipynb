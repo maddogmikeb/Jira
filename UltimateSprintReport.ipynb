{
  "nbformat": 4,
  "nbformat_minor": 0,
  "metadata": {
    "colab": {
      "provenance": [],
      "authorship_tag": "ABX9TyMGJr/szFB9MpBkz8SzInRD",
      "include_colab_link": true
    },
    "kernelspec": {
      "name": "python3",
      "display_name": "Python 3"
    },
    "language_info": {
      "name": "python"
    }
  },
  "cells": [
    {
      "cell_type": "markdown",
      "metadata": {
        "id": "view-in-github",
        "colab_type": "text"
      },
      "source": [
        "<a href=\"https://colab.research.google.com/github/maddogmikeb/Jira/blob/master/UltimateSprintReport.ipynb\" target=\"_parent\"><img src=\"https://colab.research.google.com/assets/colab-badge.svg\" alt=\"Open In Colab\"/></a>"
      ]
    },
    {
      "cell_type": "code",
      "source": [
        "# install dependencies\n",
        "\n",
        "from IPython.core.display import clear_output\n",
        "\n",
        "!pip install -q atlassian-python-api\n",
        "!pip install -q tqdm\n",
        "!pip install -q matplotlib\n",
        "\n",
        "clear_output()"
      ],
      "metadata": {
        "id": "6jUcIj44rZot"
      },
      "execution_count": null,
      "outputs": []
    },
    {
      "cell_type": "code",
      "source": [
        "from IPython.core.display import clear_output\n",
        "\n",
        "#sprint_report_url = input(\"Please enter the 'classic Jira sprint report' url:\")\n",
        "\n",
        "sprint_report_url = \"https://brisbanecitycouncil.atlassian.net/jira/software/c/projects/FDSEWMSR/boards/401/reports/sprint-retrospective?sprint=948\"\n",
        "clear_output()"
      ],
      "metadata": {
        "id": "hwRcsQ_5_Mpv"
      },
      "execution_count": null,
      "outputs": []
    },
    {
      "cell_type": "markdown",
      "source": [
        "# Go to [Report](#Report)"
      ],
      "metadata": {
        "id": "YWKP0-DtQkVp"
      }
    },
    {
      "cell_type": "code",
      "source": [
        "# Configure display\n",
        "\n",
        "from IPython.core.display import clear_output\n",
        "from google.colab import data_table\n",
        "import json\n",
        "\n",
        "data_table.enable_dataframe_formatter()\n",
        "\n",
        "def printjson(obj):\n",
        "  print(json.dumps(obj, indent=2))\n",
        "\n",
        "clear_output()"
      ],
      "metadata": {
        "id": "MW2i_WiP_oei"
      },
      "execution_count": null,
      "outputs": []
    },
    {
      "cell_type": "code",
      "source": [
        "# Log in\n",
        "\n",
        "from IPython.core.display import display, HTML, clear_output\n",
        "from atlassian import Jira\n",
        "from google.colab import userdata\n",
        "from urllib.parse import urlparse\n",
        "import re\n",
        "\n",
        "def parse_url(url):\n",
        "    pattern = r\"(https?)://([^/]+)/jira/software/c/projects/([^/]+)/boards/(\\d+)/reports/sprint-retrospective\\?sprint=(\\d+)\"\n",
        "    match = re.search(pattern, url)\n",
        "    if match:\n",
        "        protocol = match.group(1)\n",
        "        base_url = match.group(2)\n",
        "        project = match.group(3)\n",
        "        rapidViewId = match.group(4)\n",
        "        sprintId = match.group(5)\n",
        "        full_base_url = f\"{protocol}://{base_url}\"\n",
        "        return full_base_url, project, rapidViewId, sprintId\n",
        "    else:\n",
        "        return None, None, None, None\n",
        "\n",
        "base_url, project, rapidViewId, sprintId = parse_url(sprint_report_url)\n",
        "\n",
        "jira = Jira(\n",
        "  url=base_url,\n",
        "  username=userdata.get('atlassian_username'),\n",
        "  password=userdata.get('atlassian_apikey'),\n",
        "  cloud=True\n",
        ")\n",
        "\n",
        "me = jira.myself()\n",
        "\n",
        "display(HTML('<table><tr><td>' + me[\"displayName\"] + '</td><td><img src=\"' + me[\"avatarUrls\"][\"32x32\"] + '\"/><td></tr></table>'))\n"
      ],
      "metadata": {
        "colab": {
          "base_uri": "https://localhost:8080/",
          "height": 59
        },
        "id": "8Iq2UW-RIDDT",
        "outputId": "5d02ab2c-c4d7-49f5-c718-198c8360092c"
      },
      "execution_count": null,
      "outputs": [
        {
          "output_type": "display_data",
          "data": {
            "text/plain": [
              "<IPython.core.display.HTML object>"
            ],
            "text/html": [
              "<table><tr><td>Mike Burns</td><td><img src=\"https://avatar-management--avatars.us-west-2.prod.public.atl-paas.net/712020:d9c65884-1656-4f68-827c-32ec1a4ae098/2b84f57d-857a-4828-9cfe-4aa7b8843673/32\"/><td></tr></table>"
            ]
          },
          "metadata": {}
        }
      ]
    },
    {
      "cell_type": "code",
      "source": [
        "import numpy as np\n",
        "import matplotlib.pyplot as plt\n",
        "import io\n",
        "from PIL import Image\n",
        "\n",
        "def fig2img(fig):\n",
        "  # Convert a Matplotlib figure to a PIL Image and return it\n",
        "  buf = io.BytesIO()\n",
        "  fig.savefig(buf)\n",
        "  buf.seek(0)\n",
        "  img = Image.open(buf)\n",
        "  return img\n",
        "\n",
        "class DataPoint:\n",
        "  def __init__(self, name, count, points, color, hatch, edgeColor):\n",
        "    self.name = name\n",
        "    self.count = count\n",
        "    self.points = points\n",
        "    self.color = color\n",
        "    self.hatch = hatch\n",
        "    self.edgeColor = edgeColor\n",
        "\n",
        "  def getValues(self):\n",
        "    return [self.count, self.points]\n",
        "\n",
        "def cumulateData(dataArray):\n",
        "  data = np.array(dataArray)\n",
        "  data_shape = np.shape(data)\n",
        "\n",
        "  # Take negative and positive data apart and cumulate\n",
        "  def get_cumulated_array(data, **kwargs):\n",
        "      cum = data.clip(**kwargs)\n",
        "      cum = np.cumsum(cum, axis=0)\n",
        "      d = np.zeros(np.shape(data))\n",
        "      d[1:] = cum[:-1]\n",
        "      return d\n",
        "\n",
        "  cumulated_data = get_cumulated_array(data, min=0)\n",
        "  cumulated_data_neg = get_cumulated_array(data, max=0)\n",
        "\n",
        "  # Re-merge negative and positive data.\n",
        "  row_mask = (data<0)\n",
        "  cumulated_data[row_mask] = cumulated_data_neg[row_mask]\n",
        "  data_stack = cumulated_data\n",
        "\n",
        "  return data, data_shape, data_stack"
      ],
      "metadata": {
        "id": "x8yDY2S993pd"
      },
      "execution_count": null,
      "outputs": []
    },
    {
      "cell_type": "code",
      "source": [
        "status_categories = jira.get(\"/rest/api/2/statuscategory\")"
      ],
      "metadata": {
        "id": "4KyXf_PoX5jW"
      },
      "execution_count": null,
      "outputs": []
    },
    {
      "cell_type": "code",
      "source": [
        "import json\n",
        "\n",
        "sprint_report = json.loads(jira.request(absolute=True, method=\"GET\", path=\"{base_url}{path}?rapidViewId={rapidViewId}&sprintId={sprintId}\".format(base_url = base_url, path=\"/rest/greenhopper/latest/rapid/charts/sprintreport\", rapidViewId=rapidViewId, sprintId=sprintId)).content)"
      ],
      "metadata": {
        "id": "_AxhlzOvyjWO"
      },
      "execution_count": null,
      "outputs": []
    },
    {
      "cell_type": "code",
      "source": [
        "import json\n",
        "\n",
        "velocity_statistics = json.loads(jira.request(absolute=True, method=\"GET\", path=\"{base_url}{path}?rapidViewId={rapidViewId}\".format(base_url = base_url, path=\"/rest/greenhopper/1.0/rapid/charts/velocity.json\", rapidViewId=rapidViewId)).content)\n",
        "try:\n",
        "  sprint_velocity_statistics = velocity_statistics['velocityStatEntries'][str(sprintId)]\n",
        "except:\n",
        "  sprint_velocity_statistics = 0\n",
        "  raise Exception(\"Sprint has not been completed\")"
      ],
      "metadata": {
        "id": "lf6BBaId4Y61",
        "outputId": "b7ce5448-c4b8-4bd7-b274-dc2b7dfcf2e7",
        "colab": {
          "base_uri": "https://localhost:8080/",
          "height": 349
        }
      },
      "execution_count": null,
      "outputs": [
        {
          "output_type": "error",
          "ename": "Exception",
          "evalue": "Sprint has not been completed",
          "traceback": [
            "\u001b[0;31m---------------------------------------------------------------------------\u001b[0m",
            "\u001b[0;31mKeyError\u001b[0m                                  Traceback (most recent call last)",
            "\u001b[0;32m<ipython-input-27-334c46e3209a>\u001b[0m in \u001b[0;36m<cell line: 0>\u001b[0;34m()\u001b[0m\n\u001b[1;32m      4\u001b[0m \u001b[0;32mtry\u001b[0m\u001b[0;34m:\u001b[0m\u001b[0;34m\u001b[0m\u001b[0;34m\u001b[0m\u001b[0m\n\u001b[0;32m----> 5\u001b[0;31m   \u001b[0msprint_velocity_statistics\u001b[0m \u001b[0;34m=\u001b[0m \u001b[0mvelocity_statistics\u001b[0m\u001b[0;34m[\u001b[0m\u001b[0;34m'velocityStatEntries'\u001b[0m\u001b[0;34m]\u001b[0m\u001b[0;34m[\u001b[0m\u001b[0mstr\u001b[0m\u001b[0;34m(\u001b[0m\u001b[0msprintId\u001b[0m\u001b[0;34m)\u001b[0m\u001b[0;34m]\u001b[0m\u001b[0;34m\u001b[0m\u001b[0;34m\u001b[0m\u001b[0m\n\u001b[0m\u001b[1;32m      6\u001b[0m \u001b[0;32mexcept\u001b[0m\u001b[0;34m:\u001b[0m\u001b[0;34m\u001b[0m\u001b[0;34m\u001b[0m\u001b[0m\n",
            "\u001b[0;31mKeyError\u001b[0m: '948'",
            "\nDuring handling of the above exception, another exception occurred:\n",
            "\u001b[0;31mException\u001b[0m                                 Traceback (most recent call last)",
            "\u001b[0;32m<ipython-input-27-334c46e3209a>\u001b[0m in \u001b[0;36m<cell line: 0>\u001b[0;34m()\u001b[0m\n\u001b[1;32m      6\u001b[0m \u001b[0;32mexcept\u001b[0m\u001b[0;34m:\u001b[0m\u001b[0;34m\u001b[0m\u001b[0;34m\u001b[0m\u001b[0m\n\u001b[1;32m      7\u001b[0m   \u001b[0msprint_velocity_statistics\u001b[0m \u001b[0;34m=\u001b[0m \u001b[0;36m0\u001b[0m\u001b[0;34m\u001b[0m\u001b[0;34m\u001b[0m\u001b[0m\n\u001b[0;32m----> 8\u001b[0;31m   \u001b[0;32mraise\u001b[0m \u001b[0mException\u001b[0m\u001b[0;34m(\u001b[0m\u001b[0;34m\"Sprint has not been completed\"\u001b[0m\u001b[0;34m)\u001b[0m\u001b[0;34m\u001b[0m\u001b[0;34m\u001b[0m\u001b[0m\n\u001b[0m",
            "\u001b[0;31mException\u001b[0m: Sprint has not been completed"
          ]
        }
      ]
    },
    {
      "cell_type": "code",
      "source": [
        "import json\n",
        "\n",
        "board_config = json.loads(jira.request(absolute=True, method=\"GET\", path=\"{base_url}{path}?rapidViewId={rapidViewId}\".format(base_url = base_url, path=\"/rest/greenhopper/1.0/rapidviewconfig/editmodel.json\", rapidViewId=rapidViewId)).content)"
      ],
      "metadata": {
        "id": "D4EiMEf1Rj_B"
      },
      "execution_count": null,
      "outputs": []
    },
    {
      "cell_type": "code",
      "source": [
        "ToDoEstimate = 0\n",
        "ToDoCount = 0\n",
        "ProgressEstimate = 0\n",
        "ProgressCount = 0\n",
        "\n",
        "TODO_KEY_ID =  str([x['id'] for x in status_categories if x['name'] == 'To Do'][0])\n",
        "INPROGRESS_KEY_ID  = str([x['id'] for x in status_categories if x['name'] == 'In Progress'][0])\n",
        "\n",
        "for issue in sprint_report[\"contents\"][\"issuesNotCompletedInCurrentSprint\"]:\n",
        "  if issue[\"status\"][\"statusCategory\"]['id'] == TODO_KEY_ID:\n",
        "    ToDoCount += 1\n",
        "    ToDoEstimate += issue['estimateStatistic']['statFieldValue']['value']\n",
        "\n",
        "  if issue[\"status\"][\"statusCategory\"]['id'] == INPROGRESS_KEY_ID:\n",
        "    ProgressCount += 1\n",
        "    ProgressEstimate += issue['estimateStatistic']['statFieldValue']['value'] if \"value\" in issue['estimateStatistic']['statFieldValue'] else 0\n",
        "\n",
        "Removed = DataPoint(\n",
        "    'Removed',\n",
        "    -1 * len(sprint_report[\"contents\"][\"puntedIssues\"]),\n",
        "    -1 * sprint_report[\"contents\"]['puntedIssuesEstimateSum']['value'] if \"value\" in sprint_report[\"contents\"][\"puntedIssuesEstimateSum\"] else 0,\n",
        "    '#d04437',\n",
        "    None,\n",
        "    '#ccc'\n",
        "  )\n",
        "\n",
        "ToDo = DataPoint(\n",
        "    'ToDo',\n",
        "    ToDoCount,\n",
        "    ToDoEstimate,\n",
        "    '#091E420F',\n",
        "    None,\n",
        "    '#44546F'\n",
        "  )\n",
        "\n",
        "InProgress = DataPoint(\n",
        "    'InProgress',\n",
        "    ProgressCount,\n",
        "    ProgressEstimate,\n",
        "    '#deebff',\n",
        "    None,\n",
        "    '#0055CC'\n",
        "  )\n",
        "\n",
        "Done = DataPoint(\n",
        "    'Completed',\n",
        "    len(sprint_report[\"contents\"][\"completedIssues\"]),\n",
        "    sprint_report[\"contents\"][\"completedIssuesEstimateSum\"]['value'] if \"value\" in sprint_report[\"contents\"][\"completedIssuesEstimateSum\"] else 0,\n",
        "    '#e3fcef',\n",
        "    None,\n",
        "    '#216E4E'\n",
        "  )\n",
        "\n",
        "CompletedOutside = DataPoint(\n",
        "    'Completed Outside',\n",
        "    len(sprint_report[\"contents\"][\"issuesCompletedInAnotherSprint\"]),\n",
        "    sprint_report[\"contents\"][\"issuesCompletedInAnotherSprintEstimateSum\"]['value'] if \"value\" in sprint_report[\"contents\"][\"issuesCompletedInAnotherSprintEstimateSum\"] else 0,\n",
        "    '#e3fcef',\n",
        "    'X',\n",
        "    '#216E4E'\n",
        "  )\n",
        "\n",
        "TotalCommitted = [\n",
        "    len(sprint_velocity_statistics[\"allConsideredIssueKeys\"]) if sprint_velocity_statistics else 0,\n",
        "    sprint_velocity_statistics[\"estimated\"][\"value\"] if sprint_velocity_statistics and 'value' in sprint_velocity_statistics[\"estimated\"] else 0\n",
        "  ]\n"
      ],
      "metadata": {
        "id": "zGK09IiMhP4V"
      },
      "execution_count": null,
      "outputs": []
    },
    {
      "cell_type": "code",
      "source": [
        "from IPython.core.display import display, HTML, clear_output\n",
        "import numpy as np\n",
        "import matplotlib.pyplot as plt\n",
        "from matplotlib.lines import Line2D\n",
        "from matplotlib.patches import Patch\n",
        "import base64\n",
        "\n",
        "col_labels = ['Count', 'Points']\n",
        "\n",
        "cols = [Removed.color, Done.color, CompletedOutside.color, InProgress.color, ToDo.color]\n",
        "edgeColors = [Removed.edgeColor, Done.edgeColor, CompletedOutside.edgeColor, InProgress.edgeColor, ToDo.edgeColor]\n",
        "hatch = [Removed.hatch, Done.hatch, CompletedOutside.hatch, InProgress.hatch, ToDo.hatch]\n",
        "values = [Removed.getValues(), Done.getValues(), CompletedOutside.getValues(), InProgress.getValues(), ToDo.getValues()]\n",
        "\n",
        "data, data_shape, data_stack = cumulateData(values)\n",
        "\n",
        "clear_output(wait=True)\n",
        "\n",
        "_, ax = plt.subplots(figsize=(10, 10))  # Make the chart 3x bigger\n",
        "\n",
        "for i in np.arange(0, data_shape[0]):\n",
        "  bars = ax.bar(np.arange(data_shape[1]), data[i], bottom=data_stack[i], color=cols[i], edgecolor=edgeColors[i], hatch=hatch[i], width=0.5)\n",
        "  for bar in bars:\n",
        "     height = bar.get_height()\n",
        "     if (height > 0):\n",
        "       ax.text(bar.get_x() + bar.get_width() / 2, bar.get_y() + height / 2, f'{int(height)}', ha='center', va='center', color='black', fontweight='bold')\n",
        "\n",
        "for i in range(len(TotalCommitted)):\n",
        "  ax.vlines(x=i-0.4, ymin=0, ymax=(TotalCommitted[i]), color='#8590a2', linestyle='solid', linewidth=5,)\n",
        "  if (TotalCommitted[i] > 0):\n",
        "    ax.text(i-0.4, (TotalCommitted[i])+0.4, f'{(str(TotalCommitted[i]).rjust(3))}', color='black', horizontalalignment='center', fontweight='bold')\n",
        "\n",
        "ax.set_xticks(np.arange(data_shape[1]))\n",
        "ax.set_xticklabels(col_labels)\n",
        "\n",
        "ax.axhline(0, color='black', linewidth=0.8)\n",
        "\n",
        "legend_elements = [\n",
        "    Line2D([0], [0], color='#8590a2', lw=2, label='Committed'),\n",
        "    Patch(facecolor=ToDo.color, edgecolor=ToDo.edgeColor, label=ToDo.name),\n",
        "    Patch(facecolor=InProgress.color, edgecolor=InProgress.edgeColor, label=InProgress.name),\n",
        "    Patch(facecolor=Done.color, edgecolor=Done.edgeColor, label=Done.name),\n",
        "    Patch(facecolor=CompletedOutside.color, edgecolor=CompletedOutside.edgeColor, hatch=\"X\", label=CompletedOutside.name),\n",
        "    Patch(facecolor=Removed.color, edgecolor=Removed.edgeColor, label=Removed.name)\n",
        "  ]\n",
        "\n",
        "ax.legend(handles=legend_elements, bbox_to_anchor=(1.05, 1), loc='upper left')\n",
        "\n",
        "ax.set_ylim(top=ax.get_ylim()[1] * 1.1)\n",
        "\n",
        "plt.tight_layout()\n",
        "\n",
        "buf = io.BytesIO()\n",
        "plt.savefig(buf, format='png', pad_inches=0.5)\n",
        "buf.seek(0)\n",
        "image_base64 = base64.b64encode(buf.read()).decode('utf-8')\n",
        "\n",
        "committed_vs_planned_chart = f'<img src=\"data:image/png;base64,{image_base64}\" width=\"500px\" height=\"500px  alt=\"Chart Image\"/>'\n",
        "\n",
        "clear_output(wait=True)"
      ],
      "metadata": {
        "colab": {
          "base_uri": "https://localhost:8080/",
          "height": 1000
        },
        "id": "KUR7UqSc43jf",
        "outputId": "637cc6c3-ee7c-4c3e-9285-4547190e9a87",
        "collapsed": true
      },
      "execution_count": null,
      "outputs": [
        {
          "output_type": "display_data",
          "data": {
            "text/plain": [
              "<Figure size 1000x1000 with 1 Axes>"
            ],
            "image/png": "[encoded data removed]"
          },
          "metadata": {}
        }
      ]
    },
    {
      "cell_type": "code",
      "source": [
        "# prompt: given the above chart create a html table that represents the data shown\n",
        "\n",
        "from IPython.display import HTML\n",
        "import numpy as np\n",
        "from datetime import datetime\n",
        "\n",
        "# Sample data (replace with your actual data)\n",
        "data = {\n",
        "    'Category': ['Removed', 'Completed', 'Completed Outside', 'InProgress', 'ToDo'],\n",
        "    'Count': [Removed.count, Done.count, CompletedOutside.count, InProgress.count, ToDo.count],\n",
        "    'Points': [Removed.points, Done.points, CompletedOutside.points, InProgress.points, ToDo.points]\n",
        "}\n",
        "\n",
        "html_table = \"\"\"\n",
        "\"\"\" + committed_vs_planned_chart + \"\"\"\n",
        "<table>\n",
        "  <thead>\n",
        "    <tr>\n",
        "      <th>Category</th>\n",
        "      <th>Count</th>\n",
        "      <th>Points</th>\n",
        "    </tr>\n",
        "  </thead>\n",
        "  <tbody>\n",
        "\"\"\"\n",
        "\n",
        "for i in range(len(data['Category'])):\n",
        "    html_table += f\"\"\"\n",
        "    <tr>\n",
        "      <td>{data['Category'][i]}</td>\n",
        "      <td>{data['Count'][i]}</td>\n",
        "      <td>{data['Points'][i]}</td>\n",
        "    </tr>\n",
        "    \"\"\"\n",
        "\n",
        "html_table += \"\"\"\n",
        "  </tbody>\n",
        "</table>\n",
        "\"\"\"\n",
        "\n",
        "display(HTML(html_table))\n",
        "\n",
        "print(sprint_report[\"sprint\"][\"name\"])\n",
        "print(sprint_report[\"sprint\"][\"goal\"])\n",
        "print(sprint_report[\"sprint\"][\"startDate\"])\n",
        "print(sprint_report[\"sprint\"][\"endDate\"])\n",
        "\n",
        "start = datetime.strptime(sprint_report[\"sprint\"][\"isoStartDate\"], \"%Y-%m-%dT%H:%M:%S%z\").date()\n",
        "end = datetime.strptime(sprint_report[\"sprint\"][\"isoEndDate\"], \"%Y-%m-%dT%H:%M:%S%z\").date()\n",
        "\n",
        "weekmask = ' '.join([k.capitalize()[:3] for k,v in dict(board_config['workingDaysConfig']['weekDays']).items() if v == True])\n",
        "\n",
        "holidays = [datetime.strptime(date, \"%Y-%m-%d\").date() for date in [x['iso8601Date'] for x in board_config['workingDaysConfig']['nonWorkingDays']]]\n",
        "\n",
        "days = np.busday_count(start, end, holidays=holidays, weekmask=weekmask)\n",
        "if (days > 1):\n",
        "  days = days + 1\n",
        "print('Sprint length:', days)\n"
      ],
      "metadata": {
        "colab": {
          "base_uri": "https://localhost:8080/",
          "height": 738
        },
        "id": "jIHH-U-kINjl",
        "outputId": "2dd01d4e-0892-46f0-c434-e141186c09cb"
      },
      "execution_count": null,
      "outputs": [
        {
          "output_type": "display_data",
          "data": {
            "text/plain": [
              "<IPython.core.display.HTML object>"
            ],
            "text/html": [
              "\n",
              "<img src=\"data:image/png;base64,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\" width=\"500px\" height=\"500px  alt=\"Chart Image\"/>\n",
              "<table>\n",
              "  <thead>\n",
              "    <tr>\n",
              "      <th>Category</th>\n",
              "      <th>Count</th>\n",
              "      <th>Points</th>\n",
              "    </tr>\n",
              "  </thead>\n",
              "  <tbody>\n",
              "\n",
              "    <tr>\n",
              "      <td>Removed</td>\n",
              "      <td>0</td>\n",
              "      <td>0</td>\n",
              "    </tr>\n",
              "    \n",
              "    <tr>\n",
              "      <td>Completed</td>\n",
              "      <td>13</td>\n",
              "      <td>39.0</td>\n",
              "    </tr>\n",
              "    \n",
              "    <tr>\n",
              "      <td>Completed Outside</td>\n",
              "      <td>0</td>\n",
              "      <td>0</td>\n",
              "    </tr>\n",
              "    \n",
              "    <tr>\n",
              "      <td>InProgress</td>\n",
              "      <td>18</td>\n",
              "      <td>80.0</td>\n",
              "    </tr>\n",
              "    \n",
              "    <tr>\n",
              "      <td>ToDo</td>\n",
              "      <td>0</td>\n",
              "      <td>0</td>\n",
              "    </tr>\n",
              "    \n",
              "  </tbody>\n",
              "</table>\n"
            ]
          },
          "metadata": {}
        },
        {
          "output_type": "stream",
          "name": "stdout",
          "text": [
            "PI8 - Approvals - Sprint 1\n",
            "Goal 2 | Approvals | Configuration of Short Stay Permit supporting the intended go-live. Excluding E2E Testing.\n",
            "05/Mar/25 9:26 AM\n",
            "18/Mar/25 12:00 AM\n",
            "Sprint length: 10\n"
          ]
        }
      ]
    },
    {
      "cell_type": "markdown",
      "source": [
        "#Report\n",
        "<a id=\"Report\" />"
      ],
      "metadata": {
        "id": "BUE4VAIbQaqO"
      }
    }
  ]
}