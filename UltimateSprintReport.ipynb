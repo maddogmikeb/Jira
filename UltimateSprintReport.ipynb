{
  "nbformat": 4,
  "nbformat_minor": 0,
  "metadata": {
    "colab": {
      "provenance": [],
      "authorship_tag": "ABX9TyPr5yKxr4YUKRH7Z9qyh/pA",
      "include_colab_link": true
    },
    "kernelspec": {
      "name": "python3",
      "display_name": "Python 3"
    },
    "language_info": {
      "name": "python"
    }
  },
  "cells": [
    {
      "cell_type": "markdown",
      "metadata": {
        "id": "view-in-github",
        "colab_type": "text"
      },
      "source": [
        "<a href=\"https://colab.research.google.com/github/maddogmikeb/Jira/blob/master/UltimateSprintReport.ipynb\" target=\"_parent\"><img src=\"https://colab.research.google.com/assets/colab-badge.svg\" alt=\"Open In Colab\"/></a>"
      ]
    },
    {
      "cell_type": "code",
      "source": [
        "# install dependencies\n",
        "\n",
        "from IPython.core.display import clear_output\n",
        "\n",
        "!pip install -q atlassian-python-api\n",
        "!pip install -q tqdm\n",
        "!pip install -q matplotlib\n",
        "\n",
        "clear_output()"
      ],
      "metadata": {
        "id": "6jUcIj44rZot"
      },
      "execution_count": 1,
      "outputs": []
    },
    {
      "cell_type": "code",
      "source": [
        "from IPython.core.display import clear_output\n",
        "\n",
        "sprint_report_url = input(\"Please enter the 'classic Jira sprint report' url:\")\n",
        "\n",
        "clear_output()"
      ],
      "metadata": {
        "id": "hwRcsQ_5_Mpv"
      },
      "execution_count": 44,
      "outputs": []
    },
    {
      "cell_type": "code",
      "source": [
        "# Configure display\n",
        "\n",
        "from IPython.core.display import clear_output\n",
        "from google.colab import data_table\n",
        "import json\n",
        "data_table.enable_dataframe_formatter()\n",
        "\n",
        "def printjson(obj):\n",
        "  print(json.dumps(obj, indent=2))\n",
        "\n",
        "clear_output()"
      ],
      "metadata": {
        "id": "MW2i_WiP_oei"
      },
      "execution_count": 45,
      "outputs": []
    },
    {
      "cell_type": "code",
      "source": [
        "# Log in\n",
        "\n",
        "from IPython.core.display import display, HTML, clear_output\n",
        "from atlassian import Jira\n",
        "from google.colab import userdata\n",
        "from urllib.parse import urlparse\n",
        "\n",
        "parsed_uri = urlparse(sprint_report_url)\n",
        "base_url = '{uri.scheme}://{uri.netloc}/'.format(uri=parsed_uri)\n",
        "\n",
        "jira = Jira(\n",
        "  url=base_url,\n",
        "  username=userdata.get('atlassian_username'),\n",
        "  password=userdata.get('atlassian_apikey'),\n",
        "  cloud=True\n",
        ")\n",
        "\n",
        "me = jira.myself()\n",
        "\n",
        "display(HTML('<table><tr><td>' + me[\"displayName\"] + '</td><td><img src=\"' + me[\"avatarUrls\"][\"32x32\"] + '\"/><td></tr></table>'))\n"
      ],
      "metadata": {
        "colab": {
          "base_uri": "https://localhost:8080/",
          "height": 59
        },
        "id": "8Iq2UW-RIDDT",
        "outputId": "91bbbf5c-76ff-46d6-d1de-2a7a2b0cb326"
      },
      "execution_count": 47,
      "outputs": [
        {
          "output_type": "display_data",
          "data": {
            "text/plain": [
              "<IPython.core.display.HTML object>"
            ],
            "text/html": [
              "<table><tr><td>Mike Burns</td><td><img src=\"https://avatar-management--avatars.us-west-2.prod.public.atl-paas.net/712020:d9c65884-1656-4f68-827c-32ec1a4ae098/2b84f57d-857a-4828-9cfe-4aa7b8843673/32\"/><td></tr></table>"
            ]
          },
          "metadata": {}
        }
      ]
    },
    {
      "cell_type": "code",
      "source": [
        "import numpy as np\n",
        "import matplotlib.pyplot as plt\n",
        "import io\n",
        "from PIL import Image\n",
        "\n",
        "def fig2img(fig):\n",
        "  # Convert a Matplotlib figure to a PIL Image and return it\n",
        "  buf = io.BytesIO()\n",
        "  fig.savefig(buf)\n",
        "  buf.seek(0)\n",
        "  img = Image.open(buf)\n",
        "  return img\n",
        "\n",
        "class DataPoint:\n",
        "  def __init__(self, name, count, points, color, edgeColor):\n",
        "    self.name = name\n",
        "    self.count = count\n",
        "    self.points = points\n",
        "    self.color = color\n",
        "    self.edgeColor = edgeColor\n",
        "\n",
        "  def getValues(self):\n",
        "    return [self.count, self.points]\n",
        "\n",
        "def cumulateData(dataArray):\n",
        "  data = np.array(dataArray)\n",
        "  data_shape = np.shape(data)\n",
        "\n",
        "  # Take negative and positive data apart and cumulate\n",
        "  def get_cumulated_array(data, **kwargs):\n",
        "      cum = data.clip(**kwargs)\n",
        "      cum = np.cumsum(cum, axis=0)\n",
        "      d = np.zeros(np.shape(data))\n",
        "      d[1:] = cum[:-1]\n",
        "      return d\n",
        "\n",
        "  cumulated_data = get_cumulated_array(data, min=0)\n",
        "  cumulated_data_neg = get_cumulated_array(data, max=0)\n",
        "\n",
        "  # Re-merge negative and positive data.\n",
        "  row_mask = (data<0)\n",
        "  cumulated_data[row_mask] = cumulated_data_neg[row_mask]\n",
        "  data_stack = cumulated_data\n",
        "\n",
        "  return data, data_shape, data_stack"
      ],
      "metadata": {
        "id": "x8yDY2S993pd"
      },
      "execution_count": 75,
      "outputs": []
    },
    {
      "cell_type": "code",
      "source": [
        "response = jira.request(absolute=True, method=\"GET\", path=base_url + \"/rest/greenhopper/latest/rapid/charts/sprintreport?rapidViewId=364&sprintId=822\")\n",
        "\n",
        "sprint_report = json.loads(response.content)\n",
        "\n",
        "del sprint_report[\"contents\"][\"completedIssues\"]\n",
        "del sprint_report[\"contents\"][\"issuesNotCompletedInCurrentSprint\"]\n",
        "#del sprint_report[\"contents\"][\"puntedIssues\"]\n",
        "del sprint_report[\"contents\"][\"issuesCompletedInAnotherSprint\"]\n",
        "del sprint_report[\"contents\"][\"issueKeysAddedDuringSprint\"]\n",
        "\n",
        "# sprint_report\n",
        "\n"
      ],
      "metadata": {
        "colab": {
          "base_uri": "https://localhost:8080/"
        },
        "id": "_AxhlzOvyjWO",
        "outputId": "b7cd7cf0-7d03-400e-c24f-5234dd036717"
      },
      "execution_count": 74,
      "outputs": [
        {
          "output_type": "execute_result",
          "data": {
            "text/plain": [
              "6"
            ]
          },
          "metadata": {},
          "execution_count": 74
        }
      ]
    },
    {
      "cell_type": "code",
      "source": [
        "import numpy as np\n",
        "import matplotlib.pyplot as plt\n",
        "from matplotlib.lines import Line2D\n",
        "from matplotlib.patches import Patch\n",
        "\n",
        "Removed = DataPoint('Removed', -1 * sprint_report[\"contents\"]['puntedIssuesEstimateSum'], -1 * len(sprint_report[\"contents\"][\"puntedIssues\"]), '#d04437', '#ccc')\n",
        "\n",
        "ToDo = DataPoint('ToDo', 2, 7, '#091E420F', '#44546F')\n",
        "InProgress = DataPoint('InProgress', 3, 3, '#deebff', '#0055CC')\n",
        "Done = DataPoint('Done', 4, 1, '#e3fcef', '#216E4E')\n",
        "\n",
        "TotalCommitted = [2, 2]\n",
        "TotalCompleted = [4, 1]\n",
        "\n",
        "col_labels = ['Count', 'Points']\n",
        "\n",
        "cols = [Removed.color, Done.color, InProgress.color, ToDo.color]\n",
        "edgeColors = [Removed.edgeColor, Done.edgeColor, InProgress.edgeColor, ToDo.edgeColor]\n",
        "values = [Removed.getValues(), Done.getValues(), InProgress.getValues(), ToDo.getValues()]\n",
        "\n",
        "data, data_shape, data_stack = cumulateData(values)\n",
        "\n",
        "ax = plt.subplot(111)\n",
        "\n",
        "for i in np.arange(0, data_shape[0]):\n",
        "  bars = ax.bar(np.arange(data_shape[1]), data[i], bottom=data_stack[i], color=cols[i], edgecolor=edgeColors[i], )\n",
        "  for bar in bars:\n",
        "     height = bar.get_height()\n",
        "     ax.text(bar.get_x() + bar.get_width() / 2, bar.get_y() + height / 2, f'{int(height)}', ha='center', va='center', color='black')\n",
        "\n",
        "for i in range(len(TotalCompleted)):\n",
        "  lines = ax.vlines(x=i+0.4, ymin=0, ymax=(TotalCompleted[i]), color='cyan', linestyle='solid', linewidth=20,)\n",
        "  ax.text(i+0.4, (TotalCompleted[i])+0.2, f'{(TotalCompleted[i])}', color='black', horizontalalignment='center')\n",
        "\n",
        "for i in range(len(TotalCommitted)):\n",
        "  ax.vlines(x=i-0.4, ymin=0, ymax=(TotalCommitted[i]), color='black', linestyle='solid', linewidth=20,)\n",
        "  ax.text(i-0.4, (TotalCommitted[i])+0.2, f'{(str(TotalCommitted[i]).rjust(3))}', color='black', horizontalalignment='center')\n",
        "\n",
        "ax.set_xticks(np.arange(data_shape[1]))\n",
        "ax.set_xticklabels(col_labels)\n",
        "\n",
        "ax.axhline(0, color='black', linewidth=0.8)\n",
        "\n",
        "legend_elements = [\n",
        "    Line2D([0], [0], color='cyan', lw=2, label='Completed'),\n",
        "    Line2D([0], [0], color='black', lw=2, label='Committed'),\n",
        "    Patch(facecolor=ToDo.color, edgecolor=ToDo.edgeColor, label=ToDo.name),\n",
        "    Patch(facecolor=InProgress.color, edgecolor=InProgress.edgeColor, label=InProgress.name),\n",
        "    Patch(facecolor=Done.color, edgecolor=Done.edgeColor, label=Done.name),\n",
        "    Patch(facecolor=Removed.color, edgecolor=Removed.edgeColor, label=Removed.name)\n",
        "  ]\n",
        "\n",
        "ax.legend(handles=legend_elements, bbox_to_anchor=(1.05, 1), loc='upper left')\n",
        "\n",
        "#plt.show()\n",
        "\n",
        "img = fig2img(plt.gcf())\n",
        "img.show()"
      ],
      "metadata": {
        "colab": {
          "base_uri": "https://localhost:8080/",
          "height": 430
        },
        "id": "KUR7UqSc43jf",
        "outputId": "9c9c4f54-9d97-4943-c133-22aea66ca7fc"
      },
      "execution_count": 38,
      "outputs": [
        {
          "output_type": "display_data",
          "data": {
            "text/plain": [
              "<Figure size 640x480 with 1 Axes>"
            ],
            "image/png": "[encoded data removed]"
          },
          "metadata": {}
        }
      ]
    }
  ]
}