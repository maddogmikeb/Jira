{
  "nbformat": 4,
  "nbformat_minor": 0,
  "metadata": {
    "colab": {
      "provenance": [],
      "authorship_tag": "ABX9TyMsOfV15Vea5cfNTpaA34Zn",
      "include_colab_link": true
    },
    "kernelspec": {
      "name": "python3",
      "display_name": "Python 3"
    },
    "language_info": {
      "name": "python"
    }
  },
  "cells": [
    {
      "cell_type": "markdown",
      "metadata": {
        "id": "view-in-github",
        "colab_type": "text"
      },
      "source": [
        "<a href=\"https://colab.research.google.com/github/maddogmikeb/Jira/blob/master/UltimateSprintReport.ipynb\" target=\"_parent\"><img src=\"https://colab.research.google.com/assets/colab-badge.svg\" alt=\"Open In Colab\"/></a>"
      ]
    },
    {
      "cell_type": "code",
      "source": [
        "# install dependencies\n",
        "\n",
        "from IPython.core.display import clear_output\n",
        "\n",
        "!pip install -q atlassian-python-api\n",
        "!pip install -q tqdm\n",
        "!pip install -q matplotlib\n",
        "\n",
        "clear_output()"
      ],
      "metadata": {
        "id": "6jUcIj44rZot"
      },
      "execution_count": 119,
      "outputs": []
    },
    {
      "cell_type": "code",
      "source": [
        "from IPython.core.display import clear_output\n",
        "\n",
        "#sprint_report_url = input(\"Please enter the 'classic Jira sprint report' url:\")\n",
        "\n",
        "sprint_report_url = \"https://brisbanecitycouncil.atlassian.net/jira/software/c/projects/FDSEWMSR/boards/401/reports/sprint-retrospective?sprint=947\"\n",
        "clear_output()"
      ],
      "metadata": {
        "id": "hwRcsQ_5_Mpv"
      },
      "execution_count": 120,
      "outputs": []
    },
    {
      "cell_type": "code",
      "source": [
        "# Configure display\n",
        "\n",
        "from IPython.core.display import clear_output\n",
        "from google.colab import data_table\n",
        "import json\n",
        "\n",
        "data_table.enable_dataframe_formatter()\n",
        "\n",
        "def printjson(obj):\n",
        "  print(json.dumps(obj, indent=2))\n",
        "\n",
        "clear_output()"
      ],
      "metadata": {
        "id": "MW2i_WiP_oei"
      },
      "execution_count": 121,
      "outputs": []
    },
    {
      "cell_type": "code",
      "source": [
        "# Log in\n",
        "\n",
        "from IPython.core.display import display, HTML, clear_output\n",
        "from atlassian import Jira\n",
        "from google.colab import userdata\n",
        "from urllib.parse import urlparse\n",
        "import re\n",
        "\n",
        "def parse_url(url):\n",
        "    pattern = r\"(https?)://([^/]+)/jira/software/c/projects/([^/]+)/boards/(\\d+)/reports/sprint-retrospective\\?sprint=(\\d+)\"\n",
        "    match = re.search(pattern, url)\n",
        "    if match:\n",
        "        protocol = match.group(1)\n",
        "        base_url = match.group(2)\n",
        "        project = match.group(3)\n",
        "        rapidViewId = match.group(4)\n",
        "        sprintId = match.group(5)\n",
        "        full_base_url = f\"{protocol}://{base_url}\"\n",
        "        return full_base_url, project, rapidViewId, sprintId\n",
        "    else:\n",
        "        return None, None, None, None\n",
        "\n",
        "base_url, project, rapidViewId, sprintId = parse_url(sprint_report_url)\n",
        "\n",
        "jira = Jira(\n",
        "  url=base_url,\n",
        "  username=userdata.get('atlassian_username'),\n",
        "  password=userdata.get('atlassian_apikey'),\n",
        "  cloud=True\n",
        ")\n",
        "\n",
        "me = jira.myself()\n",
        "\n",
        "display(HTML('<table><tr><td>' + me[\"displayName\"] + '</td><td><img src=\"' + me[\"avatarUrls\"][\"32x32\"] + '\"/><td></tr></table>'))\n"
      ],
      "metadata": {
        "colab": {
          "base_uri": "https://localhost:8080/",
          "height": 59
        },
        "id": "8Iq2UW-RIDDT",
        "outputId": "d62a3079-7b4f-4033-bd8c-9a2bc95b6675"
      },
      "execution_count": 122,
      "outputs": [
        {
          "output_type": "display_data",
          "data": {
            "text/plain": [
              "<IPython.core.display.HTML object>"
            ],
            "text/html": [
              "<table><tr><td>Mike Burns</td><td><img src=\"https://avatar-management--avatars.us-west-2.prod.public.atl-paas.net/712020:d9c65884-1656-4f68-827c-32ec1a4ae098/2b84f57d-857a-4828-9cfe-4aa7b8843673/32\"/><td></tr></table>"
            ]
          },
          "metadata": {}
        }
      ]
    },
    {
      "cell_type": "code",
      "source": [
        "import numpy as np\n",
        "import matplotlib.pyplot as plt\n",
        "import io\n",
        "from PIL import Image\n",
        "\n",
        "def fig2img(fig):\n",
        "  # Convert a Matplotlib figure to a PIL Image and return it\n",
        "  buf = io.BytesIO()\n",
        "  fig.savefig(buf)\n",
        "  buf.seek(0)\n",
        "  img = Image.open(buf)\n",
        "  return img\n",
        "\n",
        "class DataPoint:\n",
        "  def __init__(self, name, count, points, color, hatch, edgeColor):\n",
        "    self.name = name\n",
        "    self.count = count\n",
        "    self.points = points\n",
        "    self.color = color\n",
        "    self.hatch = hatch\n",
        "    self.edgeColor = edgeColor\n",
        "\n",
        "  def getValues(self):\n",
        "    return [self.count, self.points]\n",
        "\n",
        "def cumulateData(dataArray):\n",
        "  data = np.array(dataArray)\n",
        "  data_shape = np.shape(data)\n",
        "\n",
        "  # Take negative and positive data apart and cumulate\n",
        "  def get_cumulated_array(data, **kwargs):\n",
        "      cum = data.clip(**kwargs)\n",
        "      cum = np.cumsum(cum, axis=0)\n",
        "      d = np.zeros(np.shape(data))\n",
        "      d[1:] = cum[:-1]\n",
        "      return d\n",
        "\n",
        "  cumulated_data = get_cumulated_array(data, min=0)\n",
        "  cumulated_data_neg = get_cumulated_array(data, max=0)\n",
        "\n",
        "  # Re-merge negative and positive data.\n",
        "  row_mask = (data<0)\n",
        "  cumulated_data[row_mask] = cumulated_data_neg[row_mask]\n",
        "  data_stack = cumulated_data\n",
        "\n",
        "  return data, data_shape, data_stack"
      ],
      "metadata": {
        "id": "x8yDY2S993pd"
      },
      "execution_count": 123,
      "outputs": []
    },
    {
      "cell_type": "code",
      "source": [
        "status_categories = jira.get(\"/rest/api/2/statuscategory\")"
      ],
      "metadata": {
        "id": "4KyXf_PoX5jW"
      },
      "execution_count": 124,
      "outputs": []
    },
    {
      "cell_type": "code",
      "source": [
        "sprint_report = json.loads(jira.request(absolute=True, method=\"GET\", path=\"{base_url}{path}?rapidViewId={rapidViewId}&sprintId={sprintId}\".format(base_url = base_url, path=\"/rest/greenhopper/latest/rapid/charts/sprintreport\", rapidViewId=rapidViewId, sprintId=sprintId)).content)"
      ],
      "metadata": {
        "id": "_AxhlzOvyjWO"
      },
      "execution_count": 125,
      "outputs": []
    },
    {
      "cell_type": "code",
      "source": [
        "velocity_statistics = json.loads(jira.request(absolute=True, method=\"GET\", path=\"{base_url}{path}?rapidViewId={rapidViewId}\".format(base_url = base_url, path=\"/rest/greenhopper/1.0/rapid/charts/velocity.json\", rapidViewId=rapidViewId)).content)\n",
        "sprint_velocity_statistics = velocity_statistics['velocityStatEntries'][str(sprintId)]"
      ],
      "metadata": {
        "id": "lf6BBaId4Y61"
      },
      "execution_count": 126,
      "outputs": []
    },
    {
      "cell_type": "code",
      "source": [
        "board_config = json.loads(jira.request(absolute=True, method=\"GET\", path=\"{base_url}{path}?rapidViewId={rapidViewId}\".format(base_url = base_url, path=\"/rest/greenhopper/1.0/rapidviewconfig/editmodel.json\", rapidViewId=rapidViewId)).content)"
      ],
      "metadata": {
        "id": "D4EiMEf1Rj_B"
      },
      "execution_count": 127,
      "outputs": []
    },
    {
      "cell_type": "code",
      "source": [
        "ToDoEstimate = 0\n",
        "ToDoCount = 0\n",
        "ProgressEstimate = 0\n",
        "ProgressCount = 0\n",
        "\n",
        "TODO_KEY_ID =  str([x['id'] for x in status_categories if x['name'] == 'To Do'][0])\n",
        "INPROGRESS_KEY_ID  = str([x['id'] for x in status_categories if x['name'] == 'In Progress'][0])\n",
        "\n",
        "for issue in sprint_report[\"contents\"][\"issuesNotCompletedInCurrentSprint\"]:\n",
        "  if issue[\"status\"][\"statusCategory\"]['id'] == TODO_KEY_ID:\n",
        "    ToDoCount += 1\n",
        "    ToDoEstimate += issue['estimateStatistic']['statFieldValue']['value']\n",
        "\n",
        "  if issue[\"status\"][\"statusCategory\"]['id'] == INPROGRESS_KEY_ID:\n",
        "    ProgressCount += 1\n",
        "    ProgressEstimate += issue['estimateStatistic']['statFieldValue']['value'] if \"value\" in issue['estimateStatistic']['statFieldValue'] else 0\n",
        "\n",
        "Removed = DataPoint(\n",
        "    'Removed',\n",
        "    -1 * len(sprint_report[\"contents\"][\"puntedIssues\"]),\n",
        "    -1 * sprint_report[\"contents\"]['puntedIssuesEstimateSum']['value'] if \"value\" in sprint_report[\"contents\"][\"puntedIssuesEstimateSum\"] else 0,\n",
        "    '#d04437',\n",
        "    None,\n",
        "    '#ccc'\n",
        "  )\n",
        "\n",
        "ToDo = DataPoint(\n",
        "    'ToDo',\n",
        "    ToDoCount,\n",
        "    ToDoEstimate,\n",
        "    '#091E420F',\n",
        "    None,\n",
        "    '#44546F'\n",
        "  )\n",
        "\n",
        "InProgress = DataPoint(\n",
        "    'InProgress',\n",
        "    ProgressCount,\n",
        "    ProgressEstimate,\n",
        "    '#deebff',\n",
        "    None,\n",
        "    '#0055CC'\n",
        "  )\n",
        "\n",
        "Done = DataPoint(\n",
        "    'Completed',\n",
        "    len(sprint_report[\"contents\"][\"completedIssues\"]),\n",
        "    sprint_report[\"contents\"][\"completedIssuesEstimateSum\"]['value'] if \"value\" in sprint_report[\"contents\"][\"completedIssuesEstimateSum\"] else 0,\n",
        "    '#e3fcef',\n",
        "    None,\n",
        "    '#216E4E'\n",
        "  )\n",
        "\n",
        "CompletedOutside = DataPoint(\n",
        "    'Completed Outside',\n",
        "    len(sprint_report[\"contents\"][\"issuesCompletedInAnotherSprint\"]),\n",
        "    sprint_report[\"contents\"][\"issuesCompletedInAnotherSprintEstimateSum\"]['value'] if \"value\" in sprint_report[\"contents\"][\"issuesCompletedInAnotherSprintEstimateSum\"] else 0,\n",
        "    '#e3fcef',\n",
        "    'X',\n",
        "    '#216E4E'\n",
        "  )\n",
        "\n",
        "TotalCommitted = [\n",
        "    len(sprint_velocity_statistics[\"allConsideredIssueKeys\"]),\n",
        "    sprint_velocity_statistics[\"estimated\"][\"value\"] if 'value' in sprint_velocity_statistics[\"estimated\"] else 0\n",
        "  ]\n"
      ],
      "metadata": {
        "id": "zGK09IiMhP4V"
      },
      "execution_count": 128,
      "outputs": []
    },
    {
      "cell_type": "code",
      "source": [
        "from IPython.core.display import display, HTML, clear_output\n",
        "import numpy as np\n",
        "import matplotlib.pyplot as plt\n",
        "from matplotlib.lines import Line2D\n",
        "from matplotlib.patches import Patch\n",
        "import base64\n",
        "\n",
        "col_labels = ['Count', 'Points']\n",
        "\n",
        "cols = [Removed.color, Done.color, CompletedOutside.color, InProgress.color, ToDo.color]\n",
        "edgeColors = [Removed.edgeColor, Done.edgeColor, CompletedOutside.edgeColor, InProgress.edgeColor, ToDo.edgeColor]\n",
        "hatch = [Removed.hatch, Done.hatch, CompletedOutside.hatch, InProgress.hatch, ToDo.hatch]\n",
        "values = [Removed.getValues(), Done.getValues(), CompletedOutside.getValues(), InProgress.getValues(), ToDo.getValues()]\n",
        "\n",
        "data, data_shape, data_stack = cumulateData(values)\n",
        "\n",
        "clear_output(wait=True)\n",
        "\n",
        "_, ax = plt.subplots(figsize=(10, 10))  # Make the chart 3x bigger\n",
        "\n",
        "for i in np.arange(0, data_shape[0]):\n",
        "  bars = ax.bar(np.arange(data_shape[1]), data[i], bottom=data_stack[i], color=cols[i], edgecolor=edgeColors[i], hatch=hatch[i], width=0.5)\n",
        "  for bar in bars:\n",
        "     height = bar.get_height()\n",
        "     ax.text(bar.get_x() + bar.get_width() / 2, bar.get_y() + height / 2, f'{int(height)}', ha='center', va='center', color='black', fontweight='bold')\n",
        "\n",
        "for i in range(len(TotalCommitted)):\n",
        "  ax.vlines(x=i-0.4, ymin=0, ymax=(TotalCommitted[i]), color='#8590a2', linestyle='solid', linewidth=5,)\n",
        "  ax.text(i-0.4, (TotalCommitted[i])+0.4, f'{(str(TotalCommitted[i]).rjust(3))}', color='black', horizontalalignment='center', fontweight='bold')\n",
        "\n",
        "ax.set_xticks(np.arange(data_shape[1]))\n",
        "ax.set_xticklabels(col_labels)\n",
        "\n",
        "ax.axhline(0, color='black', linewidth=0.8)\n",
        "\n",
        "legend_elements = [\n",
        "    Line2D([0], [0], color='#8590a2', lw=2, label='Committed'),\n",
        "    Patch(facecolor=ToDo.color, edgecolor=ToDo.edgeColor, label=ToDo.name),\n",
        "    Patch(facecolor=InProgress.color, edgecolor=InProgress.edgeColor, label=InProgress.name),\n",
        "    Patch(facecolor=Done.color, edgecolor=Done.edgeColor, label=Done.name),\n",
        "    Patch(facecolor=CompletedOutside.color, edgecolor=CompletedOutside.edgeColor, hatch=\"X\", label=CompletedOutside.name),\n",
        "    Patch(facecolor=Removed.color, edgecolor=Removed.edgeColor, label=Removed.name)\n",
        "  ]\n",
        "\n",
        "ax.legend(handles=legend_elements, bbox_to_anchor=(1.05, 1), loc='upper left')\n",
        "\n",
        "ax.set_ylim(top=ax.get_ylim()[1] * 1.1)\n",
        "\n",
        "plt.tight_layout()\n",
        "\n",
        "buf = io.BytesIO()\n",
        "plt.savefig(buf, format='png', pad_inches=0.5)\n",
        "buf.seek(0)\n",
        "image_base64 = base64.b64encode(buf.read()).decode('utf-8')\n",
        "\n",
        "committed_vs_planned_chart = f'<img src=\"data:image/png;base64,{image_base64}\" width=\"500px\" height=\"500px  alt=\"Chart Image\"/>'\n",
        "\n",
        "clear_output(wait=True)"
      ],
      "metadata": {
        "colab": {
          "base_uri": "https://localhost:8080/",
          "height": 1000
        },
        "id": "KUR7UqSc43jf",
        "outputId": "fbe6cbdf-72de-46dc-a4d0-80b6b122c645",
        "collapsed": true
      },
      "execution_count": 129,
      "outputs": [
        {
          "output_type": "display_data",
          "data": {
            "text/plain": [
              "<Figure size 1000x1000 with 1 Axes>"
            ],
            "image/png": "[encoded data removed]"
          },
          "metadata": {}
        }
      ]
    },
    {
      "cell_type": "code",
      "source": [
        "# prompt: given the above chart create a html table that represents the data shown\n",
        "\n",
        "from IPython.display import HTML\n",
        "import numpy as np\n",
        "from datetime import datetime\n",
        "\n",
        "# Sample data (replace with your actual data)\n",
        "data = {\n",
        "    'Category': ['Removed', 'Completed', 'Completed Outside', 'InProgress', 'ToDo'],\n",
        "    'Count': [Removed.count, Done.count, CompletedOutside.count, InProgress.count, ToDo.count],\n",
        "    'Points': [Removed.points, Done.points, CompletedOutside.points, InProgress.points, ToDo.points]\n",
        "}\n",
        "\n",
        "html_table = \"\"\"\n",
        "\"\"\" + committed_vs_planned_chart + \"\"\"\n",
        "<table>\n",
        "  <thead>\n",
        "    <tr>\n",
        "      <th>Category</th>\n",
        "      <th>Count</th>\n",
        "      <th>Points</th>\n",
        "    </tr>\n",
        "  </thead>\n",
        "  <tbody>\n",
        "\"\"\"\n",
        "\n",
        "for i in range(len(data['Category'])):\n",
        "    html_table += f\"\"\"\n",
        "    <tr>\n",
        "      <td>{data['Category'][i]}</td>\n",
        "      <td>{data['Count'][i]}</td>\n",
        "      <td>{data['Points'][i]}</td>\n",
        "    </tr>\n",
        "    \"\"\"\n",
        "\n",
        "html_table += \"\"\"\n",
        "  </tbody>\n",
        "</table>\n",
        "\"\"\"\n",
        "\n",
        "display(HTML(html_table))\n",
        "\n",
        "print(sprint_report[\"sprint\"][\"name\"])\n",
        "print(sprint_report[\"sprint\"][\"goal\"])\n",
        "print(sprint_report[\"sprint\"][\"startDate\"])\n",
        "print(sprint_report[\"sprint\"][\"endDate\"])\n",
        "\n",
        "start = datetime.strptime(sprint_report[\"sprint\"][\"isoStartDate\"], \"%Y-%m-%dT%H:%M:%S%z\").date()\n",
        "end = datetime.strptime(sprint_report[\"sprint\"][\"isoEndDate\"], \"%Y-%m-%dT%H:%M:%S%z\").date()\n",
        "\n",
        "weekmask = ' '.join([k.capitalize()[:3] for k,v in dict(board_config['workingDaysConfig']['weekDays']).items() if v == True])\n",
        "\n",
        "holidays = [datetime.strptime(date, \"%Y-%m-%d\").date() for date in [x['iso8601Date'] for x in board_config['workingDaysConfig']['nonWorkingDays']]]\n",
        "\n",
        "days = np.busday_count(start, end, holidays=holidays, weekmask=weekmask)\n",
        "if (days > 1):\n",
        "  days = days + 1\n",
        "print('Sprint length:', days)\n"
      ],
      "metadata": {
        "colab": {
          "base_uri": "https://localhost:8080/",
          "height": 738
        },
        "id": "jIHH-U-kINjl",
        "outputId": "9e949952-5d3b-4575-ab52-18eeb4b6850d"
      },
      "execution_count": 130,
      "outputs": [
        {
          "output_type": "display_data",
          "data": {
            "text/plain": [
              "<IPython.core.display.HTML object>"
            ],
            "text/html": [
              "\n",
              "<img src=\"data:image/png;base64,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\" width=\"500px\" height=\"500px  alt=\"Chart Image\"/>\n",
              "<table>\n",
              "  <thead>\n",
              "    <tr>\n",
              "      <th>Category</th>\n",
              "      <th>Count</th>\n",
              "      <th>Points</th>\n",
              "    </tr>\n",
              "  </thead>\n",
              "  <tbody>\n",
              "\n",
              "    <tr>\n",
              "      <td>Removed</td>\n",
              "      <td>-8</td>\n",
              "      <td>-24.0</td>\n",
              "    </tr>\n",
              "    \n",
              "    <tr>\n",
              "      <td>Completed</td>\n",
              "      <td>0</td>\n",
              "      <td>0</td>\n",
              "    </tr>\n",
              "    \n",
              "    <tr>\n",
              "      <td>Completed Outside</td>\n",
              "      <td>0</td>\n",
              "      <td>0</td>\n",
              "    </tr>\n",
              "    \n",
              "    <tr>\n",
              "      <td>InProgress</td>\n",
              "      <td>11</td>\n",
              "      <td>59.0</td>\n",
              "    </tr>\n",
              "    \n",
              "    <tr>\n",
              "      <td>ToDo</td>\n",
              "      <td>0</td>\n",
              "      <td>0</td>\n",
              "    </tr>\n",
              "    \n",
              "  </tbody>\n",
              "</table>\n"
            ]
          },
          "metadata": {}
        },
        {
          "output_type": "stream",
          "name": "stdout",
          "text": [
            "PI8 - Approvals - Sprint 0\n",
            "Elaboration of items and planning for A-R4.0 Release\n",
            "19/Feb/25 7:19 PM\n",
            "04/Mar/25 5:00 PM\n",
            "Sprint length: 10\n"
          ]
        }
      ]
    },
    {
      "cell_type": "code",
      "source": [],
      "metadata": {
        "id": "BsANz-fKNyZa"
      },
      "execution_count": 130,
      "outputs": []
    }
  ]
}