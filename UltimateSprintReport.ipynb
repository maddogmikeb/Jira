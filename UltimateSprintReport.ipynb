{
  "nbformat": 4,
  "nbformat_minor": 0,
  "metadata": {
    "colab": {
      "provenance": [],
      "authorship_tag": "ABX9TyP629VRzxMGPJEmr517DzGw",
      "include_colab_link": true
    },
    "kernelspec": {
      "name": "python3",
      "display_name": "Python 3"
    },
    "language_info": {
      "name": "python"
    }
  },
  "cells": [
    {
      "cell_type": "markdown",
      "metadata": {
        "id": "view-in-github",
        "colab_type": "text"
      },
      "source": [
        "<a href=\"https://colab.research.google.com/github/maddogmikeb/Jira/blob/master/UltimateSprintReport.ipynb\" target=\"_parent\"><img src=\"https://colab.research.google.com/assets/colab-badge.svg\" alt=\"Open In Colab\"/></a>"
      ]
    },
    {
      "cell_type": "code",
      "source": [
        "# install dependencies\n",
        "\n",
        "from IPython.core.display import clear_output\n",
        "\n",
        "!pip install -q atlassian-python-api\n",
        "!pip install -q tqdm\n",
        "!pip install -q matplotlib\n",
        "\n",
        "clear_output()"
      ],
      "metadata": {
        "id": "6jUcIj44rZot"
      },
      "execution_count": 1,
      "outputs": []
    },
    {
      "cell_type": "code",
      "source": [
        "from IPython.core.display import clear_output\n",
        "\n",
        "sprint_report_url = input(\"Please enter the 'classic Jira sprint report' url:\")\n",
        "\n",
        "clear_output()"
      ],
      "metadata": {
        "id": "hwRcsQ_5_Mpv"
      },
      "execution_count": 2,
      "outputs": []
    },
    {
      "cell_type": "code",
      "source": [
        "# Configure display\n",
        "\n",
        "from IPython.core.display import clear_output\n",
        "from google.colab import data_table\n",
        "import json\n",
        "\n",
        "data_table.enable_dataframe_formatter()\n",
        "\n",
        "def printjson(obj):\n",
        "  print(json.dumps(obj, indent=2))\n",
        "\n",
        "clear_output()"
      ],
      "metadata": {
        "id": "MW2i_WiP_oei"
      },
      "execution_count": 3,
      "outputs": []
    },
    {
      "cell_type": "code",
      "source": [
        "# Log in\n",
        "\n",
        "from IPython.core.display import display, HTML, clear_output\n",
        "from atlassian import Jira\n",
        "from google.colab import userdata\n",
        "from urllib.parse import urlparse\n",
        "import re\n",
        "\n",
        "def parse_url(url):\n",
        "    pattern = r\"(https?)://([^/]+)/jira/software/c/projects/([^/]+)/boards/(\\d+)/reports/sprint-retrospective\\?sprint=(\\d+)\"\n",
        "    match = re.search(pattern, url)\n",
        "    if match:\n",
        "        protocol = match.group(1)\n",
        "        base_url = match.group(2)\n",
        "        project = match.group(3)\n",
        "        rapidViewId = match.group(4)\n",
        "        sprintId = match.group(5)\n",
        "        full_base_url = f\"{protocol}://{base_url}\"\n",
        "        return full_base_url, project, rapidViewId, sprintId\n",
        "    else:\n",
        "        return None, None, None, None\n",
        "\n",
        "base_url, project, rapidViewId, sprintId = parse_url(sprint_report_url)\n",
        "\n",
        "jira = Jira(\n",
        "  url=base_url,\n",
        "  username=userdata.get('atlassian_username'),\n",
        "  password=userdata.get('atlassian_apikey'),\n",
        "  cloud=True\n",
        ")\n",
        "\n",
        "me = jira.myself()\n",
        "\n",
        "display(HTML('<table><tr><td>' + me[\"displayName\"] + '</td><td><img src=\"' + me[\"avatarUrls\"][\"32x32\"] + '\"/><td></tr></table>'))\n"
      ],
      "metadata": {
        "colab": {
          "base_uri": "https://localhost:8080/",
          "height": 59
        },
        "id": "8Iq2UW-RIDDT",
        "outputId": "e0cb0f75-9a21-4c69-bd73-099370308236"
      },
      "execution_count": 4,
      "outputs": [
        {
          "output_type": "display_data",
          "data": {
            "text/plain": [
              "<IPython.core.display.HTML object>"
            ],
            "text/html": [
              "<table><tr><td>Mike Burns</td><td><img src=\"https://avatar-management--avatars.us-west-2.prod.public.atl-paas.net/712020:d9c65884-1656-4f68-827c-32ec1a4ae098/2b84f57d-857a-4828-9cfe-4aa7b8843673/32\"/><td></tr></table>"
            ]
          },
          "metadata": {}
        }
      ]
    },
    {
      "cell_type": "code",
      "source": [
        "import numpy as np\n",
        "import matplotlib.pyplot as plt\n",
        "import io\n",
        "from PIL import Image\n",
        "\n",
        "def fig2img(fig):\n",
        "  # Convert a Matplotlib figure to a PIL Image and return it\n",
        "  buf = io.BytesIO()\n",
        "  fig.savefig(buf)\n",
        "  buf.seek(0)\n",
        "  img = Image.open(buf)\n",
        "  return img\n",
        "\n",
        "class DataPoint:\n",
        "  def __init__(self, name, count, points, color, edgeColor):\n",
        "    self.name = name\n",
        "    self.count = count\n",
        "    self.points = points\n",
        "    self.color = color\n",
        "    self.hatch = 'X'\n",
        "    self.edgeColor = edgeColor\n",
        "\n",
        "  def getValues(self):\n",
        "    return [self.count, self.points]\n",
        "\n",
        "def cumulateData(dataArray):\n",
        "  data = np.array(dataArray)\n",
        "  data_shape = np.shape(data)\n",
        "\n",
        "  # Take negative and positive data apart and cumulate\n",
        "  def get_cumulated_array(data, **kwargs):\n",
        "      cum = data.clip(**kwargs)\n",
        "      cum = np.cumsum(cum, axis=0)\n",
        "      d = np.zeros(np.shape(data))\n",
        "      d[1:] = cum[:-1]\n",
        "      return d\n",
        "\n",
        "  cumulated_data = get_cumulated_array(data, min=0)\n",
        "  cumulated_data_neg = get_cumulated_array(data, max=0)\n",
        "\n",
        "  # Re-merge negative and positive data.\n",
        "  row_mask = (data<0)\n",
        "  cumulated_data[row_mask] = cumulated_data_neg[row_mask]\n",
        "  data_stack = cumulated_data\n",
        "\n",
        "  return data, data_shape, data_stack"
      ],
      "metadata": {
        "id": "x8yDY2S993pd"
      },
      "execution_count": 5,
      "outputs": []
    },
    {
      "cell_type": "code",
      "source": [
        "status_categories = jira.get(\"/rest/api/2/statuscategory\")"
      ],
      "metadata": {
        "id": "4KyXf_PoX5jW"
      },
      "execution_count": 6,
      "outputs": []
    },
    {
      "cell_type": "code",
      "source": [
        "sprint_report = json.loads(jira.request(absolute=True, method=\"GET\", path=\"{base_url}{path}?rapidViewId={rapidViewId}&sprintId={sprintId}\".format(base_url = base_url, path=\"/rest/greenhopper/latest/rapid/charts/sprintreport\", rapidViewId=rapidViewId, sprintId=sprintId)).content)"
      ],
      "metadata": {
        "id": "_AxhlzOvyjWO"
      },
      "execution_count": 7,
      "outputs": []
    },
    {
      "cell_type": "code",
      "source": [
        "response = json.loads(jira.request(absolute=True, method=\"GET\", path=\"{base_url}{path}?rapidViewId={rapidViewId}\".format(base_url = base_url, path=\"/rest/greenhopper/1.0/rapid/charts/velocity.json\", rapidViewId=rapidViewId)).content)\n",
        "velocity_statistics = response['velocityStatEntries'][str(sprintId)]"
      ],
      "metadata": {
        "id": "lf6BBaId4Y61"
      },
      "execution_count": 8,
      "outputs": []
    },
    {
      "cell_type": "code",
      "source": [
        "ToDoEstimate = 0\n",
        "ToDoCount = 0\n",
        "ProgressEstimate = 0\n",
        "ProgressCount = 0\n",
        "\n",
        "TODO_KEY_ID =  str([x['id'] for x in status_categories if x['name'] == 'To Do'][0])\n",
        "INPROGRESS_KEY_ID  = str([x['id'] for x in status_categories if x['name'] == 'In Progress'][0])\n",
        "\n",
        "for issue in sprint_report[\"contents\"][\"issuesNotCompletedInCurrentSprint\"]:\n",
        "  if issue[\"status\"][\"statusCategory\"]['id'] == TODO_KEY_ID:\n",
        "    ToDoCount += 1\n",
        "    ToDoEstimate += issue['estimateStatistic']['statFieldValue']['value']\n",
        "\n",
        "  if issue[\"status\"][\"statusCategory\"]['id'] == INPROGRESS_KEY_ID:\n",
        "    ProgressCount += 1\n",
        "    ProgressEstimate += issue['estimateStatistic']['statFieldValue']['value'] if \"value\" in issue['estimateStatistic']['statFieldValue'] else 0\n",
        "\n",
        "Removed = DataPoint(\n",
        "    'Removed',\n",
        "    -1 * len(sprint_report[\"contents\"][\"puntedIssues\"]),\n",
        "    -1 * sprint_report[\"contents\"]['puntedIssuesEstimateSum']['value'] if \"value\" in sprint_report[\"contents\"][\"puntedIssuesEstimateSum\"] else 0,\n",
        "    '#d04437',\n",
        "    '#ccc'\n",
        "  )\n",
        "\n",
        "ToDo = DataPoint(\n",
        "    'ToDo',\n",
        "    ToDoCount,\n",
        "    ToDoEstimate,\n",
        "    '#091E420F',\n",
        "    '#44546F'\n",
        "  )\n",
        "\n",
        "InProgress = DataPoint(\n",
        "    'InProgress',\n",
        "    ProgressCount,\n",
        "    ProgressEstimate,\n",
        "    '#deebff',\n",
        "    '#0055CC'\n",
        "  )\n",
        "\n",
        "Done = DataPoint(\n",
        "    'Completed',\n",
        "    len(sprint_report[\"contents\"][\"completedIssues\"]),\n",
        "    sprint_report[\"contents\"][\"completedIssuesEstimateSum\"]['value'] if \"value\" in sprint_report[\"contents\"][\"completedIssuesEstimateSum\"] else 0,\n",
        "    '#e3fcef',\n",
        "    '#216E4E'\n",
        "  )\n",
        "\n",
        "CompletedOutside = DataPoint(\n",
        "    'Completed Outside',\n",
        "    len(sprint_report[\"contents\"][\"issuesCompletedInAnotherSprint\"]),\n",
        "    sprint_report[\"contents\"][\"issuesCompletedInAnotherSprintEstimateSum\"]['value'] if \"value\" in sprint_report[\"contents\"][\"issuesCompletedInAnotherSprintEstimateSum\"] else 0,\n",
        "    '#e3fcef',\n",
        "    '#216E4E'\n",
        "  )\n",
        "\n",
        "TotalCommitted = [\n",
        "    len(velocity_statistics[\"allConsideredIssueKeys\"]),\n",
        "    velocity_statistics[\"estimated\"][\"value\"] if 'value' in velocity_statistics[\"estimated\"] else 0\n",
        "  ]\n",
        "TotalCompleted = [\n",
        "    len(velocity_statistics[\"completedEntries\"]),\n",
        "    velocity_statistics[\"completed\"][\"value\"] if 'value' in velocity_statistics[\"completed\"] else 0\n",
        "  ]"
      ],
      "metadata": {
        "id": "zGK09IiMhP4V"
      },
      "execution_count": 9,
      "outputs": []
    },
    {
      "cell_type": "code",
      "source": [
        "import numpy as np\n",
        "import matplotlib.pyplot as plt\n",
        "from matplotlib.lines import Line2D\n",
        "from matplotlib.patches import Patch\n",
        "\n",
        "col_labels = ['Count', 'Points']\n",
        "\n",
        "cols = [Removed.color, Done.color, CompletedOutside.color, InProgress.color, ToDo.color]\n",
        "edgeColors = [Removed.edgeColor, Done.edgeColor, CompletedOutside.edgeColor, InProgress.edgeColor, ToDo.edgeColor]\n",
        "values = [Removed.getValues(), Done.getValues(), CompletedOutside.getValues(), InProgress.getValues(), ToDo.getValues()]\n",
        "\n",
        "data, data_shape, data_stack = cumulateData(values)\n",
        "\n",
        "#ax = plt.subplot(111)\n",
        "\n",
        "_, ax = plt.subplots(figsize=(10, 10))  # Make the chart 3x bigger\n",
        "\n",
        "for i in np.arange(0, data_shape[0]):\n",
        "  bars = ax.bar(np.arange(data_shape[1]), data[i], bottom=data_stack[i], color=cols[i], edgecolor=edgeColors[i], )\n",
        "  for bar in bars:\n",
        "     height = bar.get_height()\n",
        "     ax.text(bar.get_x() + bar.get_width() / 2, bar.get_y() + height / 2, f'{int(height)}', ha='center', va='center', color='black')\n",
        "\n",
        "for i in range(len(TotalCompleted)):\n",
        "  lines = ax.vlines(x=i+0.4, ymin=0, ymax=(TotalCompleted[i]), color='#22a06b', linestyle='solid', linewidth=20,)\n",
        "  ax.text(i+0.4, (TotalCompleted[i])+0.4, f'{(TotalCompleted[i])}', color='black', horizontalalignment='center')\n",
        "\n",
        "for i in range(len(TotalCommitted)):\n",
        "  ax.vlines(x=i-0.4, ymin=0, ymax=(TotalCommitted[i]), color='#8590a2', linestyle='solid', linewidth=20,)\n",
        "  ax.text(i-0.4, (TotalCommitted[i])+0.4, f'{(str(TotalCommitted[i]).rjust(3))}', color='black', horizontalalignment='center')\n",
        "\n",
        "ax.set_xticks(np.arange(data_shape[1]))\n",
        "ax.set_xticklabels(col_labels)\n",
        "\n",
        "ax.axhline(0, color='black', linewidth=0.8)\n",
        "\n",
        "legend_elements = [\n",
        "    Line2D([0], [0], color='#22a06b', lw=2, label='Completed'),\n",
        "    Line2D([0], [0], color='#8590a2', lw=2, label='Committed'),\n",
        "    Patch(facecolor=ToDo.color, edgecolor=ToDo.edgeColor, label=ToDo.name),\n",
        "    Patch(facecolor=InProgress.color, edgecolor=InProgress.edgeColor, label=InProgress.name),\n",
        "    Patch(facecolor=Done.color, edgecolor=Done.edgeColor, label=Done.name),\n",
        "    Patch(facecolor=CompletedOutside.color, edgecolor=CompletedOutside.edgeColor, hatch=\"X\", label=CompletedOutside.name),\n",
        "    Patch(facecolor=Removed.color, edgecolor=Removed.edgeColor, label=Removed.name)\n",
        "  ]\n",
        "\n",
        "ax.legend(handles=legend_elements, bbox_to_anchor=(1.05, 1), loc='upper left')\n",
        "\n",
        "ax.set_ylim(top=ax.get_ylim()[1] * 1.1)\n",
        "\n",
        "#plt.show()\n",
        "\n",
        "img = fig2img(plt.gcf())\n",
        "img.show()"
      ],
      "metadata": {
        "colab": {
          "base_uri": "https://localhost:8080/",
          "height": 830
        },
        "id": "KUR7UqSc43jf",
        "outputId": "a84fdac4-5327-4af5-c40d-6498da22716d"
      },
      "execution_count": 10,
      "outputs": [
        {
          "output_type": "display_data",
          "data": {
            "text/plain": [
              "<Figure size 1000x1000 with 1 Axes>"
            ],
            "image/png": "[encoded data removed]"
          },
          "metadata": {}
        }
      ]
    }
  ]
}