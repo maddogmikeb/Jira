{
  "nbformat": 4,
  "nbformat_minor": 0,
  "metadata": {
    "colab": {
      "provenance": [],
      "authorship_tag": "ABX9TyOga+swPnc+tzxqHhSq2pAr",
      "include_colab_link": true
    },
    "kernelspec": {
      "name": "python3",
      "display_name": "Python 3"
    },
    "language_info": {
      "name": "python"
    }
  },
  "cells": [
    {
      "cell_type": "markdown",
      "metadata": {
        "id": "view-in-github",
        "colab_type": "text"
      },
      "source": [
        "<a href=\"https://colab.research.google.com/github/maddogmikeb/Jira/blob/master/UltimateSprintReport.ipynb\" target=\"_parent\"><img src=\"https://colab.research.google.com/assets/colab-badge.svg\" alt=\"Open In Colab\"/></a>"
      ]
    },
    {
      "cell_type": "code",
      "source": [
        "# install dependencies\n",
        "\n",
        "from IPython.core.display import clear_output\n",
        "\n",
        "!pip install -q atlassian-python-api\n",
        "!pip install -q tqdm\n",
        "!pip install -q matplotlib\n",
        "\n",
        "clear_output()"
      ],
      "metadata": {
        "id": "6jUcIj44rZot"
      },
      "execution_count": 1,
      "outputs": []
    },
    {
      "cell_type": "code",
      "source": [
        "from IPython.core.display import clear_output\n",
        "\n",
        "sprint_report_url = input(\"Please enter the 'classic Jira sprint report' url:\")\n",
        "\n",
        "clear_output()"
      ],
      "metadata": {
        "id": "hwRcsQ_5_Mpv"
      },
      "execution_count": 2,
      "outputs": []
    },
    {
      "cell_type": "code",
      "source": [
        "# Configure display\n",
        "\n",
        "from IPython.core.display import clear_output\n",
        "from google.colab import data_table\n",
        "import json\n",
        "\n",
        "data_table.enable_dataframe_formatter()\n",
        "\n",
        "def printjson(obj):\n",
        "  print(json.dumps(obj, indent=2))\n",
        "\n",
        "clear_output()"
      ],
      "metadata": {
        "id": "MW2i_WiP_oei"
      },
      "execution_count": 3,
      "outputs": []
    },
    {
      "cell_type": "code",
      "source": [
        "# Log in\n",
        "\n",
        "from IPython.core.display import display, HTML, clear_output\n",
        "from atlassian import Jira\n",
        "from google.colab import userdata\n",
        "from urllib.parse import urlparse\n",
        "import re\n",
        "\n",
        "def parse_url(url):\n",
        "    pattern = r\"(https?)://([^/]+)/jira/software/c/projects/([^/]+)/boards/(\\d+)/reports/sprint-retrospective\\?sprint=(\\d+)\"\n",
        "    match = re.search(pattern, url)\n",
        "    if match:\n",
        "        protocol = match.group(1)\n",
        "        base_url = match.group(2)\n",
        "        project = match.group(3)\n",
        "        rapidViewId = match.group(4)\n",
        "        sprintId = match.group(5)\n",
        "        full_base_url = f\"{protocol}://{base_url}\"\n",
        "        return full_base_url, project, rapidViewId, sprintId\n",
        "    else:\n",
        "        return None, None, None, None\n",
        "\n",
        "base_url, project, rapidViewId, sprintId = parse_url(sprint_report_url)\n",
        "\n",
        "jira = Jira(\n",
        "  url=base_url,\n",
        "  username=userdata.get('atlassian_username'),\n",
        "  password=userdata.get('atlassian_apikey'),\n",
        "  cloud=True\n",
        ")\n",
        "\n",
        "me = jira.myself()\n",
        "\n",
        "display(HTML('<table><tr><td>' + me[\"displayName\"] + '</td><td><img src=\"' + me[\"avatarUrls\"][\"32x32\"] + '\"/><td></tr></table>'))\n"
      ],
      "metadata": {
        "colab": {
          "base_uri": "https://localhost:8080/",
          "height": 59
        },
        "id": "8Iq2UW-RIDDT",
        "outputId": "7f7cb092-aec7-44f6-97af-95e5a3a84c5b"
      },
      "execution_count": 4,
      "outputs": [
        {
          "output_type": "display_data",
          "data": {
            "text/plain": [
              "<IPython.core.display.HTML object>"
            ],
            "text/html": [
              "<table><tr><td>Mike Burns</td><td><img src=\"https://avatar-management--avatars.us-west-2.prod.public.atl-paas.net/712020:d9c65884-1656-4f68-827c-32ec1a4ae098/2b84f57d-857a-4828-9cfe-4aa7b8843673/32\"/><td></tr></table>"
            ]
          },
          "metadata": {}
        }
      ]
    },
    {
      "cell_type": "code",
      "source": [
        "import numpy as np\n",
        "import matplotlib.pyplot as plt\n",
        "import io\n",
        "from PIL import Image\n",
        "\n",
        "def fig2img(fig):\n",
        "  # Convert a Matplotlib figure to a PIL Image and return it\n",
        "  buf = io.BytesIO()\n",
        "  fig.savefig(buf)\n",
        "  buf.seek(0)\n",
        "  img = Image.open(buf)\n",
        "  return img\n",
        "\n",
        "class DataPoint:\n",
        "  def __init__(self, name, count, points, color, hatch, edgeColor):\n",
        "    self.name = name\n",
        "    self.count = count\n",
        "    self.points = points\n",
        "    self.color = color\n",
        "    self.hatch = hatch\n",
        "    self.edgeColor = edgeColor\n",
        "\n",
        "  def getValues(self):\n",
        "    return [self.count, self.points]\n",
        "\n",
        "def cumulateData(dataArray):\n",
        "  data = np.array(dataArray)\n",
        "  data_shape = np.shape(data)\n",
        "\n",
        "  # Take negative and positive data apart and cumulate\n",
        "  def get_cumulated_array(data, **kwargs):\n",
        "      cum = data.clip(**kwargs)\n",
        "      cum = np.cumsum(cum, axis=0)\n",
        "      d = np.zeros(np.shape(data))\n",
        "      d[1:] = cum[:-1]\n",
        "      return d\n",
        "\n",
        "  cumulated_data = get_cumulated_array(data, min=0)\n",
        "  cumulated_data_neg = get_cumulated_array(data, max=0)\n",
        "\n",
        "  # Re-merge negative and positive data.\n",
        "  row_mask = (data<0)\n",
        "  cumulated_data[row_mask] = cumulated_data_neg[row_mask]\n",
        "  data_stack = cumulated_data\n",
        "\n",
        "  return data, data_shape, data_stack"
      ],
      "metadata": {
        "id": "x8yDY2S993pd"
      },
      "execution_count": 39,
      "outputs": []
    },
    {
      "cell_type": "code",
      "source": [
        "status_categories = jira.get(\"/rest/api/2/statuscategory\")"
      ],
      "metadata": {
        "id": "4KyXf_PoX5jW"
      },
      "execution_count": 6,
      "outputs": []
    },
    {
      "cell_type": "code",
      "source": [
        "sprint_report = json.loads(jira.request(absolute=True, method=\"GET\", path=\"{base_url}{path}?rapidViewId={rapidViewId}&sprintId={sprintId}\".format(base_url = base_url, path=\"/rest/greenhopper/latest/rapid/charts/sprintreport\", rapidViewId=rapidViewId, sprintId=sprintId)).content)"
      ],
      "metadata": {
        "id": "_AxhlzOvyjWO"
      },
      "execution_count": 7,
      "outputs": []
    },
    {
      "cell_type": "code",
      "source": [
        "response = json.loads(jira.request(absolute=True, method=\"GET\", path=\"{base_url}{path}?rapidViewId={rapidViewId}\".format(base_url = base_url, path=\"/rest/greenhopper/1.0/rapid/charts/velocity.json\", rapidViewId=rapidViewId)).content)\n",
        "velocity_statistics = response\n",
        "sprint_velocity_statistics = velocity_statistics['velocityStatEntries'][str(sprintId)]"
      ],
      "metadata": {
        "id": "lf6BBaId4Y61"
      },
      "execution_count": 8,
      "outputs": []
    },
    {
      "cell_type": "code",
      "source": [
        "ToDoEstimate = 0\n",
        "ToDoCount = 0\n",
        "ProgressEstimate = 0\n",
        "ProgressCount = 0\n",
        "\n",
        "TODO_KEY_ID =  str([x['id'] for x in status_categories if x['name'] == 'To Do'][0])\n",
        "INPROGRESS_KEY_ID  = str([x['id'] for x in status_categories if x['name'] == 'In Progress'][0])\n",
        "\n",
        "for issue in sprint_report[\"contents\"][\"issuesNotCompletedInCurrentSprint\"]:\n",
        "  if issue[\"status\"][\"statusCategory\"]['id'] == TODO_KEY_ID:\n",
        "    ToDoCount += 1\n",
        "    ToDoEstimate += issue['estimateStatistic']['statFieldValue']['value']\n",
        "\n",
        "  if issue[\"status\"][\"statusCategory\"]['id'] == INPROGRESS_KEY_ID:\n",
        "    ProgressCount += 1\n",
        "    ProgressEstimate += issue['estimateStatistic']['statFieldValue']['value'] if \"value\" in issue['estimateStatistic']['statFieldValue'] else 0\n",
        "\n",
        "Removed = DataPoint(\n",
        "    'Removed',\n",
        "    -1 * len(sprint_report[\"contents\"][\"puntedIssues\"]),\n",
        "    -1 * sprint_report[\"contents\"]['puntedIssuesEstimateSum']['value'] if \"value\" in sprint_report[\"contents\"][\"puntedIssuesEstimateSum\"] else 0,\n",
        "    '#d04437',\n",
        "    None,\n",
        "    '#ccc'\n",
        "  )\n",
        "\n",
        "ToDo = DataPoint(\n",
        "    'ToDo',\n",
        "    ToDoCount,\n",
        "    ToDoEstimate,\n",
        "    '#091E420F',\n",
        "    None,\n",
        "    '#44546F'\n",
        "  )\n",
        "\n",
        "InProgress = DataPoint(\n",
        "    'InProgress',\n",
        "    ProgressCount,\n",
        "    ProgressEstimate,\n",
        "    '#deebff',\n",
        "    None,\n",
        "    '#0055CC'\n",
        "  )\n",
        "\n",
        "Done = DataPoint(\n",
        "    'Completed',\n",
        "    len(sprint_report[\"contents\"][\"completedIssues\"]),\n",
        "    sprint_report[\"contents\"][\"completedIssuesEstimateSum\"]['value'] if \"value\" in sprint_report[\"contents\"][\"completedIssuesEstimateSum\"] else 0,\n",
        "    '#e3fcef',\n",
        "    None,\n",
        "    '#216E4E'\n",
        "  )\n",
        "\n",
        "CompletedOutside = DataPoint(\n",
        "    'Completed Outside',\n",
        "    len(sprint_report[\"contents\"][\"issuesCompletedInAnotherSprint\"]),\n",
        "    sprint_report[\"contents\"][\"issuesCompletedInAnotherSprintEstimateSum\"]['value'] if \"value\" in sprint_report[\"contents\"][\"issuesCompletedInAnotherSprintEstimateSum\"] else 0,\n",
        "    '#e3fcef',\n",
        "    'X',\n",
        "    '#216E4E'\n",
        "  )\n",
        "\n",
        "TotalCommitted = [\n",
        "    len(sprint_velocity_statistics[\"allConsideredIssueKeys\"]),\n",
        "    sprint_velocity_statistics[\"estimated\"][\"value\"] if 'value' in sprint_velocity_statistics[\"estimated\"] else 0\n",
        "  ]\n"
      ],
      "metadata": {
        "id": "zGK09IiMhP4V"
      },
      "execution_count": 40,
      "outputs": []
    },
    {
      "cell_type": "code",
      "source": [
        "from IPython.core.display import display, HTML, clear_output\n",
        "import numpy as np\n",
        "import matplotlib.pyplot as plt\n",
        "from matplotlib.lines import Line2D\n",
        "from matplotlib.patches import Patch\n",
        "import base64\n",
        "\n",
        "col_labels = ['Count', 'Points']\n",
        "\n",
        "cols = [Removed.color, Done.color, CompletedOutside.color, InProgress.color, ToDo.color]\n",
        "edgeColors = [Removed.edgeColor, Done.edgeColor, CompletedOutside.edgeColor, InProgress.edgeColor, ToDo.edgeColor]\n",
        "hatch = [Removed.hatch, Done.hatch, CompletedOutside.hatch, InProgress.hatch, ToDo.hatch]\n",
        "values = [Removed.getValues(), Done.getValues(), CompletedOutside.getValues(), InProgress.getValues(), ToDo.getValues()]\n",
        "\n",
        "data, data_shape, data_stack = cumulateData(values)\n",
        "\n",
        "clear_output(wait=True)\n",
        "\n",
        "_, ax = plt.subplots(figsize=(10, 10))  # Make the chart 3x bigger\n",
        "\n",
        "for i in np.arange(0, data_shape[0]):\n",
        "  bars = ax.bar(np.arange(data_shape[1]), data[i], bottom=data_stack[i], color=cols[i], edgecolor=edgeColors[i], hatch=hatch[i], width=0.5)\n",
        "  for bar in bars:\n",
        "     height = bar.get_height()\n",
        "     ax.text(bar.get_x() + bar.get_width() / 2, bar.get_y() + height / 2, f'{int(height)}', ha='center', va='center', color='black', fontweight='bold')\n",
        "\n",
        "for i in range(len(TotalCommitted)):\n",
        "  ax.vlines(x=i-0.4, ymin=0, ymax=(TotalCommitted[i]), color='#8590a2', linestyle='solid', linewidth=5,)\n",
        "  ax.text(i-0.4, (TotalCommitted[i])+0.4, f'{(str(TotalCommitted[i]).rjust(3))}', color='black', horizontalalignment='center', fontweight='bold')\n",
        "\n",
        "ax.set_xticks(np.arange(data_shape[1]))\n",
        "ax.set_xticklabels(col_labels)\n",
        "\n",
        "ax.axhline(0, color='black', linewidth=0.8)\n",
        "\n",
        "legend_elements = [\n",
        "    Line2D([0], [0], color='#8590a2', lw=2, label='Committed'),\n",
        "    Patch(facecolor=ToDo.color, edgecolor=ToDo.edgeColor, label=ToDo.name),\n",
        "    Patch(facecolor=InProgress.color, edgecolor=InProgress.edgeColor, label=InProgress.name),\n",
        "    Patch(facecolor=Done.color, edgecolor=Done.edgeColor, label=Done.name),\n",
        "    Patch(facecolor=CompletedOutside.color, edgecolor=CompletedOutside.edgeColor, hatch=\"X\", label=CompletedOutside.name),\n",
        "    Patch(facecolor=Removed.color, edgecolor=Removed.edgeColor, label=Removed.name)\n",
        "  ]\n",
        "\n",
        "ax.legend(handles=legend_elements, bbox_to_anchor=(1.05, 1), loc='upper left')\n",
        "\n",
        "ax.set_ylim(top=ax.get_ylim()[1] * 1.1)\n",
        "\n",
        "plt.tight_layout()\n",
        "\n",
        "buf = io.BytesIO()\n",
        "plt.savefig(buf, format='png', pad_inches=0.5)\n",
        "buf.seek(0)\n",
        "image_base64 = base64.b64encode(buf.read()).decode('utf-8')\n",
        "\n",
        "committed_vs_planned_chart = f'<img src=\"data:image/png;base64,{image_base64}\" width=\"500px\" height=\"500px  alt=\"Chart Image\"/>'\n",
        "\n",
        "clear_output(wait=True)"
      ],
      "metadata": {
        "colab": {
          "base_uri": "https://localhost:8080/",
          "height": 1000
        },
        "id": "KUR7UqSc43jf",
        "outputId": "f9d8290f-12a3-4c61-b701-dd8f2f67db47",
        "collapsed": true
      },
      "execution_count": 42,
      "outputs": [
        {
          "output_type": "display_data",
          "data": {
            "text/plain": [
              "<Figure size 1000x1000 with 1 Axes>"
            ],
            "image/png": "[encoded data removed]"
          },
          "metadata": {}
        }
      ]
    },
    {
      "cell_type": "code",
      "source": [
        "# prompt: given the above chart create a html table that represents the data shown\n",
        "\n",
        "from IPython.display import HTML\n",
        "import numpy as np\n",
        "from datetime import datetime\n",
        "\n",
        "# Sample data (replace with your actual data)\n",
        "data = {\n",
        "    'Category': ['Removed', 'Completed', 'Completed Outside', 'InProgress', 'ToDo'],\n",
        "    'Count': [Removed.count, Done.count, CompletedOutside.count, InProgress.count, ToDo.count],\n",
        "    'Points': [Removed.points, Done.points, CompletedOutside.points, InProgress.points, ToDo.points]\n",
        "}\n",
        "\n",
        "html_table = \"\"\"\n",
        "\"\"\" + committed_vs_planned_chart + \"\"\"\n",
        "<table>\n",
        "  <thead>\n",
        "    <tr>\n",
        "      <th>Category</th>\n",
        "      <th>Count</th>\n",
        "      <th>Points</th>\n",
        "    </tr>\n",
        "  </thead>\n",
        "  <tbody>\n",
        "\"\"\"\n",
        "\n",
        "for i in range(len(data['Category'])):\n",
        "    html_table += f\"\"\"\n",
        "    <tr>\n",
        "      <td>{data['Category'][i]}</td>\n",
        "      <td>{data['Count'][i]}</td>\n",
        "      <td>{data['Points'][i]}</td>\n",
        "    </tr>\n",
        "    \"\"\"\n",
        "\n",
        "html_table += \"\"\"\n",
        "  </tbody>\n",
        "</table>\n",
        "\"\"\"\n",
        "\n",
        "display(HTML(html_table))\n",
        "\n",
        "print(sprint_report[\"sprint\"][\"name\"])\n",
        "print(sprint_report[\"sprint\"][\"goal\"])\n",
        "print(sprint_report[\"sprint\"][\"startDate\"])\n",
        "print(sprint_report[\"sprint\"][\"endDate\"])\n",
        "\n",
        "start = datetime.strptime(sprint_report[\"sprint\"][\"isoStartDate\"], \"%Y-%m-%dT%H:%M:%S%z\").date()\n",
        "end = datetime.strptime(sprint_report[\"sprint\"][\"isoEndDate\"], \"%Y-%m-%dT%H:%M:%S%z\").date()\n",
        "\n",
        "### /rest/greenhopper/1.0/rapidviewconfig/editmodel.json?rapidViewId=364\n",
        "\n",
        "holidays_iso = [\"2025-02-25\", \"2025-02-26\"]\n",
        "holidays = [datetime.strptime(date, \"%Y-%m-%d\").date() for date in holidays_iso]\n",
        "\n",
        "# Calculate the number of business days excluding holidays\n",
        "days = np.busday_count(start, end, holidays=holidays)\n",
        "print('Number of business days is:', days)\n"
      ],
      "metadata": {
        "colab": {
          "base_uri": "https://localhost:8080/",
          "height": 738
        },
        "id": "jIHH-U-kINjl",
        "outputId": "28abf314-320c-45b5-95d2-99a0ffce0e75"
      },
      "execution_count": 47,
      "outputs": [
        {
          "output_type": "display_data",
          "data": {
            "text/plain": [
              "<IPython.core.display.HTML object>"
            ],
            "text/html": [
              "\n",
              "<img src=\"data:image/png;base64,iVBORw0KGgoAAAANSUhEUgAAA+gAAAPoCAYAAABNo9TkAAAAOnRFWHRTb2Z0d2FyZQBNYXRwbG90bGliIHZlcnNpb24zLjEwLjAsIGh0dHBzOi8vbWF0cGxvdGxpYi5vcmcvlHJYcgAAAAlwSFlzAAAPYQAAD2EBqD+naQAAdo1JREFUeJzs3XeYVIXd/+/30juIUhUFVAQUFbtijAUjPonGxC6JoFgSUWM3JrFr0GjsJT6JNWpMjEYTjRgrJvaGFVGRplJEKQLSduf3hz/3yX7BBsvOQe77uubKzJlz5nxmdyP72jNzpqJUKpUCAAAAlFW9cg8AAAAACHQAAAAoBIEOAAAABSDQAQAAoAAEOgAAABSAQAcAAIACEOgAAABQAAIdAAAACkCgAwAAQAEIdAAAACgAgQ4AAAAFINABAACgAAQ6AAAAFECDcg+wPFRVVeX9999Py5YtU1FRUe5xAABguSiVSvn444/TuXPn1Kvn2Bus6L6Rgf7++++nS5cu5R4DAADqxMSJE7PGGmuUewxgGX0jA71ly5ZJPv0PVatWrco8DQAALB+zZs1Kly5dqn//BVZs38hA/+xl7a1atRLoAAB843lbJ3wzeKMKAAAAFIBABwAAgAIQ6AAAAFAA38j3oAMAAMVTVVWVBQsWlHsMqDWNGjWq1Y84FOgAAMByt2DBgowdOzZVVVXlHgVqTb169dKtW7c0atSoVh5PoAMAAMtVqVTKpEmTUr9+/XTp0qVWjzhCuVRVVeX999/PpEmTsuaaa9bKpykIdAAAYLlatGhR5s6dm86dO6dZs2blHgdqTbt27fL+++9n0aJFadiw4TI/nj9dAQAAy1VlZWWS1NrLgKEoPvuZ/uxnfFkJdAAAoE7UxkuAoUhq+2daoAMAAHxDnHHGGdl4443rbH/jxo1LRUVFRo4cWWf7/CYT6AAAAF9g8uTJOeqoo9K9e/c0btw4Xbp0yW677ZaHHnqo3KMt5oQTTqgx1+DBg7PHHnvUWEdUF5eTxAEAAHyOcePGpV+/fmnTpk0uuOCC9OnTJwsXLsz999+foUOH5o033ij3iDW0aNEiLVq0KPcYLCVH0AEAAD7HEUcckYqKijzzzDPZc88906NHj6y//vo57rjj8tRTTyVJJkyYkO9///tp0aJFWrVqlX322SdTpkypfozPXnZ+3XXXZc0110yLFi1yxBFHpLKyMr/5zW/SsWPHtG/fPueee26NfVdUVOSaa67J9773vTRr1iy9evXKk08+mbfffjvbb799mjdvnm222SZjxoxZbF+fXb/xxhtz9913p6KiIhUVFXn00UfTrVu3JEnfvn1TUVGR7bffvnr7P/zhD+nVq1eaNGmSnj175qqrrqox0zPPPJO+ffumSZMm2WyzzfLiiy/W5pd7pecIOgAAwBJ89NFHGT58eM4999w0b958sfvbtGmTqqqq6jgfMWJEFi1alKFDh2bffffNo48+Wr3umDFjct9992X48OEZM2ZM9tprr7zzzjvp0aNHRowYkSeeeCIHH3xw+vfvny233LJ6u7PPPjsXXXRRLrroopx88sk54IAD0r1795xyyilZc801c/DBB+fII4/Mfffdt9h8J5xwQkaNGpVZs2bl+uuvT5K0bds2zzzzTLbYYos8+OCDWX/99avPRH7LLbfktNNOyxVXXJG+ffvmxRdfzKGHHprmzZtn0KBBmT17dr73ve9l5513zs0335yxY8fmZz/7WS1/1VduAh0AAGAJ3n777ZRKpfTs2fNz13nooYfyyiuvZOzYsenSpUuS5Kabbsr666+fZ599NptvvnmSpKqqKtddd11atmyZ3r17Z4cddsjo0aPzz3/+M/Xq1ct6662X888/P4888kiNQD/ooIOyzz77JElOPvnkbL311jn11FOzyy67JEl+9rOf5aCDDlribC1atEjTpk0zf/78dOzYsXp5u3btkiSrrrpqjeWnn356fvvb3+aHP/xhkqRbt255/fXXc80112TQoEG59dZbU1VVlWuvvTZNmjTJ+uuvn3fffTc//elPv/bXliUT6AAAQJ277k/3Zs7ceXW+3+bNmuTg/b/7ldYtlUpfus6oUaPSpUuX6jhPkt69e6dNmzYZNWpUdaB37do1LVu2rF6nQ4cOqV+/furVq1dj2dSpU2s8/oYbbljj/iTp06dPjWXz5s3LrFmz0qpVq6/0vJZkzpw5GTNmTIYMGZJDDz20evmiRYvSunXr6ue64YYbpkmTJtX3b7311ku9TxYn0AEAgDo3Z+68fDx7brnH+ELrrrtuKioqauVEcA0bNqxxu6KiYonLqqqqPne7zz5ze0nL/t/tvq7Zs2cnSX7/+9/XOIKfJPXr11+mx+arE+gAAECda96syZevVOb9tm3bNrvsskuuvPLKHH300Yu9D33GjBnp1atXJk6cmIkTJ1YfRX/99dczY8aM9O7du1ZnXxqNGjVKZWXlYsuS1FjeoUOHdO7cOe+8804GDhy4xMfq1atX/vjHP2bevHnVR9E/O1EetUOgAwAAde6rvsy83K688sr069cvW2yxRc4666xsuOGGWbRoUR544IFcffXVef3119OnT58MHDgwl1xySRYtWpQjjjgi3/72t7PZZpuVe/x07do1999/f0aPHp1VV101rVu3Tvv27dO0adMMHz48a6yxRpo0aZLWrVvnzDPPzNFHH53WrVtnwIABmT9/fp577rlMnz49xx13XA444ID88pe/zKGHHppTTjkl48aNy4UXXljup/iN4mPWAAAAPkf37t3zwgsvZIcddsjxxx+fDTbYIDvvvHMeeuihXH311amoqMjdd9+dVVZZJdttt1369++f7t27589//nO5R0+SHHrooVlvvfWy2WabpV27dnn88cfToEGDXHbZZbnmmmvSuXPnfP/730+SHHLIIfnDH/6Q66+/Pn369Mm3v/3t3HDDDdUfy9aiRYv84x//yCuvvJK+ffvml7/8Zc4///xyPr1vnIrSVznzwQpm1qxZad26dWbOnLlMJ0oAAIAiW1F+7503b17Gjh2bbt261TjBGKzoavtn2xF0AAAAKACBDgAAAAUg0AEAAKAABDoAAAAUgEAHAACAAhDoAAAAUAACHQAAAApAoAMAAEABCHQAAAAoAIEOAAAABdCg3AMAAAArp6kfTM/Mj2fX2f5at2yR9u1W+UrrVlRUfOH9p59+es4444yvtH2zZs3SuXPn9OvXL0cddVQ23XTTrzQDKx+BDgAA1LmpH0zPwccOy/z5C+psn40bN8p1F5/ylSJ90qRJ1df//Oc/57TTTsvo0aOrl7Vo0eJLH+P666/PgAEDMm/evLz55pv53//932y55Za57rrrcuCBBy7dk+AbTaADAAB1bubHszN//oIcfeheWaNT++W+v3cnTc1lv/9rZn48+ysFeseOHauvt27dOhUVFdXLqqqqcs455+R///d/88EHH6RXr14577zzMmDAgBqP0aZNm+ptunbtmu985zsZNGhQjjzyyOy2225ZZZVP57jjjjty2mmn5e23306nTp1y1FFH5fjjj6+tp84KRKADAABls0an9um+Vudyj/G1XHrppfntb3+ba665Jn379s11112X3XffPa+99lrWXXfdL9z22GOPzU033ZQHHngg++yzT55//vnss88+OeOMM7LvvvvmiSeeyBFHHJFVV101gwcPrpsnRGE4SRwAAMDXcOGFF+bkk0/Ofvvtl/XWWy/nn39+Nt5441xyySVfum3Pnj2TJOPGjUuSXHTRRdlpp51y6qmnpkePHhk8eHCOPPLIXHDBBcvxGVBUAh0AAOArmjVrVt5///3069evxvJ+/fpl1KhRX7p9qVRK8n8nkRs1atQSH+utt95KZWVlLU3NikKgAwAA1JHPIr5bt25lnoQiEugAAABfUatWrdK5c+c8/vjjNZY//vjj6d2795duf8kll6RVq1bp379/kqRXr15LfKwePXqkfv36tTc4KwQniQMAAPgaTjzxxJx++ulZe+21s/HGG+f666/PyJEjc8stt9RYb8aMGZk8eXLmz5+fN998M9dcc03uuuuu3HTTTWnTpk2S5Pjjj8/mm2+es88+O/vuu2+efPLJXHHFFbnqqqvK8MwoN4EOAACUzbuTpq5w+zn66KMzc+bMHH/88Zk6dWp69+6dv//974udwf2ggw5KkjRp0iSrr756tt122zzzzDPZZJNNqtfZZJNN8pe//CWnnXZazj777HTq1ClnnXWWM7ivpCpKn52l4Btk1qxZad26dWbOnJlWrVqVexwAAFguVpTfe+fNm5exY8emW7duadKkSZJk6gfTc/CxwzJ//oI6m6Nx40a57uJTvtLnoMNXsaSf7WXhCDoAAFDn2rdbJdddfEpmfjy7zvbZumULcU6hCXQAAKAs2rdbRTDDf3EWdwAAACgAgQ4AAAAFINABAACgAAQ6AAAAFIBABwAAgAIQ6AAAAFAAAh0AAAAKQKADAABAATQo9wAAAMDKacK0BZk2a1Gd7W+1Vg2y5mqNvvL6gwcPzowZM3LXXXd9pfW7du2a8ePHJ0maNWuW9dZbL6ecckr23nvvpRmXlZBABwAA6tyEaQvS69jXMnd+VZ3ts1njehl18fpfK9K/rrPOOiuHHnpoZs2ald/+9rfZd999s/rqq2ebbbZZbN0FCxakUaPlM8vChQvTsGHD5fLYLD8CHQAAqHPTZi3K3PlVuWhw16zTsely39/bkz/JcTeMy7RZi5Yq0LfffvtsuOGGadKkSf7whz+kUaNG+clPfpIzzjijxnotW7ZMx44d07Fjx1x55ZW5+eab849//CPbbLNNunbtmiFDhuStt97KXXfdlR/+8Ie54YYbcscdd+S0007L22+/nU6dOuWoo47K8ccfX/2YkyZNyiGHHJKHH344HTt2zLnnnptf/OIXOeaYY3LMMcckSSoqKnLVVVflvvvuy0MPPZQTTzwxZ5xxRu6+++6ceeaZef3119O5c+cMGjQov/zlL9OgQYOUSqWceeaZue666zJlypSsuuqq2WuvvXLZZZclSa666qpcfPHFmThxYlq3bp1vfetb+etf/7rU3wO+nEAHAADKZp2OTbPBms3KPcZXcuONN+a4447L008/nSeffDKDBw9Ov379svPOOy9x/QYNGqRhw4ZZsGBB9bILL7wwp512Wk4//fQkyfPPP5999tknZ5xxRvbdd9888cQTOeKII7Lqqqtm8ODBSZIDDzww06ZNy6OPPpqGDRvmuOOOy9SpUxfb3xlnnJHzzjsvl1xySRo0aJB///vfOfDAA3PZZZflW9/6VsaMGZPDDjssSXL66afnjjvuyMUXX5zbbrst66+/fiZPnpyXXnopSfLcc8/l6KOPzh//+Mdss802+eijj/Lvf/+7Nr+cLIFABwAA+Ao23HDD6rBed911c8UVV+Shhx5aYqAvWLAgv/3tbzNz5szsuOOO1ct33HHHGkfHBw4cmJ122imnnnpqkqRHjx55/fXXc8EFF2Tw4MF544038uCDD+bZZ5/NZpttliT5wx/+kHXXXXexfR5wwAE56KCDqm8ffPDB+fnPf55BgwYlSbp3756zzz47J510Uk4//fRMmDAhHTt2TP/+/dOwYcOsueaa2WKLLZIkEyZMSPPmzfO9730vLVu2zFprrZW+ffsu65eQL+Es7gAAAF/BhhtuWON2p06dFjuSffLJJ6dFixZp1qxZzj///Jx33nn57ne/W33/Z5H9mVGjRqVfv341lvXr1y9vvfVWKisrM3r06DRo0CCbbLJJ9f3rrLNOVllllcXm+38f+6WXXspZZ52VFi1aVF8OPfTQTJo0KXPnzs3ee++dTz75JN27d8+hhx6av/3tb1m06NOT9u28885Za6210r179/z4xz/OLbfckrlz536NrxZLQ6ADAAB8Bf/vSdcqKipSVVXzJHcnnnhiRo4cmXfffTfTp0/PySefXOP+5s2bL7f5/t/Hnj17ds4888yMHDmy+vLKK6/krbfeSpMmTdKlS5eMHj06V111VZo2bZojjjgi2223XRYuXJiWLVvmhRdeyJ/+9Kd06tQpp512WjbaaKPMmDFjuc2PQAcAAKg1q622WtZZZ5107NgxFRUVX7p+r1698vjjj9dY9vjjj6dHjx6pX79+1ltvvSxatCgvvvhi9f1vv/12pk+f/qWPvckmm2T06NFZZ511FrvUq/dpCjZt2jS77bZbLrvssjz66KN58skn88orryT59D30/fv3z29+85u8/PLLGTduXB5++OGv8+Xga/IedAAAgDI5/vjjs/nmm+fss8/OvvvumyeffDJXXHFFrrrqqiRJz549079//xx22GG5+uqr07Bhwxx//PFp2rTpl/4B4LTTTsv3vve9rLnmmtlrr71Sr169vPTSS3n11Vdzzjnn5IYbbkhlZWW23HLLNGvWLDfffHOaNm2atdZaK/fcc0/eeeedbLfddllllVXyz3/+M1VVVVlvvfXq4suy0hLoAABA2bw9+ZNv1H6+rk022SR/+ctfctppp+Xss89Op06dctZZZ1WfwT1JbrrppgwZMiTbbbddOnbsmGHDhuW1115LkyZNvvCxd9lll9xzzz0566yzcv7556dhw4bp2bNnDjnkkCRJmzZtct555+W4445LZWVl+vTpk3/84x9ZddVV06ZNm9x5550544wzMm/evKy77rr505/+lPXXX395fjlWehWlUqlU7iFq26xZs9K6devMnDkzrVq1Kvc4AACwXKwov/fOmzcvY8eOTbdu3aqjcsK0Bel17GuZO7/qS7auPc0a18uoi9dfqs9BL5J33303Xbp0yYMPPpiddtqp3OOs1Jb0s70sHEEHAADq3JqrNcqoi9fPtFmL6myfq7VqsELG+cMPP5zZs2enT58+mTRpUk466aR07do12223XblHo5YJdAAAoCzWXK3RChnMdW3hwoX5xS9+kXfeeSctW7bMNttsk1tuuWWxs8qz4hPoAAAABbbLLrtkl112KfcY1AEfswYAAAAFINABAACgAAQ6AAAAFIBABwAAgAIQ6AAAAFAAAh0AAAAKQKADAACsgMaNG5eKioqMHDmyLPvffvvtc8wxx5Rl399UPgcdAAAoi/c++iDT58yqs/2t0rxVVm/b7mtvN3ny5Jx77rm59957895776V9+/bZeOONc8wxx2SnnXZaDpMuP9tvv3023njjXHLJJeUehSUQ6AAAQJ1776MP8p1hQ/PJgvl1ts+mjRrnX6dc+bUifdy4cenXr1/atGmTCy64IH369MnChQtz//33Z+jQoXnjjTeW48SsbAQ6AABQ56bPmZVPFszPrwYenrU6dF7u+xs/5f2cc8s1mT5n1tcK9COOOCIVFRV55pln0rx58+rl66+/fg4++OAkyYQJE3LUUUfloYceSr169TJgwIBcfvnl6dChQ5LkjDPOyF133ZWjjz46Z5xxRj766KMceOCBufzyy/Pb3/42F110UaqqqvKzn/0sv/zlL6v3UVFRkauuuip///vf8+ijj6ZTp075zW9+k7322utz53311Vdz4okn5t///neaN2+e73znO7n44ouz2mqrZfDgwRkxYkRGjBiRSy+9NEkyduzYdO3a9Qu3S5I5c+bkpz/9ae688860bNkyJ5xwwlf/4vOVCXQAAKBs1urQOeut0bXcYyzRRx99lOHDh+fcc8+tEeefadOmTaqqqvL9738/LVq0yIgRI7Jo0aIMHTo0++67bx599NHqdceMGZP77rsvw4cPz5gxY7LXXnvlnXfeSY8ePTJixIg88cQTOfjgg9O/f/9sueWW1dudeuqpOe+883LppZfmj3/8Y/bbb7+88sor6dWr12LzzJgxIzvuuGMOOeSQXHzxxfnkk09y8sknZ5999snDDz+cSy+9NG+++WY22GCDnHXWWUmSdu3afel2SXLiiSdmxIgRufvuu9O+ffv84he/yAsvvJCNN964dr/oKzmBDgAAsARvv/12SqVSevbs+bnrPPTQQ3nllVcyduzYdOnSJUly0003Zf3118+zzz6bzTffPElSVVWV6667Li1btkzv3r2zww47ZPTo0fnnP/+ZevXqZb311sv555+fRx55pEag77333jnkkEOSJGeffXYeeOCBXH755bnqqqsWm+WKK65I37598+tf/7p62XXXXZcuXbrkzTffTI8ePdKoUaM0a9YsHTt2/Mrbde7cOddee21uvvnm6vfc33jjjVljjTWW5svKFxDoAAAAS1Aqlb50nVGjRqVLly7VcZ4kvXv3Tps2bTJq1KjqQO/atWtatmxZvU6HDh1Sv3791KtXr8ayqVOn1nj8rbfeerHbn3fW9pdeeimPPPJIWrRosdh9Y8aMSY8ePZZqu08++SQLFiyo8YeDtm3bZr311lvi47H0BDoAAMASrLvuuqmoqKiVE8E1bNiwxu2KioolLquqqlrqfcyePTu77bZbzj///MXu69Sp01Jv9/bbby/1THw9PgcdAABgCdq2bZtddtklV155ZebMmbPY/TNmzEivXr0yceLETJw4sXr566+/nhkzZqR3797LPMNTTz212O0lvf88STbZZJO89tpr6dq1a9ZZZ50al8/eQ9+oUaNUVlZ+re3WXnvtNGzYME8//XT1NtOnT8+bb765zM+PmgQ6AADA57jyyitTWVmZLbbYInfccUfeeuutjBo1Kpdddlm23nrr9O/fP3369MnAgQPzwgsv5JlnnsmBBx6Yb3/729lss82Wef+33357rrvuurz55ps5/fTT88wzz+TII49c4rpDhw7NRx99lP333z/PPvtsxowZk/vvvz8HHXRQdZR37do1Tz/9dMaNG5dp06alqqrqS7dr0aJFhgwZkhNPPDEPP/xwXn311QwePLjGy/OpHV7iDgAAlM34Ke8Xej/du3fPCy+8kHPPPTfHH398Jk2alHbt2mXTTTfN1VdfnYqKitx999056qijst1229X4mLXacOaZZ+a2227LEUcckU6dOuVPf/rT5x6Z79y5cx5//PGcfPLJ+c53vpP58+dnrbXWyoABA6pj+oQTTsigQYPSu3fvfPLJJ9Ufs/Zl211wwQXVL4Vv2bJljj/++MycObNWniP/p6L0Vc58sIKZNWtWWrdunZkzZ6ZVq1blHgcAAJaLFeX33nnz5mXs2LHp1q1bmjRpkiR576MP8p1hQ/PJgvl1NkfTRo3zr1Ou/Fqfg15OFRUV+dvf/pY99tij3KPwOZb0s70savUI+mOPPZYLLrggzz//fCZNmlTjh2nhwoX51a9+lX/+859555130rp16/Tv3z/nnXdeOnfuXP0YXbt2zfjx42s87rBhw/Lzn/+8NkcFAADKaPW27fKvU67M9Dmz6myfqzRvtcLEOSunWg30OXPmZKONNsrBBx+cH/7whzXumzt3bl544YWceuqp2WijjTJ9+vT87Gc/y+67757nnnuuxrpnnXVWDj300Orb//1xBAAAwDfD6m3bCWb4L7Ua6Lvuumt23XXXJd7XunXrPPDAAzWWXXHFFdliiy0yYcKErLnmmtXLW7ZsmY4dO9bmaAAAACuUb+C7kfkSZT3t3syZM1NRUZE2bdrUWH7eeedl1VVXTd++fXPBBRdk0aJF5RkQAAAA6kjZzuI+b968nHzyydl///1rnNDi6KOPziabbJK2bdvmiSeeyCmnnJJJkybloosu+tzHmj9/fubP/7+TS8yaVXfvYwEAAIDaUJZAX7hwYfbZZ5+USqVcffXVNe477rjjqq9vuOGGadSoUQ4//PAMGzYsjRs3XuLjDRs2LGeeeeZynRkAAACWpzp/iftncT5+/Pg88MADX/pxEFtuuWUWLVqUcePGfe46p5xySmbOnFl9mThxYi1PDQAAAMtXnR5B/yzO33rrrTzyyCNZddVVv3SbkSNHpl69emnfvv3nrtO4cePPPboOAAAAK4JaDfTZs2fn7bffrr49duzYjBw5Mm3btk2nTp2y11575YUXXsg999yTysrKTJ48OUnStm3bNGrUKE8++WSefvrp7LDDDmnZsmWefPLJHHvssfnRj36UVVZZpTZHBQAAgEKp1Ze4P/fcc+nbt2/69u2b5NP3k/ft2zennXZa3nvvvfz973/Pu+++m4033jidOnWqvjzxxBNJPj0Sftttt+Xb3/521l9//Zx77rk59thj87//+7+1OSYALOaxxx7L//zP/6Rdu3apqKhIRUVFfve731Xf//HHH+eYY47JpptumtVWWy1NmzZNjx49cuqpp+bjjz+uXu+1117L4MGD07Nnz7Rq1SqtW7fOpptummuvvfYrzTFlypQcfPDBad++fRo3bpzevXvniiuuqPXnC8CKb9y4camoqMjIkSPLsv/tt98+xxxzTFn2/VU8+uijqaioyIwZMz53nRtuuGGxTxUrp1o9gr799tt/4Wf1fdnn+G2yySZ56qmnanMkAPhKXnjhhTzwwAPp3r17pk2bttj9H374YS699NI0btw4PXv2zHvvvZe33nor55xzTp5//vn885//TJI8++yzufHGG7PKKquke/fuefPNN/PCCy/kkEMOyYcffpiTTjrpc2eYM2dOvv3tb2f06NFp2rRp1lprrYwaNSpHHXVUpk6dmrPOOmu5PX+Acnjvow8yfU7dfQLTKs1bZfW27b7WNpMnT865556be++9N++9917at2+fjTfeOMccc0x22mmn5TTp8rP99ttn4403ziWXXFIn+/vkk09y3nnn5U9/+lPGjx+fli1bZocddsgZZ5yR9ddf/2s9VteuXXPMMcd85T8KbLPNNpk0aVJat269FJOXR9k+Zg0AiuTHP/5xDj/88EyZMiXdunVb7P4mTZrkggsuyOGHH56WLVtm3rx52WGHHfLUU0/lvvvuy/Tp07PKKqtkzTXXzO23354f/OAHqV+/fsaPH5+NNtooM2fOzC233PKFgX7NNddk9OjRqaioyFNPPZUNN9wwxx9/fC666KKcd955GTp0aDp06LA8vwwAdea9jz7Id4YNzScL5n/5yrWkaaPG+dcpV37lSB83blz69euXNm3a5IILLkifPn2ycOHC3H///Rk6dGjeeOON5Tzxim3+/Pnp379/JkyYkN/+9rfZcsstM2XKlAwbNixbbrllHnzwwWy11VbLbf+NGjVKx44dl9vjLxelb6CZM2eWkpRmzpxZ7lEAWMGMHTu2lKSUpHT11Vd/4bpHHXVUKUmpXr16pVmzZn3uen369CklKW2++eZf+Hj9+/cvJSn16NGjetnjjz9ePc8tt9zy9Z4M8I23ovze+8knn5Ref/310ieffFK97JUJb5e6Hb176dqn7y09OO7FL7wcc9vFpW5H71465raLSw+Oe7H0+yf/Uep1wt6l/sOOKN0z+qkv3f7BcS+Wrn363lK3o3cvvTLh7a8896677lpaffXVS7Nnz17svunTp1dfHz9+fGn33XcvNW/evNSyZcvS3nvvXZo8eXL1/aeffnppo402Kl177bWlLl26lJo3b1766U9/Wlq0aFHp/PPPL3Xo0KHUrl270jnnnFNjH0lKV111VWnAgAGlJk2alLp161a6/fbbq+//7N+sF1988f++rq+8UhowYECpefPmpfbt25d+9KMflT744INSqVQqDRo0qPrflM8uY8eO/dLtSqVSafbs2aUf//jHpebNm5c6duxYuvDCC0vf/va3Sz/72c8+9+t33nnnlSoqKkojR46ssbyysrK02WablXr37l2qqqoqlUqlJT7W97///dKgQYOq7/9/Zy+VSqVx48aVvve975XatGlTatasWal3796le++9t1QqlUqPPPJIKUmN79X1119f6tKlS6lp06alPfbYo3ThhReWWrduXWO/d911V6lv376lxo0bl7p161Y644wzSgsXLlzic1zSz/aycAQdAJbC1KlTc8cddyRJ9ttvv7Rs2XKJ6z322GN57bXXkiSHHnroFz7mZx8T+t+fXPLfR8wnTJiwTDMDFNFaHTpnvTW6fuE66+01OKu1XiXX3ndnps2ckZFj3sg6nbvkwsNOSLMmTZfLXB999FGGDx+ec889N82bN1/s/s/et1xVVZXvf//7adGiRUaMGJFFixZl6NCh2XffffPoo49Wrz9mzJjcd999GT58eMaMGZO99tor77zzTnr06JERI0bkiSeeyMEHH5z+/ftnyy23rN7u1FNPzXnnnZdLL700f/zjH7PffvvllVdeSa9evRabacaMGdlxxx1zyCGH5OKLL84nn3ySk08+Ofvss08efvjhXHrppXnzzTezwQYbVL9tql27dl+6XZKceOKJGTFiRO6+++60b98+v/jFL/LCCy9k4403/tyv4a233pqdd945G220UY3l9erVy7HHHpuBAwfmpZde+sLH+Mydd96ZjTbaKIcddliNf0+HDh2aBQsW5LHHHkvz5s3z+uuvp0WLFkt8jKeffjpDhgzJsGHDsscee2T48OE5/fTTa6zz73//OwceeGAuu+yyfOtb38qYMWNy2GGHJcli6y4PAh0AvqYxY8Zk1113zfvvv59+/frVOJncf/vnP/+ZfffdN1VVVTn66KO/NNCXpPQl528BWFkM2vn7eWPC2Dz+2otJslzjPEnefvvtlEql9OzZ8wvXe+ihh/LKK69k7Nix6dKlS5Lkpptuyvrrr59nn302m2++eZJPQ/66665Ly5Yt07t37+ywww4ZPXp0/vnPf6ZevXpZb731cv755+eRRx6pEeh77713DjnkkCTJ2WefnQceeCCXX355rrrqqsVmueKKK9K3b9/8+te/rl523XXXpUuXLnnzzTfTo0ePNGrUKM2aNavx0u8v265z58659tprc/PNN1e/7/7GG2/MGmus8YVfmzfffDM77LDDEu/77A8Mb7755lcK9LZt26Z+/fpp2bJljdknTJiQPffcM3369EmSdO/e/XMf49JLL82AAQOq327Wo0ePPPHEExk+fHj1OmeeeWZ+/vOfZ9CgQdWPd/bZZ+ekk06qk0Cv1bO4A8A33ZNPPpmtttoqb731Vnbbbbf861//WuLR86uvvjq77757Zs+enbPOOiuXXnrplz72Z7/YTZ06tXrZf19fc801a+EZAKyYXh8/JiPH/N97vm//97+W6/6+6h9IR40alS5dulT/NzxJevfunTZt2mTUqFHVy7p27Vrj34sOHTqkd+/eqVevXo1l//3f/STZeuutF7v934/731566aU88sgjadGiRfXlsz8wjBkz5nOfw5dtN2bMmCxYsKDGHw7atm2b9dZb73Mf8zPL+w/NRx99dM4555z069cvp59+el5++eXPXXfUqFE1nkOy+Nf3pZdeyllnnVXja3HooYdm0qRJmTt37nJ5Dv9NoAPAV/TXv/41O+64Y6ZNm5ajjjoqd911V5o1a1ZjnVKplJNOOilHHHFE6tevn5tvvjmnnnrqYo/1t7/9LT179qw+I3ySDBgwIEny1ltvVf+C8dnL6Bs2bLhCni0YoDa8Pn5Mjr/mgnTruHqG//p3GbLrD3PtfXfmxgfuXm77XHfddVNRUVFrJ4Jr2LBhjdsVFRVLXFZVVbXU+5g9e3Z22223jBw5ssblrbfeynbbbVfr232ZHj16fO4fEz5b3qNHjySfvuz9/435hQsXfuk+DjnkkLzzzjv58Y9/nFdeeSWbbbZZLr/88qWeefbs2TnzzDNrfB1eeeWVvPXWW2nSpMlSP+5XJdABIJ++t22dddbJ9ttvX73stNNOyzrrrJOBAwfm/fffzz777JN58+alUaNGeeaZZ7LNNttkq622ylZbbZUXXnghSXLbbbflggsuSJK0atUql19+efU6/32m2pkzZ2b06NEZPXp09S8ghx9+eNZdd92USqVstdVWWW+99XLRRRcl+fS9f87gDqyM/jvOP3tZ+6Cdv7/cI71t27bZZZddcuWVV2bOnDmL3f/ZZ2v36tUrEydOrD6PSJK8/vrrmTFjRnr37r3Mc/y/H0P91FNPLfH958mnH1v92muvpWvXrllnnXVqXD57H32jRo1SWVn5tbZbe+2107Bhwzz99NPV20yfPj1vvvnmF86+33775cEHH8xLL71UY3lVVVUuvvji9O7du/r96e3atcukSZOq16msrMyrr75aY7slzZ58+gq0n/zkJ7nzzjtz/PHH5/e///0S5+nVq1eN55As/vXdZJNNMnr06MW+Duuss06NVzssLwIdAJLMmjUrY8aMyfjx46uXffDBBxkzZkzee++9LFiwoPov+wsWLMjTTz9d4zJr1qef4zt//v99XNC0adMWW++LfHaCoUGDBqV58+YZO3ZsevbsmUsuuSTnnnvucnjWAMW2pDj/TF1E+pVXXpnKyspsscUWueOOO/LWW29l1KhRueyyy6pfGt2/f//06dMnAwcOzAsvvJBnnnkmBx54YL797W9ns802W+YZbr/99lx33XV58803c/rpp+eZZ57JkUceucR1hw4dmo8++ij7779/nn322YwZMyb3339/DjrooOqw7dq1a55++umMGzcu06ZNS1VV1Zdu16JFiwwZMiQnnnhiHn744bz66qsZPHjwlwbrsccemy222CK77bZbbr/99kyYMCHPPvts9txzz4waNSrXXnttKioqkiQ77rhj7r333tx7771544038tOf/rT6jyCf6dq1ax577LG89957mTZtWpLkmGOOyf3335+xY8fmhRdeyCOPPPK5f8A4+uijM3z48Fx44YV56623csUVV9R4/3ny6R/nb7rpppx55pl57bXXMmrUqNx222351a9+9aXfq9rgJHEAkGTw4MEZPHjwF67zVd5H91Ue54vW69SpU2644YYv3R7gm2L8lPeXuHzspHdz0R03ZfVV2+Xw7+6TidOmLLbOVr02yrSZ0///s7tPz/e22v5r7+eLdO/ePS+88ELOPffcHH/88Zk0aVLatWuXTTfdNFdffXWST1+Wfvfdd+eoo47Kdtttl3r16mXAgAHL9DLr/3bmmWfmtttuyxFHHJFOnTrlT3/60+ceme/cuXMef/zxnHzyyfnOd76T+fPnZ6211sqAAQOqY/qEE07IoEGD0rt373zyyScZO3Zsunbt+qXbXXDBBdUvhW/ZsmWOP/74zJw58wtnb9KkSR5++OH8+te/zi9+8YuMHz8+LVu2zA477JCnnnoqG2ywQfW6Bx98cF566aUceOCBadCgQY499tjFTjB31lln5fDDD8/aa6+d+fPnp1QqpbKyMkOHDs27776bVq1aZcCAAbn44ouXOM9WW22V3//+9zn99NNz2mmnpX///vnVr36Vs88+u3qdXXbZJffcc0/OOuusnH/++WnYsGF69uxZfaK+5a2i9A08PeysWbPSunXrzJw5M61atSr3OAAAsFysKL/3zps3L2PHjk23bt2q38f73kcf5DvDhuaTBfO/ZOva07RR4/zrlCuzett2dbbPZVFRUZG//e1v2WOPPco9Cp9jST/by8IRdACoJf95+uVULeHv3vUqKrLtlhuWYSKA4lq9bbv865QrM33OrDrb5yrNW60wcc7KSaADQC15/NlXUlm5+Nl369evJ9ABlmD1tu0EM/wXgQ4AAFBA38B3I/MlnMUdAAAACkCgAwAAQAEIdAAAACgAgQ4AAAAFINABAACgAAQ6AAAAFICPWQMAAMpiwYIFWbRoUZ3tr0GDBmnUqFGd7W9Fc8YZZ+Suu+7KyJEjyz3KSkugAwAAdW7BggV59ZVXUpef9F2RZIM+fb5ypA8ePDg33nhjkk/jfo011sjee++ds846K02aNFmOk7KyEugAAECdW7RoUUpJ6t12QyqmTl7u+yu175iq/QZn0aJFX+so+oABA3L99ddn4cKFef755zNo0KBUVFTk/PPPX47TsrLyHnQAAKBsKqZOTsX7E5f/ZSn/CNC4ceN07NgxXbp0yR577JH+/fvngQceSJJUVVVl2LBh6datW5o2bZqNNtoof/3rX6u3ffTRR1NRUZH7778/ffv2TdOmTbPjjjtm6tSpue+++9KrV6+0atUqBxxwQObOnVu93fz583P00Uenffv2adKkSbbddts8++yz1ftcY401cvXVV9eY88UXX0y9evUyfvz4JMmMGTNyyCGHpF27dmnVqlV23HHHvPTSSzW2Oe+889KhQ4e0bNkyQ4YMybx585bqa0TtEegAAABfwauvvponnnii+gj8sGHDctNNN+V3v/tdXnvttRx77LH50Y9+lBEjRtTY7owzzsgVV1yRJ554IhMnTsw+++yTSy65JLfeemvuvffe/Otf/8rll19evf5JJ52UO+64IzfeeGNeeOGFrLPOOtlll13y0UcfpV69etl///1z66231tjHLbfckn79+mWttdZKkuy9997Vfwh4/vnns8kmm2SnnXbKRx99lCT5y1/+kjPOOCO//vWv89xzz6VTp0656qqrlueXj69AoAMAAHyOe+65Jy1atEiTJk3Sp0+fTJ06NSeeeGLmz5+fX//617nuuuuyyy67pHv37hk8eHB+9KMf5ZprrqnxGOecc0769euXvn37ZsiQIRkxYkSuvvrq9O3bN9/61rey11575ZFHHkmSzJkzJ1dffXUuuOCC7Lrrrundu3d+//vfp2nTprn22muTJAMHDszjjz+eCRMmJPn0qPptt92WgQMHJkn+85//5Jlnnsntt9+ezTbbLOuuu24uvPDCtGnTpvoI/yWXXJIhQ4ZkyJAhWW+99XLOOeekd+/edfVl5XMIdAAAgM+xww47ZOTIkXn66aczaNCgHHTQQdlzzz3z9ttvZ+7cudl5553TokWL6stNN92UMWPG1HiMDTfcsPp6hw4d0qxZs3Tv3r3GsqlTpyZJxowZk4ULF6Zfv37V9zds2DBbbLFFRo0alSTZeOON06tXr+qj6CNGjMjUqVOz9957J0leeumlzJ49O6uuumqN2caOHVs926hRo7LlllvWmHPrrbeurS8bS8lJ4gAAAD5H8+bNs8466yRJrrvuumy00Ua59tprs8EGGyRJ7r333qy++uo1tmncuHGN2w0bNqy+XlFRUeP2Z8uqqqq+1lwDBw7Mrbfemp///Oe59dZbM2DAgKy66qpJktmzZ6dTp0559NFHF9uuTZs2X2s/1C1H0AEAAL6CevXq5Re/+EV+9atfpXfv3mncuHEmTJiQddZZp8alS5cuS72PtddeO40aNcrjjz9evWzhwoV59tlna7wE/YADDsirr76a559/Pn/961+rX96eJJtsskkmT56cBg0aLDbbaqutliTp1atXnn766Rr7fuqpp5Z6bmqHI+gAAABf0d57750TTzwx11xzTU444YQce+yxqaqqyrbbbpuZM2fm8ccfT6tWrTJo0KClevzmzZvnpz/9aU488cS0bds2a665Zn7zm99k7ty5GTJkSPV6Xbt2zTbbbJMhQ4aksrIyu+++e/V9/fv3z9Zbb5099tgjv/nNb9KjR4+8//77uffee/ODH/wgm222WX72s59l8ODB2WyzzdKvX7/ccsstee2112q89J66J9ABAICyKbXvuELtp0GDBjnyyCPzm9/8JmPHjk27du0ybNiwvPPOO2nTpk022WST/OIXv1imfZx33nmpqqrKj3/843z88cfZbLPNcv/992eVVVapsd7AgQNzxBFH5MADD0zTpk2rl1dUVOSf//xnfvnLX+aggw7KBx98kI4dO2a77bZLhw4dkiT77rtvxowZk5NOOinz5s3LnnvumZ/+9Ke5//77l2l2lk1FqVQqlXuI2jZr1qy0bt06M2fOTKtWrco9DgArifOvuCWVlYu/h7B+/Xo5+ciBS9gCYNmsKL/3zps3L2PHjk23bt3SpEmTJMmCBQvy6iuvpC5jpCLJBn36VH9MGiyrJf1sLwtH0AEAgDrXqFGjbNCnTxYtWlRn+2zQoIE4p9AEOgAAUBaNGjUSzPBfnMUdAAAACkCgAwAAQAEIdAAAACgAgQ4AANSJb+AHSLGSq+2faYEOAAAsV/Xr10/y6UerwTfJZz/Tn/2MLytncQcAAJarBg0apFmzZvnggw/SsGHD1KvnOCErvqqqqnzwwQdp1qxZGjSonbQW6AAAwHJVUVGRTp06ZezYsRk/fny5x4FaU69evay55pqpqKiolccT6AAAwHLXqFGjrLvuul7mzjdKo0aNavUVIQIdAACoE/Xq1UuTJk3KPQYUljd/AAAAQAEIdAAAACgAgQ4AAAAFINABAACgAAQ6AAAAFIBABwAAgAIQ6AAAAFAAAh0AAAAKQKADAABAAQh0AAAAKACBDgAAAAUg0AEAAKAABDoAAAAUgEAHAACAAhDoAAAAUAACHQAAAApAoAMAAEABCHQAAAAoAIEOAAAABSDQAQAAoAAEOgAAABSAQAcAAIACEOgAAABQAAIdAAAACkCgAwAAQAEIdAAAACgAgQ4AAAAFINABAACgAAQ6AAAAFIBABwAAgAIQ6AAAAFAAAh0AAAAKQKADAABAAQh0AAAAKACBDgAAAAUg0AEAAKAABDoAAAAUgEAHAACAAhDoAAAAUAACHQAAAApAoAMAAEABCHQAAAAoAIEOAAAABSDQAQAAoAAEOgAAABSAQAcAAIACEOgAAABQAAIdAAAACkCgAwAAQAEIdAAAACgAgQ4AAAAFINABAACgAAQ6AAAAFIBABwAAgAIQ6AAAAFAAAh0AAAAKQKADAABAAQh0AAAAKACBDgAAAAUg0AEAAKAABDoAAAAUgEAHAACAAhDoAAAAUAACHQAAAApAoAMAAEABCHQAAAAoAIEOAAAABSDQAQAAoAAEOgAAABSAQAcAAIACEOgAAABQAAIdAAAACkCgAwAAQAEIdAAAACgAgQ4AAAAFINABAACgAAQ6AAAAFIBABwAAgAKo1UB/7LHHsttuu6Vz586pqKjIXXfdVeP+UqmU0047LZ06dUrTpk3Tv3//vPXWWzXW+eijjzJw4MC0atUqbdq0yZAhQzJ79uzaHBMAAAAKp1YDfc6cOdloo41y5ZVXLvH+3/zmN7nsssvyu9/9Lk8//XSaN2+eXXbZJfPmzateZ+DAgXnttdfywAMP5J577sljjz2Www47rDbHBAAAgMJpUJsPtuuuu2bXXXdd4n2lUimXXHJJfvWrX+X73/9+kuSmm25Khw4dctddd2W//fbLqFGjMnz48Dz77LPZbLPNkiSXX355/ud//icXXnhhOnfuXJvjAgAAQGHU2XvQx44dm8mTJ6d///7Vy1q3bp0tt9wyTz75ZJLkySefTJs2barjPEn69++fevXq5emnn/7cx54/f35mzZpV4wIAAAArkjoL9MmTJydJOnToUGN5hw4dqu+bPHly2rdvX+P+Bg0apG3bttXrLMmwYcPSunXr6kuXLl1qeXoAAABYvr4RZ3E/5ZRTMnPmzOrLxIkTyz0SAAAAfC11FugdO3ZMkkyZMqXG8ilTplTf17Fjx0ydOrXG/YsWLcpHH31Uvc6SNG7cOK1atapxAQAAgBVJnQV6t27d0rFjxzz00EPVy2bNmpWnn346W2+9dZJk6623zowZM/L8889Xr/Pwww+nqqoqW265ZV2NCgAAAHWuVs/iPnv27Lz99tvVt8eOHZuRI0embdu2WXPNNXPMMcfknHPOybrrrptu3brl1FNPTefOnbPHHnskSXr16pUBAwbk0EMPze9+97ssXLgwRx55ZPbbbz9ncAcAAOAbrVYD/bnnnssOO+xQffu4445LkgwaNCg33HBDTjrppMyZMyeHHXZYZsyYkW233TbDhw9PkyZNqre55ZZbcuSRR2annXZKvXr1sueee+ayyy6rzTEBAACgcCpKpVKp3EPUtlmzZqV169aZOXOm96MDUGfOv+KWVFZWLba8fv16OfnIgWWYCPim83svfLN8I87iDgAAACs6gQ4AAAAFINABAACgAAQ6AAAAFIBABwAAgAIQ6AAAAFAAAh0AAAAKQKADAABAAQh0AAAAKACBDgAAAAUg0AEAAKAABDoAAAAUgEAHAACAAhDoAAAAUAACHQAAAApAoAMAAEABCHQAAAAoAIEOAAAABSDQAQAAoAAEOgAAABSAQAcAAIACEOgAAABQAAIdAAAACkCgAwAAQAEIdAAAACgAgQ4AAAAFINABAACgAAQ6AAAAFIBABwAAgAIQ6AAAAFAAAh0AAAAKQKADAABAAQh0AAAAKACBDgAAAAUg0AEAAKAABDoAAAAUgEAHAACAAhDoAAAAUAACHQAAAApAoAMAAEABCHQAAAAoAIEOAAAABSDQAQAAoAAEOgAAABSAQAcAAIACEOgAAABQAAIdAAAACkCgAwAAQAEIdAAAACgAgQ4AAAAFINABAFZAt912WzbZZJM0bdo0bdu2zV577ZUxY8aUeywAloFABwBYwVx77bXZf//98+KLL6ZTp06prKzMHXfckW222SaTJ08u93gALCWBDgCwAlmwYEF+/vOfJ0n23HPPvPPOOxk1alRatmyZqVOn5te//nWZJwRgaQl0AIAVyLPPPptp06Yl+TTQk6Rz587ZaqutkiTDhw8v22wALBuBDgCwApk4cWL19fbt21df79ChQ5JkwoQJdT4TALWjQbkHAABWXC+PmZbx708v9xgrleffmFR9/clX3s3cRm8lSSZOmZUkqSqV8o9/v1WW2VZWa3VeJRuuvVq5xwC+AQQ6ALBUJkxbkH1++Y90qXyp3KOsVGZMe7/6+p//dFtGPP5ikuSVl0YmSRo2apbLLruyHKOttCbW3yj/umJg1lytUblHAVZwAh0AWCrTZi3K2Mp1st9um6fLao3LPc5KY9HCBXnjhQcye9aMNG5Yyn4HDc2MD6fkP/f+IUmy1Q67Zb+DhpZ5ypXHxGnzM+wf0zNt1iKBDiwzgQ4ALLUFFc2y6Qbds8Gazco9ykrllNPPzy+PPzzPP35/zjxil0z/6MPM+2RO2q66Ws799Xnp0LFzuUdcabw6YW4W3DOq3GMA3xBOEgcAsILZ/8DDctHVN6f3BhtnyuT3U1FRkV2++8Pcfu8T4hxgBeYIOgDACmiPvQZmj70GlnsMAGqRI+gAAABQAAIdAAAACkCgAwAAQAEIdAAAACgAgQ4AAAAFINABAACgAAQ6AAAAFIBABwAAgAIQ6AAAAFAAAh0AAAAKQKADAABAAQh0AAAAKACBDgAAAAUg0AEAAKAABDoAAAAUgEAHAACAAhDoAAAAUAACHQAAAApAoAMAAEABCHQAAAAoAIEOAAAABSDQAQAAoAAEOgAAABSAQAcAAIACEOgAAABQAAIdAAAACkCgAwAAQAEIdAAAACgAgQ4AAAAFINABAACgAAQ6AAAAFIBABwAAgAIQ6AAAAFAAAh0AAAAKQKADAABAAQh0AAAAKACBDgAAAAUg0AEAAKAABDoAAAAUgEAHAACAAhDoAAAAUAACHQAAAApAoAMAAEABCHQAAAAoAIEOAAAABSDQAQAAoAAEOgAAABSAQAcAAIACEOgAAABQAAIdAAAACkCgAwAAQAEIdAAAACgAgQ4AAAAFINABAACgAAQ6AAAAFIBABwAAgAIQ6AAAAFAAAh0AAAAKoM4DvWvXrqmoqFjsMnTo0CTJ9ttvv9h9P/nJT+p6TAAAAKhTDep6h88++2wqKyurb7/66qvZeeeds/fee1cvO/TQQ3PWWWdV327WrFmdzggAAAB1rc4DvV27djVun3feeVl77bXz7W9/u3pZs2bN0rFjx7oeDQAAAMqmrO9BX7BgQW6++eYcfPDBqaioqF5+yy23ZLXVVssGG2yQU045JXPnzi3jlAAAALD81fkR9P921113ZcaMGRk8eHD1sgMOOCBrrbVWOnfunJdffjknn3xyRo8enTvvvPNzH2f+/PmZP39+9e1Zs2Ytz7EBAACg1pU10K+99trsuuuu6dy5c/Wyww47rPp6nz590qlTp+y0004ZM2ZM1l577SU+zrBhw3LmmWcu93kBAABgeSnbS9zHjx+fBx98MIcccsgXrrflllsmSd5+++3PXeeUU07JzJkzqy8TJ06s1VkBAABgeSvbEfTrr78+7du3z3e/+90vXG/kyJFJkk6dOn3uOo0bN07jxo1rczwAAACoU2UJ9Kqqqlx//fUZNGhQGjT4vxHGjBmTW2+9Nf/zP/+TVVddNS+//HKOPfbYbLfddtlwww3LMSoAAADUibIE+oMPPpgJEybk4IMPrrG8UaNGefDBB3PJJZdkzpw56dKlS/bcc8/86le/KseYAAAAUGfKEujf+c53UiqVFlvepUuXjBgxogwTAQAAQHmV9XPQAQAAgE8JdAAAACgAgQ4AAAAFINABAACgAAQ6AAAAFIBABwAAgAIQ6AAAAFAAAh0AAAAKQKADAABAAQh0AAAAKACBDgAAAAUg0AEAAKAABDoAAAAUgEAHAACAAhDoAAAAUAACHQAAAApAoAMAAEABCHQAAAAoAIEOAAAABSDQAQAAoAAEOgAAABSAQAcAAIACEOgAAABQAAIdAAAACkCgAwAAQAEIdAAAACgAgQ4AAAAFINABAACgAAQ6AAAAFIBABwAAgAIQ6AAAAFAAAh0AAAAKQKADAABAAQh0AAAAKACBDgAAAAUg0AEAAKAABDoAAAAUgEAHAACAAhDoAAAAUAACHQAAAApAoAMAAEABCHQAAAAoAIEOAAAABSDQAQAAoAAEOgAAABSAQAcAAIACEOgAAABQAAIdAAAACkCgAwAAQAEIdAAAACgAgQ4AAAAFINABAACgAAQ6AAAAFIBABwAAgAIQ6AAAAFAAAh0AAAAKQKADAABAAQh0AAAAKACBDgAAAAUg0AEAAKAABDoAAAAUgEAHAACAAhDoAAAAUAACHQAAAApAoAMAAEABCHQAAAAoAIEOAAAABSDQAQAAoAAEOgAAABSAQAcAAIACEOgAAABQAAIdAAAACkCgAwAAQAEIdAAAACgAgQ4AUFCX/OaMdG9XscTLokWLkiTvThiXE48cnG37rpWeazTJTlutl2su/02qqqrKPD0AX1eDcg8AAMAXa7vqalmz69o1llVUVOTDaR/kB7tskQ+nfZDmzVtk7XV65s03Xs35Z52cKZPfz2nnXlKegQFYKo6gAwAU3A79v5s7hz9V41K/fv388++358NpHyRJ7hj+VO59dGTOvuDqJMkfr70i7783sZxjA/A1CXQAgIIbfs8d6dWlabZcv1OGHPC9vPbyi0mS0n+9jL1evU9/rauo+PR/Kysr89R/Hqn7YQFYal7iDgBQYPXr189q7TumQYMGGfPWG3nkgXvz+GMP5o5/Ppnt+/9Pmp9zSubMmZ0f7rJluqzVPW+Nfq1628mT3ivj5AB8XY6gAwAU1O57HpBnR03NI8+8lQeeGJUb/jw8SbJg/vz88bors2bX7rnx9n9l6213SEW9epk65f3sud/gVFRUJEkaNmxYzvEB+JocQQcAKKjua/eocXu7HXfJKm1XzfSPPsz7701Ikmyy+da55W8PV6/zwrNP5s83/+HT7ddZr+6GBWCZOYIOAFBQv7vs/Lz37oTq2/9+9IFM/+jDJMkaXbomSZ596j+prKxMksycMT3DTj8hyadnft/mWzvV7cAALBNH0AEACuqWG67OBeeckk6rd0mzZs0z5q03kiTNmjXPQYcfkyQ59cSfZPKk99Jp9S6ZMG5MPpk7N/Xr18/ZF/wuTZs1K+P0AHxdjqADABTUEcf8Ittst1MWLVyYCePfyepd1sr39xqYvz/0fNZdr3eSZNvtv5MWLVtl7NujU79+g3xr++/kljsfzq677Vnm6QH4uhxBBwAoqP0PPCz7H3jYF67zq7Mvyq/OvqiOJgJgeXIEHQAAAApAoAMAAEABCHQAAAAoAIEOAAAABSDQAQAAoAAEOgAAABSAQAcAAIACEOgAAABQAAIdAAAACkCgAwAAQAEIdAAAACgAgQ4AAAAFINABAACgAAQ6AAAAFIBABwAAgAIQ6AAAAFAAAh0AAAAKQKADAABAAQh0AAAAKACBDgAAAAUg0AEAAKAABDoAAAAUgEAHAACAAhDoAAAAUAACHQAAAApAoAMAAEABCHQAAAAoAIEOAAAABSDQAQAAoAAEOgAAABSAQAcAAIACEOgAAABQAAIdAAAACkCgAwAAQAEIdAAAACiAOg/0M844IxUVFTUuPXv2rL5/3rx5GTp0aFZdddW0aNEie+65Z6ZMmVLXYwIAAECdKssR9PXXXz+TJk2qvvznP/+pvu/YY4/NP/7xj9x+++0ZMWJE3n///fzwhz8sx5gAAABQZxqUZacNGqRjx46LLZ85c2auvfba3Hrrrdlxxx2TJNdff3169eqVp556KltttVVdjwoAAAB1oixH0N9666107tw53bt3z8CBAzNhwoQkyfPPP5+FCxemf//+1ev27Nkza665Zp588snPfbz58+dn1qxZNS4AAACwIqnzQN9yyy1zww03ZPjw4bn66qszduzYfOtb38rHH3+cyZMnp1GjRmnTpk2NbTp06JDJkyd/7mMOGzYsrVu3rr506dJlOT8LAAAAqF11/hL3XXfdtfr6hhtumC233DJrrbVW/vKXv6Rp06ZL9ZinnHJKjjvuuOrbs2bNEukAAACsUMr+MWtt2rRJjx498vbbb6djx45ZsGBBZsyYUWOdKVOmLPE9659p3LhxWrVqVeMCAAAAK5KyB/rs2bMzZsyYdOrUKZtuumkaNmyYhx56qPr+0aNHZ8KECdl6663LOCUAAAAsX3X+EvcTTjghu+22W9Zaa628//77Of3001O/fv3sv//+ad26dYYMGZLjjjsubdu2TatWrXLUUUdl6623dgZ3AAAAvtHqPNDffffd7L///vnwww/Trl27bLvttnnqqafSrl27JMnFF1+cevXqZc8998z8+fOzyy675KqrrqrrMQEAAKBO1Xmg33bbbV94f5MmTXLllVfmyiuvrKOJAAAAoPzK/h50AAAAQKADAABAIQh0AAAAKACBDgAAAAUg0AEAAKAABDoAAAAUgEAHAACAAhDoAAAAUAACHQAAAApAoAMAAEABCHQAAAAoAIEOAAAABSDQAQAAoAAEOgAAABSAQAcAAIACEOgAAABQAAIdAAAACkCgAwAAQAEIdAAAACgAgQ4AAAAFINABAACgAAQ6AAAAFIBABwAAgAIQ6AAAAFAAAh0AAAAKQKADAABAAQh0AAAAKACBDgAAAAUg0AEAAKAABDoAAAAUgEAHAACAAhDoAAAAUAACHQAAAApAoAMAAEABCHQAAAAoAIEOAAAABSDQAQAAoAAEOgAAABSAQAcAAIACEOgAAABQAAIdAAAACkCgAwAAQAEIdAAAACgAgQ4AAAAFINABAACgAAQ6AAAAFIBABwAAgAIQ6AAAAFAAAh0AAAAKQKADAABAAQh0AAAAKACBDgAAAAUg0AEAAKAABDoAAAAUgEAHAACAAhDoAAAAUAACHQAAAApAoAMAAEABCHQAAAAoAIEOAAAABSDQAQAAoAAEOgAAABSAQAcAAIACEOgAAABQAAIdAAAACkCgAwAAQAEIdAAAACgAgQ4AAAAFINABAACgAAQ6AAAAFIBABwAAgAIQ6AAAAFAAAh0AAAAKQKADAABAAQh0AAAAKACBDgAAAAUg0AEAAKAABDoAAAAUgEAHAACAAhDoAAAAUAACHQAAAApAoAMAAEABCHQAAAAoAIEOAAAABSDQAQAAoAAEOgAAABSAQAcAAIACEOgAAABQAAIdAAAACkCgAwAAQAEIdAAAACgAgQ4AAAAFINABAACgAAQ6AAAAFIBABwAAgAIQ6AAAAFAAAh0AAAAKQKADAKyA/vG327LbjpukV5em6btu2xxx0F4ZP3ZMuccCYBkIdACAFcyfb742Pzts/7z2yotp36FTKisrM/yeO7LXd7fJB1Mml3s8AJaSQAcAWIEsWLAgF5zz8yTJgO/tmRHPvZMHnhiVFi1a5sMPpuaqS35d5gkBWFoCHQBgBfLyi8/mow+nJUkG7LZnkqRDx87ZeLOtkiQjHh5ettkAWDYCHQBgBTLp/YnV11ddrX319dXadUiSvP/ehDqfCYDa0aDcAwAAK7a3J39S7hFWKhOnza++Pm7qvLSeMDdJMn32wiRJqZS8+v8vY/nz8w/UJoEOACyVRVUzU7/eohx3w7hyj7Jymbao+uqpN4xMHu746Y0XxiVJFjbqkN3PG1X3c63E6tdblEVVM5M0K/cowApOoAMAS6VZ47npvNoV2W2r72W11quUe5yVRuXCjrnouVb55ONZ6VV/ePb+8eb5+MMPc+U9r2RBki2275sBP/6w3GOuNKbNnJ5/PHVPmjU+o9yjAN8AAh0AWGoN6s/KD7+1XtZbo2u5R1mptPzNmfn5T4/NqCf+kxt+dlimf/hRFnwyN21XWzVXXjUsHTt3KveIK43R747Lfc/eWu4xgG8IJ4kDAFjBDDx0cC676Zqsv3GfTHl/cioqKrLrD3bLXf++X5wDrMAcQQcAWAH94IB98oMD9in3GADUIkfQAQAAoAAEOgAAABSAQAcAAIACEOgAAABQAAJ9Gf385z/P1ltvnfbt26dJkybp3r17jjrqqEydOrXGel27dk1FRcVilx/96EdlmhwAAIAicRb3ZXT++eenfv366dWrVxo2bJixY8fmiiuuyKOPPpqXXnop9erV/BtIr1690qpVq+rb66yzTl2PDAAAQAEJ9GX0y1/+Mj/72c/Srl27VFZWZt99980dd9yRV199NS+99FL69u1bY/2rrroq22+/fXmGBQAAoLC8xH0ZnXPOOWnXrl2SpH79+tlmm22q72vcuPFi6++5555p0qRJevTokZNOOimzZs2qs1kBAAAoLoFei+bMmZObbropSdKvX7/07t27xv0tW7bM6quvntatW+ett97KBRdckF122SVVVVXlGBcAAIACEei15IMPPshOO+2Ul156KT179sztt99e4/6//vWvmT59el5++eW89957+fGPf5wkeeqpp/LEE0+UY2QAAAAKRKDXgtGjR2errbbK008/na222ir//ve/06lTpxrrbLbZZqlfv36SpEGDBtlnn32q75swYUKdzgsAAEDx1HmgDxs2LJtvvnlatmyZ9u3bZ4899sjo0aNrrLP99tsv9nFkP/nJT+p61K/kscceyzbbbJN33nkne+21Vx555JGsttpqNdZ57bXXcu2112b+/PlJksrKyvz1r3+tvr9r1651OTIAAAAFVOeBPmLEiAwdOjRPPfVUHnjggSxcuDDf+c53MmfOnBrrHXrooZk0aVL15Te/+U1dj/qV7Lzzzvnoo49SUVGRCRMmZPvtt89WW22VrbbaKvfee2+ST1/+fsghh6R169bZYIMNsvrqq+fGG29Mkuy4447Zeuuty/kUAAAAKIA6/5i14cOH17h9ww03pH379nn++eez3XbbVS9v1qxZOnbsWNfjfW0LFixIkpRKpTzzzDM17vvggw+SfPrZ58cdd1wefPDBjB8/PpWVlenTp08OOOCA/OxnP0tFRUWdzw0AAECxlP1z0GfOnJkkadu2bY3lt9xyS26++eZ07Ngxu+22W0499dQ0a9asHCN+oVKp9KXrdOjQIb/97W/rYBoAAABWVGUN9KqqqhxzzDHp169fNthgg+rlBxxwQNZaa6107tw5L7/8ck4++eSMHj06d9555xIfZ/78+dXv707is8UBAABY4ZQ10IcOHZpXX301//nPf2osP+yww6qv9+nTJ506dcpOO+2UMWPGZO21117scYYNG5Yzzzxzuc/7Zf7z9MupWsIR9XoVFdl2yw3LMBEAAAArirIF+pFHHpl77rknjz32WNZYY40vXHfLLbdMkrz99ttLDPRTTjklxx13XPXtWbNmpUuXLrU78Ffw+LOvpLKyarHl9evXE+gAAAB8oToP9FKplKOOOip/+9vf8uijj6Zbt25fus3IkSOTZLHPFv9M48aN07hx49ocEwAAAOpUnQf60KFDc+utt+buu+9Oy5YtM3ny5CRJ69at07Rp04wZMya33npr/ud//ierrrpqXn755Rx77LHZbrvtsuGGjkIDAADwzVTngX711VcnSbbffvsay6+//voMHjw4jRo1yoMPPphLLrkkc+bMSZcuXbLnnnvmV7/6VV2PCgAAAHWmLC9x/yJdunTJiBEj6mgaAAAAKIZ65R4AAAAAEOgAAABQCAIdAAAACkCgAwAAQAEIdAAAACgAgQ4AAAAFINABAACgAAQ6AAAAFIBABwAAgAIQ6AAAAFAAAh0AAAAKQKADAABAAQh0AAAAKACBDgAAAAUg0AEAAKAABDoAAAAUgEAHAACAAhDoAAAAUAACHQAAAApAoAMAAEABCHQAAAAoAIEOAAAABSDQAQAAoAAEOgAAABSAQAcAAIACEOgAAABQAAIdAAAACkCgAwAAQAEIdAAAACgAgQ4AAAAFINABAACgAAQ6AAAAFIBABwAAgAIQ6AAAAFAAAh0AAAAKQKADAABAAQh0AAAAKACBDgAAAAUg0AEAAKAABDoAAAAUgECHFdBtt92WTTbZJE2bNk3btm2z1157ZcyYMeUeCwAAWAYCHVYw1157bfbff/+8+OKL6dSpUyorK3PHHXdkm222yeTJk8s9HgAAsJQEOqxAFixYkJ///OdJkj333DPvvPNORo0alZYtW2bq1Kn59a9/XeYJAQCApSXQYQXy7LPPZtq0aUk+DfQk6dy5c7baaqskyfDhw8s2GwC175qLrsjeO34vm67RM2s365CtuvfJsQf9NOPfGVe9zsRxE3LswUdkq+59sk7zjvl2781z9QWXpqqqqnyDA7BUGpR7AOCrmzhxYvX19u3bV1/v0KFDkmTChAl1PhMAy88NV/5v3pvwbtZeb900adokE8aOz1//eFsee+CRPPr6M1kwf0F223qnfPjBtDRv0SJr91w3o18dlV+fckamTJqcMy4aVu6nAMDXINBZJi+PmZbx708v9xgrjeffmFR9/clX3s3cRm8lSSZOmZUkqSqV8o9/v1WW2VZWa3VeJRuuvVq5xwC+ofYfcmD2/NG+WX3NLkmSM477Ra697OpMnTwl/3n4sUydNDkffvDpK6vufvxfWW/9Xrn1Dzfm5J8ckxuu/H0OO3ZoOndZo5xPAYCvQaCz1CZMW5B9fvmPdKl8qdyjrDRmTHu/+vqf/3RbRjz+YpLklZdGJkkaNmqWyy67shyjrbQm1t8o/7piYNZcrVG5RwG+gY7+xQk1bm/5ra1z7WVXJ0kaN2qU0n+9jL1evXo1/reysjJPPPqf7PXj/epoWgCWlUBnqU2btShjK9fJfrttni6rNS73OCuFRQsX5I0XHsjsWTPSuGEp+x00NDM+nJL/3PuHJMlWO+yW/Q4aWuYpVx4Tp83PsH9Mz7RZiwQ6sNxVVlbmlt/fmCRZs3vX9Nvp21n7vR5p/suzM2f27Oy+zc5Zs/taefO1N6q3mfze+5/3cAAUkEBnmSyoaJZNN+ieDdZsVu5RVhqnnH5+fnn84Xn+8ftz5hG7ZPpHH2beJ3PSdtXVcu6vz0uHjp3LPeJK49UJc7PgnlHlHgNYCcydMydDBx6SEf96KO07dsj1d/0pjRs3zlrdu+aW++7Ib049J6+++FKmvD85ew86ILdd98eUSqU0aNiw3KMD8DU4izusYPY/8LBcdPXN6b3Bxpky+f1UVFRkl+/+MLff+4Q4B/gGmjp5Svba8Xt58J7h6d5jndz52PD06N2z+v5Nt94if37w73ntw/EZOemt7Dt4YEqlUpJk7R7rlGtsAJaCI+iwAtpjr4HZY6+B5R4DgOVs9GujMnj3ffPu+InZYtut84c7b8kqbVepsc4z/3kym269RerXr58Z02fknJNOTZK0XW3VbLvTt8sxNgBLSaADABTUYXsfmHfHf/oRm3Nmz86g7+1Tfd/+Q36c/YccmFOGHpcp701Kpy6rZ/yYcflk7tzUr18/w666KE2beQsawIpEoAMAFNSC+fOrr7828pUa922/y05Jku3675j7/vb3vDP67TRu0jjb7bxjjjrluGy1Xb86nRWAZSfQAQAK6skxL3/pOqf/9tyc/ttz62AaAJY3J4kDAACAAhDoAAAAUAACHQAAAApAoAMAAEABCHQAAAAoAIEOAAAABSDQAQAAoAAEOgAAABSAQAcAAIACEOgAAABQAAIdVjBzZs/Oxeefnv5b90yvLk2z1Qad86sTf5qZM6aXezQAAGAZNCj3AMDXc+iPdstTjz+a+vXrZ92e6+fd8WNz6w2/yysjn8sd9z2ZBg383xoAAFZEjqDDCuSt0a/nqccfTZKceu6l+eejL+XuB59Pkrwy8rnce/dfyjgdAACwLAQ6rECqqqqqr9erV6/G/ybJ4yMerPOZAACA2iHQYQWyTo9e6dFrgyTJmaccle9uv3F222mT6vunTHqvXKMBAADLSKDDCqR+/fq5/rb78v29BmaVtqtl4vh3svlW38paXddOkjRo2LDMEwIAAEvL2aRgBdOp8xq5+Oqbq2/PnzcvW6zfMUnSfZ31yjUWAACwjBxBhxXMqy+9kNmzP06SVFZWZtgZJ+bjWTOTJN/bY99yjgYAACwDR9BhBXP7rdflL7dem7W6rZNpUyfnow+nJUkOOvyYbLTJFmWeDgAAWFoCHVYwG22yRZ56/JFMHP9OSqVSNtho0wwc/NPs+6Mh5R4NAABYBgIdVjA/3PfA/HDfA8s9BgAAUMu8Bx0AAAAKQKADAABAAQh0AAAAKACBDgAAAAUg0AEAAKAABDoAAAAUgEAHAACAAhDoAAAAUAACHQAAAApAoAMAAEABCHQAAAAoAIEOAAAABSDQAQAAoAAEOgAAABSAQAcAAIACEOgAAABQAAIdAAAACqBBuQdgxff25E/KPcJK5W9/vDTP/vu+vDfuzXw8a3pWWbVDNtj0W9n/sF+k4xrdyj3eSsXPPgAAtUmgs9QWVc1M/XqLctwN48o9ysrl3suTuZOTlmsljRrkg8kT88i9t+aRh+5PBtyRNGxR7glXKvXrLcqiqplJmpV7FAAAVnACnaXWrPHcdF7tihy0y4/TqW27pX6c96ZNyc0P3Zv2bVbJATt+N40bNqpx/79feS6Pvvxctt9ws3yrz2bLOvYSzV+4ILc+fG+mzpieH+303ay+WoevNWNt+aLn+tmMb05cKz8ecl569+qTJLn9sgvz8F9uTeZ9mMM3fy4bf3vHZZrB9+P/fNn348Z/3Z1psyamWeMzlsv+AQBYuQh0lkmD+rOy3Ybts94aXZfhUbrlW33a5fhrLshDL87JhYedkGZNmiZJbnzg7jw56p4csfsPM2jn79fKzJ9n183XzAn/e2HueuKG/PbwE9N7rbWTJK+PH5Mr/35D+nRbPRce9tPq2ZaH723VLTc+0CjX3ndnendtVP2c5877JCf874WZO/+9/PmWK6pnS5L6kwZ8GuhJtunTJTtutawvc/f9+MyXfT/mLZyYBvXnL7f9AwCwcnGSOAqh91pr57eHn5ixk9/7NETnfZIbH7g71953Z4bsuvxjMEmaNWmaCw87Id06rp7jr7kgr48fk9fHj8nx11yQbh1XrxGqy9Ognb+fIbv+MNfed2dufODu6hgcO/m9GqGaJJWVlbnl9zcmSdbs3jX9dvp2rczg+/F/vuj7cdyeBy73/QMAsPJwBJ3C+CwKj7/mggz4xU+SpM5i8DOfReEJ/3thfnLpWUmSDbquU2cx+JnPnvO1992Za++7M82bNF0szufOmZOhAw/JiH89lPYdO+T6u/6Uxo0b19oMvh//5/O+H/Xr16+zGQAA+OZzBJ1C6b3W2tl47Z7Vt/f+1nfqfIZmTZpmyIAfVt8eMuCHdRqDn/nv577x2j1rxPnUyVOy147fy4P3DE/3HuvkzseGp0fvnkt6mGXi+/F/vuj7AQAAtUGgUyg3PnB3Hn/txfRbv2+aN2la/fLquvT6+DH51Q2XZ+1OXbJ2py751Q2X5/XxY+p0hs9eRt28SdP0W79vHn/txdz4wN1JktGvjcr3++2cV54fmS223Tp3/edfWat71+Uyh+/Hp77o+wEAALVFoFMY//0e52FDjlnsPdB14b/f43zlUb/MlUf9ssZ7oOvC//ue82FDjqnxHujD9j4w746fmCSZM3t2Bn1vn+y+zc7ZfZud86drb6q1OXw/PvVF3497nnq0TmYAAGDlINAphCWdgGxJJypbnpZ0ArIlnahsefq8E8L994nKPpoxvXr910a+khefea76Mund92tlDt+PT33Z9+PuJx5ZrvsHAGDlItApuy86O3hdReEXnR28rqLwi87WnvxfFK6yX7+cc98Nmbho+mKX407/+TLP4fvxqa/y/fj+Njssl30DALBychZ3ltn4KUt/1Paepx7N3U88ku9vs0O26rVRRr87brF16tevn5/94Ee56I6bMvTyc3LMDw9Mk1o8W/nYSe/mojtuyuqrtsvh390nE6dNWeJ6h393n1xy50055urzc9yeB6ZbpzVqbYZ58+fnkjtvynsffpDj9jww9evXX+LXYqteG2XazOm59r47M23m9Hxvq+1rbYbE9+MzX/X70adbD0fRAQCoNRWlUqlU7iFq26xZs9K6devMnDkzrVq1qrP9nn/FLamsrFpsef369XLykQPrbI668sLYN7LPpT9P1TfvRwi+snoVFfnLz87LJt1q/yz6rHhWtn8HXp04JrtfeFx+f9yZWW+NruUeB8pi9LvjcuhFp+fvJ1yUDbrU/Sd8lOv3XmD5cASdpdaoQcNUlUoZsusP06ltu3KPA3Vu0kcf5Nr77kyjBg3LPQoAAN8AAp1ltlWvjRw5YaU0+t1xufa+O8s9BgAA3xBOEgcAAAAFINBhBfbT/Q5KlwarpEuDVXLEAQeXexwAAGAZCHRYQf35hltyz1/vKvcYAABALRHosAIaN2ZsTj/m59l0q83TaY3O5R4HAACoBQIdVjCLFi3K0T8+LPXqVeSyP/4+9evXL/dIAABALXAWd1jBXHzW+Xnxmedy2U3XZM1ua5V7HAAAoJY4gg4rkJeeezFXnn9xfjhwn/zggH3KPQ4AAFCLBDqsQEa/NiqVlZW5946/Z73Wa2S91mvkvQnvJknuu/MfWa/1Gpk1c2aZpwQAAJaGl7jDCmj+vHmLLVu0aFEWLVqUUqkMAwEAAMvMEXRYgewz6IBMXDS9xmWNtbokSXbb5weZuGh6WrdpXeYpAQCApSHQAQAAoAC8xB1WcE+OebncIwAAALXAEXQAAAAogMIG+pVXXpmuXbumSZMm2XLLLfPMM8+UeyQAAABYbgoZ6H/+859z3HHH5fTTT88LL7yQjTbaKLvsskumTp1a7tEAAABguShkoF900UU59NBDc9BBB6V379753e9+l2bNmuW6664r92gAAACwXBQu0BcsWJDnn38+/fv3r15Wr1699O/fP08++WQZJwMAAIDlp3BncZ82bVoqKyvToUOHGss7dOiQN954Y4nbzJ8/P/Pnz6++PWvWrBr/W1fmfTI3lVWlxZbXr1dR57PUhdkff5yq+Qvzxpi3M+fj2eUeB+rcxKmTUzV/YWZ//PE38v/jfH3+HYCVT7n/Lfgm/rcFVmYVpVJp8d8kyuj999/P6quvnieeeCJbb7119fKTTjopI0aMyNNPP73YNmeccUbOPPPMuhwTAAAKY+bMmWnVqlW5xwCWUeGOoK+22mqpX79+pkyZUmP5lClT0rFjxyVuc8opp+S4446rvj1r1qx06dIlEydO9B+q5Wju3Ll5/IVnM/efdyYzPiz3OFD32qyaZv/zw/TbZPM0a9as3NNAnfPvAKTs/xZ89nsv8M1QuEBv1KhRNt100zz00EPZY489kiRVVVV56KGHcuSRRy5xm8aNG6dx48aLLW/VqpVAX44aNGiQrh06p/7Hs1MxxRn2WfmU6jdOZYfOadWqlUBnpeTfAfBvAVC7ChfoSXLcccdl0KBB2WyzzbLFFlvkkksuyZw5c3LQQQeVezQAAABYLgoZ6Pvuu28++OCDnHbaaZk8eXI23njjDB8+fLETxwEAAMA3RSEDPUmOPPLIz31JOwAAAHzTFO5z0AEAAGBlJNABAACgAAQ6AAAAFEBh34MOfLk3P56b/x37bp6f/nE+XlSZVRo1yMatW+aCDdct92gAAMDXJNBhBfXijI/z0xfeyLyqqrSoXz9rN2+auZWVefSD6eUeDQAAWAoCHVZApVIpZ73+TuZVVeV/Oq6a03p1T5P6n75jZc6iyjJPBwAALA2BDiugN2fPzdi585IkpSR7PPFSZi+qTK9WzXPsumumd6vm5R0QAAD42pwkDlZA4/7/OE+S+yZ/WH30/Nnps3LI86/nvU/ml2s0AABgKTmCDgU3atac/PqNsTWW7b9mx+rrP+jcLqf37p73PpmX3Z94KXMrq/L39z/IT9deo65HBQAAloFAh4Kbvagyr8yaU2PZzxo3qr6+/v//cvbVmzbJKg0bZtqChXl/niPoAACwohHoUHCbt22Vkf23rLFsXuWnZ26fXVmZ12bNyV5J3v9kfqYvXJgkWbNZkzJMCgAALAuBDiugJvXr5fDuq+e3b03I397/ICNnfJwPFixMZSlZrVHD7Ll6+3KPCAAAfE0CHVZQP16rU1o0qJ9bJkzOhE/mZZWGDbP9aqvkqHW6pG2jhuUeDwAA+JoEOqzAfrB6+/zA0XIAAPhG8DFrAAAAUAACHQAAAApAoAMAAEABCHQAAAAoAIEOAAAABSDQAQAAoAAEOgAAABSAQAcAAIACEOgAAABQAAIdAAAACqBBuQdgxVdq37HcI0BZ+NkHAKA2CXSWWoMGDVKRpGq/weUeBcqmIp/+fwEAAJaV3ypZao0aNcoGffpk0aJF5R4FyqZBgwZp1KhRuccAAOAbQKCzTBo1aiROAAAAaoGTxAEAAEABCHQAAAAoAIEOAAAABSDQAQAAoAAEOgAAABSAQAcAAIACEOgAAABQAAIdAAAACkCgAwAAQAEIdAAAACgAgQ4AAAAFINABAACgAAQ6AAAAFIBABwAAgAIQ6AAAAFAAAh0AAAAKQKADAABAAQh0AAAAKACBDgAAAAUg0AEAAKAABDoAAAAUgEAHAACAAhDoAAAAUAACHQAAAApAoAMAAEABCHQAAAAoAIEOAAAABSDQAQAAoAAEOgAAABSAQAcAAIACEOgAAABQAAIdAAAACkCgAwAAQAEIdAAAACgAgQ4AAAAFINABAACgAAQ6AAAAFIBABwAAgAIQ6AAAAFAAAh0AAAAKoEG5BwAA4Mud/to7eWHGrExbsDClUrJa44b51mpt8pPua6R1w09/pZtfWZWzR43Nq7NmZ/zceSkl6dOqef64xQblHR6Ar8QRdACAFcCj06anKkm3Zk2zSqMGefeT+fnTxCk55dW3q9eZX1WVeyZPy9zKyjRvUL98wwKwVBxBBwBYAfxr275pXP//jq0c9NzreXHGxxk54+PqZc0b1M8D3+qbdo0bZchzr+f5/7oPgOIT6AAAK4DG9evlyjET8+SHM/PhgoWZNG9BkqRvm5bV69SvqEi7xo3KNSIAy0igAwCsICbMnZdXZ82pvr1l21b5TZ91yzgRALVJoAMAFMioWXPy6zfG1lj22Unezu+zbs5Zvypj5nySX706Jk9/NCvD3hiXczZYuxyjAlDLnCQOAKBAZi+qzCuz5tS4/LeG9eqlZ8vm+eHq7ZMk90yelvFzPinHqADUMkfQAQAKZPO2rTKy/5Y1lr06c3Y+qazK5m1bJUkWVlXl6Y9mVt//SWVVnc4IwPIh0AEACm7MnE9y+uvvpFWD+unYpHGmzF+QmQsXJUnWa9EsPVo2q153t8dHJkmmzv/0JHKjZ8+tXvaHTXunQxMnkQMoKoEOAFBw67Romn6rts6bH8/NO3M+Sf2KpHvzJtl2tVVySNfOqVdRUb3uxE/m19h2QVWpetmiUqlO5wbg6xHoAAAFt36rFrmyb8+vtO7/+/J4AFYcThIHAAAABSDQAQAAoAAEOgAAABSAQAcAAIACEOgAAABQAAIdAAAACkCgAwAAQAEIdAAAACgAgQ4AAAAFINABAACgAAQ6AAAAFIBABwAAgAIQ6AAAAFAAAh0AAAAKQKADAABAAQh0AAAAKACBDgAAAAUg0AEAAKAABDoAAAAUgEAHAACAAhDoAAAAUAACHQAAAApAoAMAAEABCHQAAAAoAIEOAAAABSDQAQAAoAAEOgAAABSAQAcAAIACEOgAAABQAAIdAAAACkCgAwAAQAEIdAAAACgAgQ4AAAAFINABAACgAAQ6AAAAFIBABwAAgAIQ6AAAAFAAAh0AAAAKQKADAABAAQh0AAAAKACBDgAAAAVQZ4E+bty4DBkyJN26dUvTpk2z9tpr5/TTT8+CBQtqrFNRUbHY5amnnqqrMQEAAKAsGtTVjt54441UVVXlmmuuyTrrrJNXX301hx56aObMmZMLL7ywxroPPvhg1l9//erbq666al2NCQAAAGVRZ4E+YMCADBgwoPp29+7dM3r06Fx99dWLBfqqq66ajh071tVoAAAAUHZlfQ/6zJkz07Zt28WW77777mnfvn223Xbb/P3vf//Sx5k/f35mzZpV4wIAAAArkrIF+ttvv53LL788hx9+ePWyFi1a5Le//W1uv/323Hvvvdl2222zxx57fGmkDxs2LK1bt66+dOnSZXmPDwAAALWqolQqlZblAX7+85/n/PPP/8J1Ro0alZ49e1bffu+99/6/9u4txKqC7+P4b+s4k1qeal603DVIlocUpUwsyLGMMgqLDgaWzo0XJYUdkLcLU4ogOkBFIUg0aT1QF4WGdGCYC+loiRiVU2lpSmpHzaHC0tnvRTQ8vR3H0dlL+3yu3O51+C/Rtfd31trbTJ06NY2NjXn88cf/ct05c+Zky5YtefXVV/90mX379mXfvn2dj/fu3ZtyuZzvvvsuAwYM+IdHAgB0xQ8//JC2trb0fuTelHZsr/Y4UBWVE8s5cPP/ZvTo0enXr1+P73/v3r0ZOHCg971wlOj2Z9Bvu+22NDU1/eUyI0aM6Pz1jh07Mm3atJxzzjlZtmzZ325/8uTJaWlp+ctl6urqUldX94/mBQAAgCLqdqDX19envr7+Hy37+eefZ9q0aTnzzDPT3NycXr3+/g77DRs2ZNiwYd0dEwAAAAqtx77F/fPPP09jY2NOOeWUPPDAA/nqq686n/v1G9uXL1+e2traTJw4MUny/PPP54knnvjb2+ABAADgSNdjgd7S0pLNmzdn8+bNGT58+G+e+++Pwd9999357LPPUlNTk1GjRuXZZ5/NVVdd1VNjAgAAQFX0WKA3NTX97WfV586dm7lz5/bMQAAAAFAgVf1/0AEAAIBfCHQAAAAoAIEOAAAABSDQAQAAoAAEOgAAABSAQAcAAIACEOgAAABQAAIdAAAACkCgAwAAQAEIdAAAACgAgQ4AAAAFINABAACgAAQ6AAAAFIBABwAAgAIQ6AAAAFAAAh0AAAAKQKADAABAAQh0AAAAKACBDgAAAAUg0AEAAKAABDoAAAAUgEAHAACAAhDoAAAAUAA11R4AADiyVf5naLVHgKrx9x84lAQ6AHBQampqUkrScW1TtUeBqirll38PAN3lTAIAHJTa2tqcMW5c9u/fX+1RoKpqampSW1tb7TGAo4BABwAOWm1trTABgEPEl8QBAABAAQh0AAAAKACBDgAAAAUg0AEAAKAABDoAAAAUgEAHAACAAhDoAAAAUAACHQAAAApAoAMAAEABCHQAAAAoAIEOAAAABSDQAQAAoAAEOgAAABSAQAcAAIACEOgAAABQAAIdAAAACkCgAwAAQAEIdAAAACgAgQ4AAAAFINABAACgAAQ6AAAAFIBABwAAgAIQ6AAAAFAAAh0AAAAKQKADAABAAQh0AAAAKACBDgAAAAUg0AEAAKAABDoAAAAUgEAHAACAAhDoAAAAUAACHQAAAApAoAMAAEABCHQAAAAoAIEOAAAABSDQAQAAoABqqj3A4VCpVJIke/furfIkAABw+Pz6fvfX97/Ake2oDPT29vYkSblcrvIkAABw+LW3t2fgwIHVHgPoplLlKPxxW0dHR3bs2JHjjjsupVKp2uPAYbF3796Uy+Vs3749AwYMqPY4AFSB1wIqlUra29tz4oknplcvn16FI91ReQW9V69eGT58eLXHgB4xYMAAb8oA/uW8Fvy7uXIORw8/ZgMAAIACEOgAAABQAAIdjlB1dXVZvHhx6urqqj0KAFXitQDg6HJUfkkcAAAAHGlcQQcAAIACEOgAAABQAAIdAAAACkCgAwAcQZ588skMGjSo2mMAcBgIdKiSXbt25aabbsqIESNSV1eXcrmcyy67LK2trT06R6lUysqVK3t0nwD/dk1NTSmVSimVSqmtrc2pp56au+66K/v37//bdWfNmpWPP/64S/trbGzMggULDnJaAHpKTbUHgH+jrVu35txzz82gQYNy//33Z9y4cfn555/zyiuvZP78+fnwww+rPSIAh9nFF1+c5ubm7Nu3Ly+++GLmz5+fPn365I477vjL9fr27Zu+ffv20JQA9CRX0KEKbrzxxpRKpbz99tu58sorc9ppp2Xs2LG59dZb89ZbbyVJtm3blpkzZ+bYY4/NgAEDcs011+SLL77o3EZTU1Muv/zy32x3wYIFaWxs7Hzc2NiYm2++OQsXLsyQIUMydOjQLFmypPP5hoaGJMkVV1yRUqnU+RiAw6+uri5Dhw7NKaeckhtuuCHTp0/PCy+8kN27d2fOnDkZPHhw+vXrlxkzZmTTpk2d6/3/W9yXLFmSCRMm5KmnnkpDQ0MGDhyYa6+9Nu3t7Ul+eb1Ys2ZNHn744c6r9lu3bs3u3bsze/bs1NfXp2/fvhk5cmSam5t7+o8BgP8i0KGHffvtt3n55Zczf/789O/f/3fPDxo0KB0dHZk5c2a+/fbbrFmzJi0tLfn0008za9asLu9v+fLl6d+/f9auXZv77rsvd911V1paWpIk77zzTpKkubk5O3fu7HwMQM/r27dvfvrppzQ1NWXdunV54YUX8uabb6ZSqeSSSy7Jzz///KfrfvLJJ1m5cmVWr16d1atXZ82aNbn33nuTJA8//HCmTJmSefPmZefOndm5c2fK5XIWLVqUjRs35qWXXkpbW1uWLl2aE044oacOF4A/4BZ36GGbN29OpVLJqFGj/nSZ1tbWvPfee9myZUvK5XKSZMWKFRk7dmzeeeedTJo06R/vb/z48Vm8eHGSZOTIkXn00UfT2tqaCy+8MPX19Ul++aHA0KFDu3FUABysSqWS1tbWvPLKK5kxY0ZWrlyZ119/Peecc06S5D//+U/K5XJWrlyZq6+++g+30dHRkSeffDLHHXdckuT6669Pa2tr7rnnngwcODC1tbXp16/fb87127Zty8SJE3PWWWclibuoAArAFXToYZVK5W+XaWtrS7lc7ozzJBkzZkwGDRqUtra2Lu1v/Pjxv3k8bNiwfPnll13aBgCH3urVq3PsscfmmGOOyYwZMzJr1qw0NTWlpqYmkydP7lzu+OOPz+mnn/6X5/+GhobOOE/+2bn+hhtuyDPPPJMJEyZk4cKFeeONN7p/UAB0i0CHHjZy5MiUSqVufxFcr169fhf7f3T7Y58+fX7zuFQqpaOjo1v7BqD7pk2blg0bNmTTpk358ccfs3z58pRKpYPa1sGc62fMmJHPPvsst9xyS3bs2JELLrggt99++0HtH4BDQ6BDDxsyZEguuuiiPPbYY/n+++9/9/yePXsyevTobN++Pdu3b+/8/Y0bN2bPnj0ZM2ZMkqS+vj47d+78zbobNmzo8jx9+vTJgQMHurweAN3Tv3//nHrqqTn55JNTU/PLpw5Hjx6d/fv3Z+3atZ3LffPNN/noo486z/8Ho7a29g/P9fX19Zk7d26efvrpPPTQQ1m2bNlB7wOA7hPoUAWPPfZYDhw4kLPPPjvPPfdcNm3alLa2tjzyyCOZMmVKpk+fnnHjxmX27NlZv3593n777cyZMydTp07t/Kzg+eefn3Xr1mXFihXZtGlTFi9enPfff7/LszQ0NKS1tTW7du3K7t27D/WhAtAFI0eOzMyZMzNv3ry89tpreffdd3PdddflpJNOysyZMw96uw0NDVm7dm22bt2ar7/+Oh0dHbnzzjuzatWqbN68OR988EFWr16d0aNHH8KjAaCrBDpUwYgRI7J+/fpMmzYtt912W84444xceOGFaW1tzdKlS1MqlbJq1aoMHjw45513XqZPn54RI0bk2Wef7dzGRRddlEWLFmXhwoWZNGlS2tvbM2fOnC7P8uCDD6alpSXlcjkTJ048lIcJwEFobm7OmWeemUsvvTRTpkxJpVLJiy+++Lvb2Lvi9ttvT+/evTNmzJjU19dn27Ztqa2tzR133JHx48fnvPPOS+/evfPMM88cwiMBoKtKlX/yjVUAAADAYeUKOgAAABSAQAcAAIACEOgAAABQAAIdAAAACkCgAwAAQAEIdAAAACgAgQ4AAAAFINABAACgAAQ6AAAAFIBABwAAgAIQ6AAAAFAAAh0AAAAKQKADAABAAQh0AAAAKACBDgAAAAUg0AEAAKAABDoAAAAUwP8BQGwvuZeebb8AAAAASUVORK5CYII=\" width=\"500px\" height=\"500px  alt=\"Chart Image\"/>\n",
              "<table>\n",
              "  <thead>\n",
              "    <tr>\n",
              "      <th>Category</th>\n",
              "      <th>Count</th>\n",
              "      <th>Points</th>\n",
              "    </tr>\n",
              "  </thead>\n",
              "  <tbody>\n",
              "\n",
              "    <tr>\n",
              "      <td>Removed</td>\n",
              "      <td>-6</td>\n",
              "      <td>-31.0</td>\n",
              "    </tr>\n",
              "    \n",
              "    <tr>\n",
              "      <td>Completed</td>\n",
              "      <td>4</td>\n",
              "      <td>29.0</td>\n",
              "    </tr>\n",
              "    \n",
              "    <tr>\n",
              "      <td>Completed Outside</td>\n",
              "      <td>2</td>\n",
              "      <td>0</td>\n",
              "    </tr>\n",
              "    \n",
              "    <tr>\n",
              "      <td>InProgress</td>\n",
              "      <td>9</td>\n",
              "      <td>59.0</td>\n",
              "    </tr>\n",
              "    \n",
              "    <tr>\n",
              "      <td>ToDo</td>\n",
              "      <td>0</td>\n",
              "      <td>0</td>\n",
              "    </tr>\n",
              "    \n",
              "  </tbody>\n",
              "</table>\n"
            ]
          },
          "metadata": {}
        },
        {
          "output_type": "stream",
          "name": "stdout",
          "text": [
            "PI8 Sprint 0 - Core\n",
            "\n",
            "19/Feb/25 2:36 PM\n",
            "04/Mar/25 11:30 PM\n",
            "Number of business days is: 7\n"
          ]
        }
      ]
    }
  ]
}