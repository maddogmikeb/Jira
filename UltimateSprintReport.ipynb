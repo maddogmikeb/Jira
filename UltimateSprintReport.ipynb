{
  "nbformat": 4,
  "nbformat_minor": 0,
  "metadata": {
    "colab": {
      "provenance": [],
      "authorship_tag": "ABX9TyMvgoohN4HO2tdVpQ/3LkbK",
      "include_colab_link": true
    },
    "kernelspec": {
      "name": "python3",
      "display_name": "Python 3"
    },
    "language_info": {
      "name": "python"
    }
  },
  "cells": [
    {
      "cell_type": "markdown",
      "metadata": {
        "id": "view-in-github",
        "colab_type": "text"
      },
      "source": [
        "<a href=\"https://colab.research.google.com/github/maddogmikeb/Jira/blob/master/UltimateSprintReport.ipynb\" target=\"_parent\"><img src=\"https://colab.research.google.com/assets/colab-badge.svg\" alt=\"Open In Colab\"/></a>"
      ]
    },
    {
      "cell_type": "code",
      "source": [
        "# install dependencies\n",
        "\n",
        "from IPython.core.display import clear_output\n",
        "\n",
        "!pip install -q atlassian-python-api\n",
        "!pip install -q tqdm\n",
        "!pip install -q matplotlib\n",
        "\n",
        "clear_output()"
      ],
      "metadata": {
        "id": "6jUcIj44rZot"
      },
      "execution_count": 1,
      "outputs": []
    },
    {
      "cell_type": "code",
      "source": [
        "from IPython.core.display import clear_output\n",
        "\n",
        "sprint_report_url = input(\"Please enter the 'classic Jira sprint report' url:\")\n",
        "\n",
        "clear_output()"
      ],
      "metadata": {
        "id": "hwRcsQ_5_Mpv"
      },
      "execution_count": 2,
      "outputs": []
    },
    {
      "cell_type": "code",
      "source": [
        "# Configure display\n",
        "\n",
        "from IPython.core.display import clear_output\n",
        "from google.colab import data_table\n",
        "import json\n",
        "\n",
        "data_table.enable_dataframe_formatter()\n",
        "\n",
        "def printjson(obj):\n",
        "  print(json.dumps(obj, indent=2))\n",
        "\n",
        "clear_output()"
      ],
      "metadata": {
        "id": "MW2i_WiP_oei"
      },
      "execution_count": 3,
      "outputs": []
    },
    {
      "cell_type": "code",
      "source": [
        "# Log in\n",
        "\n",
        "from IPython.core.display import display, HTML, clear_output\n",
        "from atlassian import Jira\n",
        "from google.colab import userdata\n",
        "from urllib.parse import urlparse\n",
        "import re\n",
        "\n",
        "def parse_url(url):\n",
        "    pattern = r\"(https?)://([^/]+)/jira/software/c/projects/([^/]+)/boards/(\\d+)/reports/sprint-retrospective\\?sprint=(\\d+)\"\n",
        "    match = re.search(pattern, url)\n",
        "    if match:\n",
        "        protocol = match.group(1)\n",
        "        base_url = match.group(2)\n",
        "        project = match.group(3)\n",
        "        rapidViewId = match.group(4)\n",
        "        sprintId = match.group(5)\n",
        "        full_base_url = f\"{protocol}://{base_url}\"\n",
        "        return full_base_url, project, rapidViewId, sprintId\n",
        "    else:\n",
        "        return None, None, None, None\n",
        "\n",
        "base_url, project, rapidViewId, sprintId = parse_url(sprint_report_url)\n",
        "\n",
        "jira = Jira(\n",
        "  url=base_url,\n",
        "  username=userdata.get('atlassian_username'),\n",
        "  password=userdata.get('atlassian_apikey'),\n",
        "  cloud=True\n",
        ")\n",
        "\n",
        "me = jira.myself()\n",
        "\n",
        "display(HTML('<table><tr><td>' + me[\"displayName\"] + '</td><td><img src=\"' + me[\"avatarUrls\"][\"32x32\"] + '\"/><td></tr></table>'))\n"
      ],
      "metadata": {
        "colab": {
          "base_uri": "https://localhost:8080/",
          "height": 59
        },
        "id": "8Iq2UW-RIDDT",
        "outputId": "7f7cb092-aec7-44f6-97af-95e5a3a84c5b"
      },
      "execution_count": 4,
      "outputs": [
        {
          "output_type": "display_data",
          "data": {
            "text/plain": [
              "<IPython.core.display.HTML object>"
            ],
            "text/html": [
              "<table><tr><td>Mike Burns</td><td><img src=\"https://avatar-management--avatars.us-west-2.prod.public.atl-paas.net/712020:d9c65884-1656-4f68-827c-32ec1a4ae098/2b84f57d-857a-4828-9cfe-4aa7b8843673/32\"/><td></tr></table>"
            ]
          },
          "metadata": {}
        }
      ]
    },
    {
      "cell_type": "code",
      "source": [
        "import numpy as np\n",
        "import matplotlib.pyplot as plt\n",
        "import io\n",
        "from PIL import Image\n",
        "\n",
        "def fig2img(fig):\n",
        "  # Convert a Matplotlib figure to a PIL Image and return it\n",
        "  buf = io.BytesIO()\n",
        "  fig.savefig(buf)\n",
        "  buf.seek(0)\n",
        "  img = Image.open(buf)\n",
        "  return img\n",
        "\n",
        "class DataPoint:\n",
        "  def __init__(self, name, count, points, color, hatch, edgeColor):\n",
        "    self.name = name\n",
        "    self.count = count\n",
        "    self.points = points\n",
        "    self.color = color\n",
        "    self.hatch = hatch\n",
        "    self.edgeColor = edgeColor\n",
        "\n",
        "  def getValues(self):\n",
        "    return [self.count, self.points]\n",
        "\n",
        "def cumulateData(dataArray):\n",
        "  data = np.array(dataArray)\n",
        "  data_shape = np.shape(data)\n",
        "\n",
        "  # Take negative and positive data apart and cumulate\n",
        "  def get_cumulated_array(data, **kwargs):\n",
        "      cum = data.clip(**kwargs)\n",
        "      cum = np.cumsum(cum, axis=0)\n",
        "      d = np.zeros(np.shape(data))\n",
        "      d[1:] = cum[:-1]\n",
        "      return d\n",
        "\n",
        "  cumulated_data = get_cumulated_array(data, min=0)\n",
        "  cumulated_data_neg = get_cumulated_array(data, max=0)\n",
        "\n",
        "  # Re-merge negative and positive data.\n",
        "  row_mask = (data<0)\n",
        "  cumulated_data[row_mask] = cumulated_data_neg[row_mask]\n",
        "  data_stack = cumulated_data\n",
        "\n",
        "  return data, data_shape, data_stack"
      ],
      "metadata": {
        "id": "x8yDY2S993pd"
      },
      "execution_count": 39,
      "outputs": []
    },
    {
      "cell_type": "code",
      "source": [
        "status_categories = jira.get(\"/rest/api/2/statuscategory\")"
      ],
      "metadata": {
        "id": "4KyXf_PoX5jW"
      },
      "execution_count": 6,
      "outputs": []
    },
    {
      "cell_type": "code",
      "source": [
        "sprint_report = json.loads(jira.request(absolute=True, method=\"GET\", path=\"{base_url}{path}?rapidViewId={rapidViewId}&sprintId={sprintId}\".format(base_url = base_url, path=\"/rest/greenhopper/latest/rapid/charts/sprintreport\", rapidViewId=rapidViewId, sprintId=sprintId)).content)"
      ],
      "metadata": {
        "id": "_AxhlzOvyjWO"
      },
      "execution_count": 7,
      "outputs": []
    },
    {
      "cell_type": "code",
      "source": [
        "response = json.loads(jira.request(absolute=True, method=\"GET\", path=\"{base_url}{path}?rapidViewId={rapidViewId}\".format(base_url = base_url, path=\"/rest/greenhopper/1.0/rapid/charts/velocity.json\", rapidViewId=rapidViewId)).content)\n",
        "velocity_statistics = response\n",
        "sprint_velocity_statistics = velocity_statistics['velocityStatEntries'][str(sprintId)]"
      ],
      "metadata": {
        "id": "lf6BBaId4Y61"
      },
      "execution_count": 8,
      "outputs": []
    },
    {
      "cell_type": "code",
      "source": [
        "ToDoEstimate = 0\n",
        "ToDoCount = 0\n",
        "ProgressEstimate = 0\n",
        "ProgressCount = 0\n",
        "\n",
        "TODO_KEY_ID =  str([x['id'] for x in status_categories if x['name'] == 'To Do'][0])\n",
        "INPROGRESS_KEY_ID  = str([x['id'] for x in status_categories if x['name'] == 'In Progress'][0])\n",
        "\n",
        "for issue in sprint_report[\"contents\"][\"issuesNotCompletedInCurrentSprint\"]:\n",
        "  if issue[\"status\"][\"statusCategory\"]['id'] == TODO_KEY_ID:\n",
        "    ToDoCount += 1\n",
        "    ToDoEstimate += issue['estimateStatistic']['statFieldValue']['value']\n",
        "\n",
        "  if issue[\"status\"][\"statusCategory\"]['id'] == INPROGRESS_KEY_ID:\n",
        "    ProgressCount += 1\n",
        "    ProgressEstimate += issue['estimateStatistic']['statFieldValue']['value'] if \"value\" in issue['estimateStatistic']['statFieldValue'] else 0\n",
        "\n",
        "Removed = DataPoint(\n",
        "    'Removed',\n",
        "    -1 * len(sprint_report[\"contents\"][\"puntedIssues\"]),\n",
        "    -1 * sprint_report[\"contents\"]['puntedIssuesEstimateSum']['value'] if \"value\" in sprint_report[\"contents\"][\"puntedIssuesEstimateSum\"] else 0,\n",
        "    '#d04437',\n",
        "    None,\n",
        "    '#ccc'\n",
        "  )\n",
        "\n",
        "ToDo = DataPoint(\n",
        "    'ToDo',\n",
        "    ToDoCount,\n",
        "    ToDoEstimate,\n",
        "    '#091E420F',\n",
        "    None,\n",
        "    '#44546F'\n",
        "  )\n",
        "\n",
        "InProgress = DataPoint(\n",
        "    'InProgress',\n",
        "    ProgressCount,\n",
        "    ProgressEstimate,\n",
        "    '#deebff',\n",
        "    None,\n",
        "    '#0055CC'\n",
        "  )\n",
        "\n",
        "Done = DataPoint(\n",
        "    'Completed',\n",
        "    len(sprint_report[\"contents\"][\"completedIssues\"]),\n",
        "    sprint_report[\"contents\"][\"completedIssuesEstimateSum\"]['value'] if \"value\" in sprint_report[\"contents\"][\"completedIssuesEstimateSum\"] else 0,\n",
        "    '#e3fcef',\n",
        "    None,\n",
        "    '#216E4E'\n",
        "  )\n",
        "\n",
        "CompletedOutside = DataPoint(\n",
        "    'Completed Outside',\n",
        "    len(sprint_report[\"contents\"][\"issuesCompletedInAnotherSprint\"]),\n",
        "    sprint_report[\"contents\"][\"issuesCompletedInAnotherSprintEstimateSum\"]['value'] if \"value\" in sprint_report[\"contents\"][\"issuesCompletedInAnotherSprintEstimateSum\"] else 0,\n",
        "    '#e3fcef',\n",
        "    'X',\n",
        "    '#216E4E'\n",
        "  )\n",
        "\n",
        "TotalCommitted = [\n",
        "    len(sprint_velocity_statistics[\"allConsideredIssueKeys\"]),\n",
        "    sprint_velocity_statistics[\"estimated\"][\"value\"] if 'value' in sprint_velocity_statistics[\"estimated\"] else 0\n",
        "  ]\n"
      ],
      "metadata": {
        "id": "zGK09IiMhP4V"
      },
      "execution_count": 40,
      "outputs": []
    },
    {
      "cell_type": "code",
      "source": [
        "from IPython.core.display import display, HTML, clear_output\n",
        "import numpy as np\n",
        "import matplotlib.pyplot as plt\n",
        "from matplotlib.lines import Line2D\n",
        "from matplotlib.patches import Patch\n",
        "import base64\n",
        "\n",
        "col_labels = ['Count', 'Points']\n",
        "\n",
        "cols = [Removed.color, Done.color, CompletedOutside.color, InProgress.color, ToDo.color]\n",
        "edgeColors = [Removed.edgeColor, Done.edgeColor, CompletedOutside.edgeColor, InProgress.edgeColor, ToDo.edgeColor]\n",
        "hatch = [Removed.hatch, Done.hatch, CompletedOutside.hatch, InProgress.hatch, ToDo.hatch]\n",
        "values = [Removed.getValues(), Done.getValues(), CompletedOutside.getValues(), InProgress.getValues(), ToDo.getValues()]\n",
        "\n",
        "data, data_shape, data_stack = cumulateData(values)\n",
        "\n",
        "clear_output(wait=True)\n",
        "\n",
        "_, ax = plt.subplots(figsize=(10, 10))  # Make the chart 3x bigger\n",
        "\n",
        "for i in np.arange(0, data_shape[0]):\n",
        "  bars = ax.bar(np.arange(data_shape[1]), data[i], bottom=data_stack[i], color=cols[i], edgecolor=edgeColors[i], hatch=hatch[i], width=0.5)\n",
        "  for bar in bars:\n",
        "     height = bar.get_height()\n",
        "     ax.text(bar.get_x() + bar.get_width() / 2, bar.get_y() + height / 2, f'{int(height)}', ha='center', va='center', color='black', fontweight='bold')\n",
        "\n",
        "for i in range(len(TotalCommitted)):\n",
        "  ax.vlines(x=i-0.4, ymin=0, ymax=(TotalCommitted[i]), color='#8590a2', linestyle='solid', linewidth=5,)\n",
        "  ax.text(i-0.4, (TotalCommitted[i])+0.4, f'{(str(TotalCommitted[i]).rjust(3))}', color='black', horizontalalignment='center', fontweight='bold')\n",
        "\n",
        "ax.set_xticks(np.arange(data_shape[1]))\n",
        "ax.set_xticklabels(col_labels)\n",
        "\n",
        "ax.axhline(0, color='black', linewidth=0.8)\n",
        "\n",
        "legend_elements = [\n",
        "    Line2D([0], [0], color='#8590a2', lw=2, label='Committed'),\n",
        "    Patch(facecolor=ToDo.color, edgecolor=ToDo.edgeColor, label=ToDo.name),\n",
        "    Patch(facecolor=InProgress.color, edgecolor=InProgress.edgeColor, label=InProgress.name),\n",
        "    Patch(facecolor=Done.color, edgecolor=Done.edgeColor, label=Done.name),\n",
        "    Patch(facecolor=CompletedOutside.color, edgecolor=CompletedOutside.edgeColor, hatch=\"X\", label=CompletedOutside.name),\n",
        "    Patch(facecolor=Removed.color, edgecolor=Removed.edgeColor, label=Removed.name)\n",
        "  ]\n",
        "\n",
        "ax.legend(handles=legend_elements, bbox_to_anchor=(1.05, 1), loc='upper left')\n",
        "\n",
        "ax.set_ylim(top=ax.get_ylim()[1] * 1.1)\n",
        "\n",
        "plt.tight_layout()\n",
        "\n",
        "buf = io.BytesIO()\n",
        "plt.savefig(buf, format='png', pad_inches=0.5)\n",
        "buf.seek(0)\n",
        "image_base64 = base64.b64encode(buf.read()).decode('utf-8')\n",
        "\n",
        "committed_vs_planned_chart = f'<img src=\"data:image/png;base64,{image_base64}\" width=\"500px\" height=\"500px  alt=\"Chart Image\"/>'\n",
        "\n",
        "clear_output(wait=True)"
      ],
      "metadata": {
        "colab": {
          "base_uri": "https://localhost:8080/",
          "height": 1000
        },
        "id": "KUR7UqSc43jf",
        "outputId": "f9d8290f-12a3-4c61-b701-dd8f2f67db47",
        "collapsed": true
      },
      "execution_count": 42,
      "outputs": [
        {
          "output_type": "display_data",
          "data": {
            "text/plain": [
              "<Figure size 1000x1000 with 1 Axes>"
            ],
            "image/png": "[encoded data removed]"
          },
          "metadata": {}
        }
      ]
    },
    {
      "cell_type": "code",
      "source": [
        "# prompt: given the above chart create a html table that represents the data shown\n",
        "\n",
        "from IPython.display import HTML\n",
        "\n",
        "# Sample data (replace with your actual data)\n",
        "data = {\n",
        "    'Category': ['Removed', 'Completed', 'Completed Outside', 'InProgress', 'ToDo'],\n",
        "    'Count': [Removed.count, Done.count, CompletedOutside.count, InProgress.count, ToDo.count],\n",
        "    'Points': [Removed.points, Done.points, CompletedOutside.points, InProgress.points, ToDo.points]\n",
        "}\n",
        "\n",
        "html_table = \"\"\"\n",
        "\"\"\" + committed_vs_planned_chart + \"\"\"\n",
        "<table>\n",
        "  <thead>\n",
        "    <tr>\n",
        "      <th>Category</th>\n",
        "      <th>Count</th>\n",
        "      <th>Points</th>\n",
        "    </tr>\n",
        "  </thead>\n",
        "  <tbody>\n",
        "\"\"\"\n",
        "\n",
        "for i in range(len(data['Category'])):\n",
        "    html_table += f\"\"\"\n",
        "    <tr>\n",
        "      <td>{data['Category'][i]}</td>\n",
        "      <td>{data['Count'][i]}</td>\n",
        "      <td>{data['Points'][i]}</td>\n",
        "    </tr>\n",
        "    \"\"\"\n",
        "\n",
        "html_table += \"\"\"\n",
        "  </tbody>\n",
        "</table>\n",
        "\"\"\"\n",
        "\n",
        "display(HTML(html_table))\n"
      ],
      "metadata": {
        "id": "jIHH-U-kINjl",
        "outputId": "24097032-7885-4f67-9bf8-b8a3d0cb6ad2",
        "colab": {
          "base_uri": "https://localhost:8080/",
          "height": 651
        }
      },
      "execution_count": 35,
      "outputs": [
        {
          "output_type": "display_data",
          "data": {
            "text/plain": [
              "<IPython.core.display.HTML object>"
            ],
            "text/html": [
              "\n",
              "<img src=\"data:image/png;base64,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\" width=\"500px\" height=\"500px  alt=\"Chart Image\"/>\n",
              "<table>\n",
              "  <thead>\n",
              "    <tr>\n",
              "      <th>Category</th>\n",
              "      <th>Count</th>\n",
              "      <th>Points</th>\n",
              "    </tr>\n",
              "  </thead>\n",
              "  <tbody>\n",
              "\n",
              "    <tr>\n",
              "      <td>Removed</td>\n",
              "      <td>-6</td>\n",
              "      <td>-31.0</td>\n",
              "    </tr>\n",
              "    \n",
              "    <tr>\n",
              "      <td>Completed</td>\n",
              "      <td>4</td>\n",
              "      <td>29.0</td>\n",
              "    </tr>\n",
              "    \n",
              "    <tr>\n",
              "      <td>Completed Outside</td>\n",
              "      <td>2</td>\n",
              "      <td>0</td>\n",
              "    </tr>\n",
              "    \n",
              "    <tr>\n",
              "      <td>InProgress</td>\n",
              "      <td>9</td>\n",
              "      <td>59.0</td>\n",
              "    </tr>\n",
              "    \n",
              "    <tr>\n",
              "      <td>ToDo</td>\n",
              "      <td>0</td>\n",
              "      <td>0</td>\n",
              "    </tr>\n",
              "    \n",
              "  </tbody>\n",
              "</table>\n"
            ]
          },
          "metadata": {}
        }
      ]
    }
  ]
}